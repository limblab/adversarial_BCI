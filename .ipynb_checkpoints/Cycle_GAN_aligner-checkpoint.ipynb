{
 "cells": [
  {
   "cell_type": "markdown",
   "id": "649e0e69-fe9b-4210-aaba-6a6cd926383c",
   "metadata": {},
   "source": [
    "# Using adversarial networks to extend brain computer interface decoding accuracy over time"
   ]
  },
  {
   "cell_type": "markdown",
   "id": "9b985ecf-486c-4bb4-b65c-be066cfb9618",
   "metadata": {},
   "source": [
    "## The problem -- the performance of a well-calibrated iBCI decoder degrades over time"
   ]
  },
  {
   "cell_type": "markdown",
   "id": "17f214c9-d345-45ce-be49-f0f827907fb5",
   "metadata": {},
   "source": [
    "Intracortical brain-computer interfaces (iBCIs) uses a \"decoder\" to translate the moment-to-moment neural activity into a signal for intended movements, so as to help restore lost motor functions for people with paralysis (Figure 1A). \n",
    "\n",
    "The instability in neural recordings is a major hurdle to the long-term stability of iBCIs. Let's imagine the following case. On day-0, a BCI decoder is well calibrated and learned by the user. As time goes, usually we will see substantial changes in acquired neural signals on day-k. Such changes would hurt the performance of the well-calibrated day-0 decoder a lot (see Figure 1B) so that the intent of the user cannot be accurately predicted any more.    \n",
    "\n",
    "One way to solve this problem is to simply recalibrate the decoder with newly acquired data. Apparently, the normal use of the BCI system would be interrupted during recalibration, and it will take additional time and efforts for the user to learn the recalibrated decoder.\n",
    "\n",
    "![fig1](./images/fig1.png)\n",
    "*Figure 1 A) The decoder for intracortical brain-computer interfaces (iBCIs). B) A well-calibrated decoder could produce accurate estimations of the EMGs on day-0, but failed on day-k.*"
   ]
  },
  {
   "cell_type": "markdown",
   "id": "dd74a941-5e1c-46b2-a96f-73789007f219",
   "metadata": {},
   "source": [
    "## We propose to use adversarial networks to extend brain computer interface decoding accuracy over time"
   ]
  },
  {
   "cell_type": "markdown",
   "id": "acf6f3f7-4f58-42cc-8f52-7dcdc0d3ec5a",
   "metadata": {},
   "source": [
    "An ideal iBCI would accommodate the instabilities in neural recordings without supervision, thereby minimizing the need to periodically learn new decoders. But, how to do it? \n",
    "\n",
    "As mentioned above, it is mainly due to the changes of neural signals from day-0 to day-k that a well-calibrated day-0 decoder failed on day-k. If we apply some transformation on day-k neural signals to make them similar to day-0 neural signals, would the performance of the day-0 decoder be maintained on day-k? [Our preprint](https://www.biorxiv.org/content/10.1101/2022.08.26.504777v1) shows that this notion is feasible to extend BCI decoding accuracy over time. \n",
    "\n",
    "In our study, we use Cycle-Consistent Adversarial Networks (Cycle-GAN, Zhu et al., 2017, originally proposed for unpaired image-to-image translation) to implement such transformation on day-k neural signals. The results we obtained showed that even ~3 months after decoder training the performance of the day-0 decoder can be maintained if using Cycle-GAN to **\"align\"** the full-dimentional neural signals. We call this process **\"alignment\"**, and use Cycle-GAN as the **\"aligner\"**. We also showed that Cycle-GAN is easy to train, and such alignment can be done on continuous recordings, which means, there is no need to align trials according to specific behavioral events.\n",
    "\n",
    "This notebook will walk you through this approach using a dataset collected from a monkey who kept doing a motor task over 90 days.\n",
    "![fig2](./images/exp_background.png)\n",
    "*Figure 2 The isometric wrist center-out task*"
   ]
  },
  {
   "cell_type": "markdown",
   "id": "06648178-8368-4083-976b-43c0b5a7435f",
   "metadata": {},
   "source": [
    "## Datasets"
   ]
  },
  {
   "cell_type": "markdown",
   "id": "49005b80-8187-4ea3-80de-9ac150f3e1ea",
   "metadata": {},
   "source": [
    "The datasets are from a monkey (monkey J) doing an isometric wrist torque task. This task requires the monkey to control the cursor on the screen by exerting forces on a small box placed around one of the hands. The box was padded to comfortably constrain the monkey’s hand and minimize its movement within the box, and the forces were measured by a 6 DOF load cell (JR3 Inc., CA) aligned to the wrist joint. During the task, flexion/extension force moved the cursor right and left respectively, while force along the radial/ulnar deviation axis moved the cursor up and down. Each trial started with the appearance of a center target requiring the monkeys to hold for a random time (0.2 – 1.0 s), after which one of eight possible outer targets selected in a block-randomized fashion appeared, accompanied with an auditory go cue. The monkey was allowed to move the cursor to the target within 2.0 s and hold for 0.8 s to receive a liquid reward (Figure 2). For both decoding and alignment analyses, we only used the data within each single trial (from ‘trial start’ to ‘trial end’, Figure 2). **We did not do any temporal alignment with the trials, so the lengths of the trials were different from each other**. \n",
    "\n",
    "This dataset could be downloaded from Dryad. We are going to use [xds](https://github.com/limblab/xds) package to load the data. Please see another notebook to learn more about `xds`.\n",
    "\n",
    "Two packages need to be downloaded and included in your `Python` path.\n",
    "The first is `xds` for data loading, which could be downloaded via this [link](https://github.com/limblab/xds).\n",
    "The second is `decoder_standard` for BCI decoder training. We will use functions `train_wiener_filter` and `test_wiener_filter` to train Wiener filter based BCI decoders. These codes could be download from [here](https://github.com/xuanma/decoder_standard)."
   ]
  },
  {
   "cell_type": "markdown",
   "id": "d7069076-a6fc-4b17-9ad3-d09b7a6d068a",
   "metadata": {},
   "source": [
    "### Load necessary packages and put the directories of `xds` and `decoder_standard` in the path"
   ]
  },
  {
   "cell_type": "code",
   "execution_count": 1,
   "id": "b78a3588-caee-4192-bd09-e081d378c5c4",
   "metadata": {},
   "outputs": [],
   "source": [
    "import fnmatch, os, sys\n",
    "sys.path.append('/path to xds/xds/')\n",
    "sys.path.append('/path to decoder_standard/decoder_standard')"
   ]
  },
  {
   "cell_type": "code",
   "execution_count": 2,
   "id": "f1e15fa8-054f-48c3-a7cd-7cf0cc083e99",
   "metadata": {},
   "outputs": [],
   "source": [
    "from IPython.display import clear_output\n",
    "import numpy as np\n",
    "from xds import lab_data\n",
    "from dateutil.parser import parse\n",
    "import pickle\n",
    "from datetime import datetime"
   ]
  },
  {
   "cell_type": "markdown",
   "id": "ab8ca10c-e5d2-42e8-a980-f3e92072e338",
   "metadata": {},
   "source": [
    "### Load data and do preprocessing"
   ]
  },
  {
   "cell_type": "markdown",
   "id": "3bd94458-8cb3-45d5-8190-5b7c9997f23a",
   "metadata": {},
   "source": [
    "M1 activity was recorded using a Cerebus system (Blackrock Neurotech, Inc.). The signals on each channel were digitalized, bandpass filtered (250 ~ 5000 Hz) and converted to spike times based on threshold crossings. The threshold was set with respect to the root-mean square (RMS) activity on each channel and kept consistent across different recording days (-5.5 x RMS). The time stamp and a 1.6 ms snippet of each spike surrounding the time of threshold crossing were recorded. For all analyses here, we used multiunit threshold crossings on each channel instead of discriminating well isolated single units. We applied a Gaussian kernel (S.D. = 100 ms) to the spike counts in 50 ms, non-overlapping bins to obtain a smoothed estimate of firing rate as function of time for each channel.\n",
    "\n",
    "One addtional preprocessing step for M1 spike firing rates is illustrated below. If no spike is detected on a channel (electrode) the recording system will skip it, therefore resulting in inconsistent number of channles on different days. To keep the number of M1 channels consistent across different recording days, we pad the empty channels on day-k (Figure 3A, E3 and E5 on day-k) with all zeros.\n",
    "\n",
    "The EMG signals were differentially amplified, band-pass filtered (4-pole, 50 ~ 500 Hz) and sampled at 2000 Hz. The EMGs were subsequently digitally rectified and low-pass filtered (4-pole, 10 Hz, Butterworth) and subsampled to 20 Hz (Figure 3B). EMG channels with substantial noise were not included in the analyses, and data points of each channel were clipped to be no larger than the mean plus 6 times the S.D. of that channel. Within each recording session, we removed the baseline of each EMG channel by subtracting the 2nd percentile of the amplitudes and normalized each channel to the 90th percentile."
   ]
  },
  {
   "cell_type": "markdown",
   "id": "be69af83-e6a8-47d2-abed-b71ccebd7cb1",
   "metadata": {},
   "source": [
    "<img src=\"./images/preprocessing.png\" style = \"width: 800px\" align=\"left\"/>"
   ]
  },
  {
   "cell_type": "markdown",
   "id": "41cd91bf-b474-4954-9499-b1ccfb153db0",
   "metadata": {},
   "source": [
    "*Figure 3 Preprocessing for M1 spike firing rates and EMGs. A) The zero-padding step for empty channels on day-k. B) From raw EMGs to EMG envolops*"
   ]
  },
  {
   "cell_type": "markdown",
   "id": "53c337ab-b722-4c9d-86dd-e741b31e330f",
   "metadata": {},
   "source": [
    "All data files are stored under the directory of `./data`. Below we will scan the directory and list the names of the data files. The data files are named like **`monkey_date_number.mat`**"
   ]
  },
  {
   "cell_type": "code",
   "execution_count": 3,
   "id": "93d06908-4950-447d-aeca-bae07d2314b3",
   "metadata": {},
   "outputs": [
    {
     "name": "stdout",
     "output_type": "stream",
     "text": [
      "['Jango_20150730_001.mat' 'Jango_20150731_001.mat'\n",
      " 'Jango_20150806_001.mat' 'Jango_20150908_001.mat'\n",
      " 'Jango_20151029_001.mat']\n"
     ]
    }
   ],
   "source": [
    "%load_ext autoreload\n",
    "%autoreload 2\n",
    "\n",
    "data_path = './data/'\n",
    "mat_list = np.sort(fnmatch.filter(os.listdir(data_path+'raw_data/'), \"*.mat\")) # We sorted the files by name.\n",
    "print(mat_list)"
   ]
  },
  {
   "cell_type": "markdown",
   "id": "a11af636-1c08-4032-be15-134c0af4849c",
   "metadata": {},
   "source": [
    "Here we will use the data recorded on **07/30/2015** as the day-0 data. Therefore, we need to load the file **`Jango_20150730_001.mat`** first. We named the variables associated with this file as **`day0_XXX`**. For day-k data, in this notebook we will use the data recorded on **10/29/2015**, so we will need to load **`Jango_20151029_001.mat`**. Likewise, we named the variables associated with day-k as **`dayk_XXX`**."
   ]
  },
  {
   "cell_type": "code",
   "execution_count": 4,
   "id": "29deda30-2ef4-406f-aa9c-831b991c88da",
   "metadata": {},
   "outputs": [
    {
     "name": "stdout",
     "output_type": "stream",
     "text": [
      "Trials with nan timings have been removed!\n",
      "The new bin size is 0.0500 s\n",
      "The new bin size is 0.0500 s\n",
      "=============================================================\n",
      "Day-0 data contains 162 trials.\n",
      "The 46th trial on day-0 contains 54 time steps.\n",
      "Cortical data on day-0 contains 96 channels.\n",
      "EMG data on day-0 contains 7 muscles.\n"
     ]
    }
   ],
   "source": [
    "from utils import emg_preprocessing, spike_preprocessing\n",
    "\n",
    "bin_size = 0.05 # As mentioned above, we use 50 ms bins to calculate the spike counts\n",
    "smooth_size = 0.1 # As mentioned above, we use Gaussian kernels (S.D. = 100 ms) to smooth the binned spikes\n",
    "N_elec = 96 # The monkey was implanted with a 96-channel Utah array\n",
    "\n",
    "#============================================= Load day-0 data ==================================================================#\n",
    "day0_data = lab_data(data_path+'raw_data/', 'Jango_20150730_001.mat') # Load the data using the lab_data class in xds.py\n",
    "day0_data.update_bin_data(bin_size)  # Bin the spikes with the specified bin_size\n",
    "day0_data.smooth_binned_spikes(bin_size, 'gaussian', smooth_size) # Smooth the binned spike counts\n",
    "day0_unit_names = day0_data.unit_names\n",
    "#-------- Extract smoothed spike counts in trials without temporal alignment --------#\n",
    "day0_spike = day0_data.get_trials_data_spike_counts('R', 'start_time', 0.0, 'end_time', 0)\n",
    "day0_EMG_names = day0_data.EMG_names\n",
    "#-------- Extract EMG envelops in trials without temporal alignment --------#\n",
    "day0_EMG = day0_data.get_trials_data_EMG('R', 'start_time', 0.0, 'end_time', 0)\n",
    "day0_EMG = emg_preprocessing(day0_EMG) # outlier removal and normalization\n",
    "\n",
    "#============================================= Load day-k data ==================================================================#\n",
    "dayk_data = lab_data(data_path+'raw_data/', 'Jango_20151029_001.mat')\n",
    "dayk_data.update_bin_data(bin_size)  \n",
    "dayk_data.smooth_binned_spikes(bin_size, 'gaussian', smooth_size)\n",
    "dayk_unit_names = dayk_data.unit_names\n",
    "#-------- Extract smoothed spike counts in trials without temporal alignment --------#\n",
    "dayk_spike = dayk_data.get_trials_data_spike_counts('R', 'start_time', 0.0, 'end_time', 0)\n",
    "dayk_EMG_names = dayk_data.EMG_names\n",
    "#-------- Extract EMG envelops in trials without temporal alignment --------#\n",
    "dayk_EMG = dayk_data.get_trials_data_EMG('R', 'start_time', 0.0, 'end_time', 0)\n",
    "dayk_EMG = emg_preprocessing(dayk_EMG)\n",
    "\n",
    "#============================================= Pre-processing ==================================================================#\n",
    "day0_spike, dayk_spike = spike_preprocessing(day0_unit_names, dayk_unit_names, day0_spike, dayk_spike) # zero-padding empty channels\n",
    "\n",
    "#============================================= variable information ============================================================#\n",
    "print('=============================================================')\n",
    "print('Day-0 data contains %d trials.'%(len(day0_spike)))\n",
    "print('The %dth trial on day-0 contains %d time steps.'%(46, day0_spike[46].shape[0]))\n",
    "print('Cortical data on day-0 contains %d channels.'%(day0_spike[46].shape[1]))\n",
    "print('EMG data on day-0 contains %d muscles.'%(day0_EMG[46].shape[1]))"
   ]
  },
  {
   "cell_type": "markdown",
   "id": "463b0e95-8f55-4332-a9e5-66b722a78b09",
   "metadata": {},
   "source": [
    "Below is a list showing the names of the variables and meanings:\n",
    "* `day0_data`: a `lab_data` object for storing and managing data recorded on day-0.\n",
    "* `day0_unit_names`: unit names for day-0 M1 recordings. Since we **did not** do spike sorting, these names are actually the names for the electrodes.\n",
    "* `day0_spike`: a list storing the smoothed spike counts obtained on day-0. Each item in the list is a `numpy` array with shape (number of time bins, number of channels/electrodes), corresonding to a trial.\n",
    "* `day0_EMG`: a list storing the EMG envelops obtained on day-0. Each item in the list is a `numpy` array with shape (number of time bins, number of muscles), corresonding to a trial.\n",
    "* `dayk_data`: a `lab_data` object for storing and managing data recorded on day-k.\n",
    "* `dayk_unit_names`: unit names for day-k M1 recordings.\n",
    "* `dayk_spike`: a list storing the smoothed spike counts obtained on day-k.\n",
    "* `dayk_EMG`: a list storing the EMG envelops obtained on day-k."
   ]
  },
  {
   "cell_type": "markdown",
   "id": "d47b4998-e645-417f-a786-14b035d5d9fd",
   "metadata": {},
   "source": [
    "### Selecting the first 160 trials for each day"
   ]
  },
  {
   "cell_type": "markdown",
   "id": "eaedbf2e-4536-4af3-9256-346a7bf5d9dd",
   "metadata": {},
   "source": [
    "To control the amount of training and testing data in an easier manner, we will only use the first 160 trials on each day for all the analyses below."
   ]
  },
  {
   "cell_type": "code",
   "execution_count": 5,
   "id": "61df8fa2-d55d-45c1-aebb-491d3315fb0b",
   "metadata": {},
   "outputs": [],
   "source": [
    "trial_num = 160\n",
    "day0_spike_ = day0_spike[:trial_num]\n",
    "day0_EMG_ = day0_EMG[:trial_num]\n",
    "dayk_spike_ = dayk_spike[:trial_num]\n",
    "dayk_EMG_ = dayk_EMG[:trial_num]"
   ]
  },
  {
   "cell_type": "markdown",
   "id": "8c1f90b5-30a7-4990-9925-49bd40aec192",
   "metadata": {},
   "source": [
    "The meanings of the variables:\n",
    "* `day0_spike_`: the first 160 trials of `day0_spike`.  \n",
    "* `day0_EMG_`: the first 160 trials of `day0_EMG`.\n",
    "* `dayk_spike_`: the first 160 trials of `dayk_spike`. \n",
    "* `dayk_EMG_`: the first 160 trials of `dayk_EMG`."
   ]
  },
  {
   "cell_type": "markdown",
   "id": "498b2c9b-bd76-418d-acb8-b918da7f7ea5",
   "metadata": {},
   "source": [
    "## Train linear decoders using the day-0 data (4-fold cross validation)"
   ]
  },
  {
   "cell_type": "markdown",
   "id": "19334ec3-3daf-4b0b-97b6-a915b07d9a81",
   "metadata": {},
   "source": [
    "Here we use a Wiener filter to predict the EMGs from M1 neural activity. This type of decoder have been widely used in the past (Cherian, Krucoff, and Miller 2011; Naufel et al. 2019). The filter uses linear regression to predict the EMGs at time t with the given inputs stretching from present to T time bins in the past. We set T = 4 (200 ms) for the decoders here.\n",
    "\n",
    "Specifically, a Wiener filter can be written in this form:\n",
    "$$\n",
    "\\boldsymbol{y} (t)=\\sum_{\\tau=0}^{T-1}\\boldsymbol{\\beta}(\\tau)\\boldsymbol{x}(t-\\tau)\n",
    "$$\n",
    "\n",
    "where $\\boldsymbol{y}(t)$ is a q-dimensional vector ($q$ varied with the number of recorded EMGs) representing the EMGs to be predicted at time $t$, while $\\boldsymbol{x}(t)$ is a $p$-dimensional vector for the inputs to the Wiener filter at time $t$ ($p=96$ in this case, which is the number of the electrodes in the cortical array), and $\\boldsymbol{\\beta}(\\tau)$ is a $q\\times p$ matrix corresponding to the filter parameters for time step $\\tau$.\n",
    "\n",
    "Of course, we can also write the equation for the Wiener filter in a matrix form:\n",
    "$$\n",
    "\\boldsymbol{Y} = \\boldsymbol{X}\\boldsymbol{B}\n",
    "$$\n",
    "\n",
    "where $\\boldsymbol{Y}$ is a $M\\times q$ matrix for the EMGs to be predicted with $M$ being the number of samples, $\\boldsymbol{X}$ is a $M\\times (T\\times p)$ matrix, and $\\boldsymbol{B}$ is a $(T \\times p)\\times q$ matrix for the regression coefficients to be estimated.\n",
    "\n",
    "A commonly used technique to prevent overfitting when estimating $\\boldsymbol{B}$ is to add an *L2* regularization term in the cost function of the regression. Here we will take advantage of this technique. In function `train_wiener_filter` there is an option `l2` to indicate if the *L2* regularization is needed. `l2 = True` for *YES*, while `l2 = False` for *NO*.\n",
    "\n",
    "<img src=\"./images/wiener_filter.png\" style = \"width: 800px\" align=\"center\"/>\n",
    "\n",
    "*Figure 4 A Wiener filter based BCI decoder*"
   ]
  },
  {
   "cell_type": "markdown",
   "id": "df6610d3-bee5-4cf7-8c0d-a7139b1f2279",
   "metadata": {},
   "source": [
    "Before the actual decoder training, we need to format the input data to fit the requirements of the Wiener filter. Below is a toy example, where $T=4, p=4, q=2$, and 10 time steps are shown.\n",
    "\n",
    "<img src=\"./images/wiener_filter_format.png\" style = \"width: 800px\" align=\"center\"/>\n",
    "<img src=\"./images/wiener_filter_format_2.png\" style = \"width: 800px\" align=\"center\"/>\n",
    "\n",
    "*Figure 5 Format input data to fit the requirement of the Wiener filter*\n",
    "\n",
    "In this case, X will have $4\\times4$ columns, and Y still has 2 columns. Since the first 3 time steps would be a blind zone for the Wiener filter, we should get $10-4+1 = 7$ training samples from the 10 time steps. In order to use the data from multiple trials as the training data, we will need to do this reshaping for each trial, and then concatenate them together. The function `format_data_from_trials` is used to do this job.\n",
    "\n",
    "To evaluate the goodness of fit for the EMGs on a specific muscle, we could use the coefficient of determination, namely, the $R^{2}$, which is defined below:\n",
    "\n",
    "$$\n",
    "R^{2}(y, \\hat{y}) = 1-\\frac{\\sum_{i=1}^{N}(\\hat{y}_{i}-y_{i})^2}{\\sum_{i=1}^{N}(y_{i}-\\bar{y}_{i})^2}\n",
    "$$\n",
    "\n",
    "Here $N$ represents the total number of samples used to compute the $R^2$ value, and both $y$ and $\\hat{y}$ are for one single muscle. If there are 11 muscles, then we will have 11 $R^2$ values for all the muscles.\n",
    "\n",
    "What if we want to use a single number to quantify the prediction accuracy of the decoder? To do this, we can use a multi-variate $R^2$ defined as below:\n",
    "\n",
    "$$\n",
    "mR^{2}(y, \\hat{y}) = 1-\\frac{\\sum_{m=1}^{M}\\sum_{i=1}^{N}(\\hat{y}_{i,m}-y_{i,m})^2}{\\sum_{m=1}^{M}\\sum_{i=1}^{N}(y_{i,m}-\\bar{y}_{i,m})^2}\n",
    "$$\n",
    "\n",
    "Here M represents the number of muscles. \n",
    "\n",
    "Regarding this metric, please read our [our preprint](https://www.biorxiv.org/content/10.1101/2022.08.26.504777v1) for more information.\n",
    "\n",
    "Finally, we will pick the best decoder through the 4-fold CV, and save it for the tests below. This could be implemented by the function `kFold` in *scikit-learn* package."
   ]
  },
  {
   "cell_type": "code",
   "execution_count": 6,
   "id": "68b508c8-333c-4274-9fcd-4bdbc28f33e7",
   "metadata": {},
   "outputs": [
    {
     "name": "stdout",
     "output_type": "stream",
     "text": [
      "The multi-variate r2 values for all the folds are:\n",
      "['0.70', '0.72', '0.73', '0.68']\n"
     ]
    }
   ],
   "source": [
    "from wiener_filter import format_data_from_trials, train_wiener_filter, test_wiener_filter\n",
    "from sklearn.model_selection import KFold\n",
    "from sklearn.metrics import r2_score\n",
    "\n",
    "n_lags = 4 # the number of time lags in Wiener filter\n",
    "kf = KFold(n_splits=4, shuffle=False)\n",
    "\n",
    "decoder_list = [] # for decoder saving\n",
    "mr2_list = [] # for multi-variate r2 saving\n",
    "for train_idx, test_idx in kf.split(day0_spike_):\n",
    "    #------ select training trials from the specified fold ------#\n",
    "    x_train = [day0_spike_[i] for i in train_idx]\n",
    "    y_train = [day0_EMG_[i] for i in train_idx]\n",
    "    #------ format data to fit the requirements of Wiener filter ------#\n",
    "    x_train_, y_train_ = format_data_from_trials(x_train, y_train, n_lags)\n",
    "    #------ train a Wiener filter based decoder ------#\n",
    "    H = train_wiener_filter(x_train_, y_train_, l2 = 1) \n",
    "    \n",
    "    #------ select testing trials from the specified fold ------#\n",
    "    x_test = [day0_spike_[i] for i in test_idx]\n",
    "    y_test = [day0_EMG_[i] for i in test_idx]\n",
    "    #------ format data to fit the requirements of Wiener filter ------#\n",
    "    x_test_, y_test_ = format_data_from_trials(x_test, y_test, n_lags)\n",
    "    #------ test a Wiener filter based decoder ------#\n",
    "    pred_y_test_ = test_wiener_filter(x_test_, H)\n",
    "    \n",
    "    mr2 = r2_score(y_test_, pred_y_test_, multioutput = 'variance_weighted')\n",
    "    mr2_list.append(format(mr2, '.2f'))\n",
    "    decoder_list.append(H)\n",
    "    clear_output()\n",
    "\n",
    "print('The multi-variate r2 values for all the folds are:')\n",
    "print(mr2_list)\n",
    "\n",
    "#========================================= Save the decoder from the best fold ==========================================#\n",
    "np.save('./decoder/Day-0 decoder.npy', decoder_list[np.argmax(mr2_list)])    \n",
    "    "
   ]
  },
  {
   "cell_type": "markdown",
   "id": "62bb25cb-417d-42da-ba81-853051964b8b",
   "metadata": {},
   "source": [
    "Important variables:\n",
    "* pred_y_test: the predicted EMG in the testing trials, a numpy array containing concatenated trials.\n",
    "* mr2: the multi-variate $R^2$ between the actual and predicted EMGs in the testing set.\n",
    "\n",
    "Important functions:\n",
    "* `[x_, y_] = format_data_from_trials(x, y, n_lags)`:\n",
    "  - x: a list, where each element is a numpy array containing the spike firing rates for a trial\n",
    "  - y: a list, where each element is a numpy array containing the EMGs for a trial\n",
    "  - n_lags: a number indicating the number of time lags for Wiener filter\n",
    "  \n",
    "  returns:\n",
    "  - x_: x after formatting\n",
    "  - y_: y after formatting\n",
    "\n",
    "* `H = train_wiener_filter(x, y, l2 = 1)`:\n",
    "  - x: a numpy array, formatted spike firing rates for concatenated trials\n",
    "  - y: a numpy array, formatted EMGs for concatenated trials\n",
    "  - l2: bool, a label to indicate if L2 regularization term is needed\n",
    "  \n",
    "  returns:\n",
    "  - H: the decoder coefficients matrix\n",
    "  \n",
    "* `pred_y = test_wiener_filter(x, H)`\n",
    "  - x: a numpy array, formatted spike firing rates for concatenated trials\n",
    "  - H: the decoder coefficients matrix\n",
    "  \n",
    "  returns:\n",
    "  - pred_y: a numpy array, EMGs predicted by the decoder, in concatenated trials"
   ]
  },
  {
   "cell_type": "markdown",
   "id": "f707362a-20d7-477d-b32e-f9faefc9c493",
   "metadata": {},
   "source": [
    "### However, this decoder cannot yield good predictions on day-k data"
   ]
  },
  {
   "cell_type": "markdown",
   "id": "4366e8c0-c742-4c87-83c3-9291161e02b5",
   "metadata": {},
   "source": [
    "Here we will use the first 40 trials on day-k to test the trained (saved) day-0 decoder."
   ]
  },
  {
   "cell_type": "code",
   "execution_count": 14,
   "id": "0e1520bf-2d9b-45b6-9743-460e3d10583c",
   "metadata": {},
   "outputs": [
    {
     "name": "stdout",
     "output_type": "stream",
     "text": [
      "The multi-variate R² of the EMGs predicted by the day-0 decoder on day-k is 0.28\n"
     ]
    }
   ],
   "source": [
    "# ==================================== Select test trials on day-k and format =======================================#\n",
    "x_test = [dayk_spike_[i] for i in range(40)]\n",
    "y_test = [dayk_EMG_[i] for i in range(40)]\n",
    "x_test_, y_test_ = format_data_from_trials(x_test, y_test, n_lags)\n",
    "\n",
    "# ==================================== Load the saved decoder and use day-k data to test =======================================#\n",
    "day0_decoder = np.load('./decoder/Day-0 decoder.npy')\n",
    "pred_y_test_ = test_wiener_filter(x_test_, H)\n",
    "mr2 = r2_score(y_test_, pred_y_test_, multioutput = 'variance_weighted')\n",
    "mr2 = format(mr2, '.2f')\n",
    "print('The multi-variate R\\u00b2 of the EMGs predicted by the day-0 decoder on day-k is %s'%(mr2))\n",
    "\n",
    "# ======================== The r2 for individual muscles (for the plotting in the next cell) =========================#\n",
    "r2 = r2_score(y_test_, pred_y_test_, multioutput = 'raw_values')"
   ]
  },
  {
   "cell_type": "markdown",
   "id": "8be5abf4-4a8e-4e64-b17f-1b7e5e10c1d3",
   "metadata": {},
   "source": [
    "### Let's plot the EMGs predicted by the previously trained day-0 decoder"
   ]
  },
  {
   "cell_type": "code",
   "execution_count": 15,
   "id": "c034c64c-2a63-45a8-b7ac-97ffc4d03b83",
   "metadata": {},
   "outputs": [
    {
     "data": {
      "image/png": "[encoded data removed]",
      "text/plain": [
       "<Figure size 500x600 with 7 Axes>"
      ]
     },
     "metadata": {},
     "output_type": "display_data"
    }
   ],
   "source": [
    "from utils import plot_actual_and_pred_EMG\n",
    "day0_decoder = np.load('./decoder/Day-0 decoder.npy')\n",
    "plot_actual_and_pred_EMG('Using day-0 decoder to predict EMGs on day-k', \n",
    "                         dayk_spike_, dayk_EMG_, day0_decoder, bin_size, n_lags, 8, r2, dayk_EMG_names, 'orange')"
   ]
  },
  {
   "cell_type": "markdown",
   "id": "4631f05b-c549-445a-bb66-d3a0e5ee5f27",
   "metadata": {},
   "source": [
    "In each panel, the black traces are the actual day-k EMGs, while the orange traces are the EMGs predicted by the decoder. The numbers are the $R^2$ values of the EMG predictions for individual muscles. Gray lines indicate individual trials. From these figures, we could learn that although the predictions for some muscles (ECRl) remain good, the predictions for most muscles are quite different of the real EMGs"
   ]
  },
  {
   "cell_type": "markdown",
   "id": "c43f758e-72d9-456b-a2e6-8a4ddffb27e3",
   "metadata": {},
   "source": [
    "## Define the blocks for the Cycle-GAN based aligner"
   ]
  },
  {
   "cell_type": "markdown",
   "id": "c34ce2e8-2597-4639-b1ec-a28255ae0dda",
   "metadata": {},
   "source": [
    "Now we are going to build the Cycle-GAN based aligner described in [Our preprint](https://www.biorxiv.org/content/10.1101/2022.08.26.504777v1). We will train it with a certain number of trials. We will test the performance of the day-0 decoder after aligning day-k data using the Cycle-GAN based aligner. We will use `pytorch` for all the implementations. Since our approach is quite effecient, a CPU is already good enough for the training, while a GPU may not be used.\n",
    "\n",
    "First let's define the architectures of the generator networks and the discriminator networks. We will write two `python` classes to implement them. \n",
    "\n",
    "Unlike the original Cycle-GAN for image translation jobs, we did not use convolutional neural networks. We did not use recurrent neural networks either. Here all the networks are simple feedforward neural networks with a single hidden layer. We added drop-out layers in the networks as it is a widely used neural network training technique."
   ]
  },
  {
   "cell_type": "markdown",
   "id": "fbd5270d-a31e-4f4c-ad76-2b110495111c",
   "metadata": {},
   "source": [
    "### The definition of the generator network"
   ]
  },
  {
   "cell_type": "markdown",
   "id": "318430cf-3c95-42d5-a031-afc687821681",
   "metadata": {},
   "source": [
    "The Cycle-GAN generators are shallow feedforward neural networks with one hidden layer. They took N channels of spike firing rates as the input, and output N channels of aligned spike firing rates. "
   ]
  },
  {
   "cell_type": "markdown",
   "id": "5d79562f-993a-4b27-9fce-3e1ba8c19edc",
   "metadata": {},
   "source": [
    "<img src=\"./images/generator_network.png\" style = \"width: 400px\" align=\"left\"/>"
   ]
  },
  {
   "cell_type": "code",
   "execution_count": 16,
   "id": "6d215e8c-75c9-49ae-a9f7-946152a5d712",
   "metadata": {},
   "outputs": [],
   "source": [
    "import torch\n",
    "import torch.nn as nn\n",
    "import torch.optim as optim\n",
    "from torch.utils.data import DataLoader\n",
    "\n",
    "class Generator(nn.Module):\n",
    "    def __init__(self, input_dim, hidden_dim, drop_out):\n",
    "        \"\"\"\n",
    "        input_dim: the number of input channels.\n",
    "        hidden_dim: the number of neurons in the hidden layer.\n",
    "        drop_out: drop-out rate.\n",
    "        \"\"\"\n",
    "        super(Generator, self).__init__()\n",
    "        self.input_dim = input_dim\n",
    "        self.hidden_dim = hidden_dim\n",
    "        self.drop_out = drop_out\n",
    "        self.model = nn.Sequential(\n",
    "            nn.Linear(self.input_dim, self.hidden_dim),\n",
    "            nn.Dropout(self.drop_out), \n",
    "            nn.ELU(),\n",
    "            nn.Linear(self.hidden_dim, self.hidden_dim),\n",
    "            nn.Dropout(self.drop_out), \n",
    "            nn.ELU(),\n",
    "            nn.Linear(self.hidden_dim, self.input_dim),\n",
    "            nn.ELU()\n",
    "        )\n",
    "\n",
    "    def forward(self, input):\n",
    "        \"\"\"\n",
    "        input: spike firing rate data\n",
    "        x: transformed spike firing rate data\n",
    "        \"\"\"\n",
    "        x = self.model(input)\n",
    "        return x"
   ]
  },
  {
   "cell_type": "markdown",
   "id": "885566da-d09c-441d-9e36-78474f716490",
   "metadata": {},
   "source": [
    "### The definition of the discriminator network"
   ]
  },
  {
   "cell_type": "markdown",
   "id": "8f081f3e-b8ba-45e1-af54-04463f5f3dda",
   "metadata": {},
   "source": [
    "The discriminators are also shallow feedforward neural networks with one hidden layer. The input layer and the hidden layer both have N neurons, while the output layer has 1 neuron, as the output is a class label indicating which distribution the input sample belongs to. "
   ]
  },
  {
   "cell_type": "markdown",
   "id": "264f4d5a-f7f3-4876-93ac-6fbc996e651f",
   "metadata": {},
   "source": [
    "<img src=\"./images/discriminator_network.png\" style = \"width: 350px\" align=\"left\"/>"
   ]
  },
  {
   "cell_type": "code",
   "execution_count": 17,
   "id": "8191fccc-cc13-46bd-be65-eade717a1290",
   "metadata": {},
   "outputs": [],
   "source": [
    "class Discriminator(nn.Module):\n",
    "    def __init__(self, input_dim, hidden_dim, drop_out):\n",
    "        \"\"\"\n",
    "        input_dim: the number of input channels.\n",
    "        hidden_dim: the number of neurons in the hidden layer.\n",
    "        drop_out: drop-out rate.\n",
    "        \"\"\"\n",
    "        super(Discriminator, self).__init__()\n",
    "        self.input_dim = input_dim\n",
    "        self.hidden_dim = hidden_dim\n",
    "        self.drop_out = drop_out\n",
    "        self.model = nn.Sequential(\n",
    "            nn.Linear(self.input_dim, self.hidden_dim),\n",
    "            nn.Dropout(self.drop_out),\n",
    "            nn.ELU(),\n",
    "            nn.Linear(self.hidden_dim, self.hidden_dim),\n",
    "            nn.Dropout(self.drop_out),\n",
    "            nn.ELU(),\n",
    "            nn.Linear(self.hidden_dim, 1)\n",
    "        )\n",
    "\n",
    "    def forward(self, input):\n",
    "        \"\"\"\n",
    "        input: spike firing rate data\n",
    "        return: a label indicating if the input data is real or fake\n",
    "        \"\"\"\n",
    "        label = self.model(input)\n",
    "        return label"
   ]
  },
  {
   "cell_type": "markdown",
   "id": "228fc834-f5c2-4fb9-b0cc-7311c226a21d",
   "metadata": {
    "tags": []
   },
   "source": [
    "## Train and test a Cycle-GAN based aligner"
   ]
  },
  {
   "cell_type": "markdown",
   "id": "1d228a31-2a9d-466d-8abe-fbef51169e67",
   "metadata": {},
   "source": [
    "The Cycle-GAN aligner is based on the structure proposed in (Zhu et al., 2017). Cycle-GAN consists of two feedforward generator neural networks (generator1 and generator2) and two discriminator networks (discriminator1 and discriminator2), see the figure below. These form two pairs of adversarial networks: generator2 maps data from the day-k domain to the day-0 domain, while discriminator2 aims to distinguish between the day-0 samples and the output of generator2. And in parallel, generator1 maps data in the day-0 domain to the day-k domain, while discriminator1 distinguishes day-k data from output of generator1.\n",
    "\n",
    "The objective function for network training has two major terms. The first is an adversarial loss, defined for both generator-discriminator pairs. The second term is known as the cycle-consistency loss, which pushes the mappings generator1 and generator2 to become inverses of each other: that is, a sample from one specific domain should be recovered to its original form after going through the cycle composed of the two mappings. As argued by Zhu et al, the introduction of the cycle-consistency loss regularizes the learning of the mapping functions, thereby reducing the search space. In the figure below, the purple arrows through generator2 and generator1 reflect the transformation of each sample from the day-k domain into the day-0 domain by generator2, followed by the recovery from the day-0 domain into the day-k domain by generator1. Likewise, the orange arrows through generator1 and generator2 reflect a transformation from the day-0 domain to the day-k domain and back to the day-0 domain. "
   ]
  },
  {
   "cell_type": "markdown",
   "id": "581133c8-76ec-41df-a9aa-379a3a4eec24",
   "metadata": {},
   "source": [
    "![cycle_gan_structure](./images/cycle_gan_structure.png)"
   ]
  },
  {
   "cell_type": "markdown",
   "id": "0fb5a8eb-9947-4ee7-b2b8-3de1c22e1b8a",
   "metadata": {
    "tags": []
   },
   "source": [
    "### Write a function to train a Cycle-GAN based aligner"
   ]
  },
  {
   "cell_type": "markdown",
   "id": "9d3625cf-3f5f-4dd3-95c0-f41ae6e3b477",
   "metadata": {},
   "source": [
    "This function is a little long, since we need to specify the hyper-parameters in it, and need to instantiate the modules of Cycle-GAN, and also need to lead the outputs of each module to the right ports as shown above. Therefore, the codes below are heavily commented."
   ]
  },
  {
   "cell_type": "code",
   "execution_count": 18,
   "id": "8de61a13-6392-4b59-a4f3-133b3ab9072e",
   "metadata": {},
   "outputs": [],
   "source": [
    "def train_cycle_gan_aligner(x1, x2, y2, D_params, G_params, training_params, decoder, n_lags, logs = True):\n",
    "    \"\"\"\n",
    "    x1: M1 spike firing rates on day-0. A list, where each item is a numpy array containing the neural data of one trial\n",
    "    \n",
    "    x2: M1 spike firing rates on day-k. A list, where each item is a numpy array containing the neural data of one trial\n",
    "        x2 will be divided into two portions (ratio 3:1), where the first portion will be used to train the aligner, and \n",
    "        the second portion will be used as the validation set.\n",
    "    \n",
    "    y2: EMGs on day-k. A list, where each item is a numpy array containing the EMGs of one trial. Only a portion of y2\n",
    "        (those corresponding to the trials used as the validation set) will be used.\n",
    "    \n",
    "    D_params: the hyper-parameters determining the structure of the discriminators, a dictionary.\n",
    "    \n",
    "    G_params: the hyper-parameters determining the structure of the generators, a dictionary.\n",
    "    \n",
    "    training_parameters: the hyper-parameters controlling the training process, a dictionary.\n",
    "    \n",
    "    decoder: the day-0 decoder to be tested on the validation set, an array.\n",
    "    \n",
    "    n_lags: the number of time lags of the decoder, a number.\n",
    "    \n",
    "    logs: to indicate if training logs is needed to be recorded as a .pkl file, a bool.\n",
    "    \n",
    "    return: a trained \"aligner\" (generator) for day-k use.\n",
    "    \"\"\"\n",
    "    #============================================= Specifying hyper-parameters =============================================\n",
    "    D_hidden_dim = D_params['hidden_dim']\n",
    "    G_hidden_dim = G_params['hidden_dim']\n",
    "    loss_type = training_params['loss_type']\n",
    "    optim_type = training_params['optim_type']\n",
    "    epochs = training_params['epochs']\n",
    "    batch_size = training_params['batch_size']\n",
    "    D_lr = training_params['D_lr']\n",
    "    G_lr = training_params['G_lr']\n",
    "    ID_loss_p = training_params['ID_loss_p']\n",
    "    cycle_loss_p = training_params['cycle_loss_p']\n",
    "    drop_out_D = training_params['drop_out_D']\n",
    "    drop_out_G = training_params['drop_out_G']\n",
    "    \n",
    "    #============================================= Defining networks ===================================================\n",
    "    x_dim = x1[0].shape[1]\n",
    "    generator1, generator2 = Generator(x_dim, G_hidden_dim, drop_out_G), Generator(x_dim, G_hidden_dim, drop_out_G)\n",
    "    discriminator1, discriminator2 = Discriminator(x_dim, D_hidden_dim, drop_out_D), Discriminator(x_dim, D_hidden_dim, drop_out_D)\n",
    "\n",
    "    #==================================== Specifying the type of the losses ===============================================\n",
    "    if loss_type == 'L1':\n",
    "        criterion_GAN = torch.nn.MSELoss()\n",
    "        criterion_cycle = torch.nn.L1Loss()\n",
    "        criterion_identity = torch.nn.L1Loss()\n",
    "    elif loss_type == 'MSE':\n",
    "        criterion_GAN = torch.nn.MSELoss()\n",
    "        criterion_cycle = torch.nn.MSELoss()\n",
    "        criterion_identity = torch.nn.MSELoss()\n",
    "\n",
    "    #====================================== Specifying the type of the optimizer ==============================================\n",
    "    if optim_type == 'SGD':\n",
    "        gen1_optim = optim.SGD(generator1.parameters(), lr = G_lr, momentum=0.9)\n",
    "        gen2_optim = optim.SGD(generator2.parameters(), lr = G_lr, momentum=0.9)\n",
    "        dis1_optim = optim.SGD(discriminator1.parameters(), lr = D_lr, momentum=0.9)\n",
    "        dis2_optim = optim.SGD(discriminator2.parameters(), lr = D_lr, momentum=0.9)\n",
    "    elif optim_type == 'Adam':\n",
    "        gen1_optim = optim.Adam(generator1.parameters(), lr = G_lr)\n",
    "        gen2_optim = optim.Adam(generator2.parameters(), lr = G_lr)\n",
    "        dis1_optim = optim.Adam(discriminator1.parameters(), lr = D_lr)\n",
    "        dis2_optim = optim.Adam(discriminator2.parameters(), lr = D_lr)\n",
    "    elif optim_type == 'RMSProp':\n",
    "        gen1_optim = optim.RMSprop(generator1.parameters(), lr = G_lr)\n",
    "        gen2_optim = optim.RMSprop(generator2.parameters(), lr = G_lr)\n",
    "        dis1_optim = optim.RMSprop(discriminator1.parameters(), lr = D_lr)\n",
    "        dis2_optim = optim.RMSprop(discriminator2.parameters(), lr = D_lr)\n",
    "\n",
    "    #=============================== Split x2 into the actual training set and the validation set ==============================\n",
    "    #----------- x2_train will be used in Cycle-GAN training -------------\n",
    "    x2_train = x2[:int(len(x2)*0.75)] # training set\n",
    "    \n",
    "    #------- x2_valid and y2_valid will be isolated from training, and used to test the performance of the aligner every 10 trials\n",
    "    x2_valid, y2_valid = x2[int(len(x2)*0.75):], y2[int(len(x2)*0.75):] # validation set\n",
    "    \n",
    "    #================================================  Define data Loaders ====================================================== \n",
    "    x1, x2_train = np.concatenate(x1), np.concatenate(x2_train)\n",
    "    #--------------- loader1 is for day-0 data ---------------------\n",
    "    loader1 = DataLoader(torch.utils.data.TensorDataset(torch.Tensor(x1)), batch_size = batch_size, shuffle = True)\n",
    "    #--------------- loader2 is for day-k data in the training set ---------------------\n",
    "    loader2 = DataLoader(torch.utils.data.TensorDataset(torch.Tensor(x2_train)), batch_size = batch_size, shuffle = True)\n",
    "    \n",
    "    #============================================ Training logs =========================================================\n",
    "    train_log = {'epoch':[], 'batch_idx': [],\n",
    "                 'loss D1':[], 'loss D2':[], \n",
    "                 'loss G1':[], 'loss G2':[],\n",
    "                 'loss cycle 121':[], 'loss cycle 212':[],\n",
    "                 'decoder r2 wiener': [],\n",
    "                 'decoder r2 rnn': []}\n",
    "    \n",
    "    #============================================ Preparing to train ========================================================\n",
    "    generator1.train()\n",
    "    generator2.train()\n",
    "    discriminator1.train()\n",
    "    discriminator2.train()\n",
    "    aligner_list = []\n",
    "    mr2_all_list = []\n",
    "\n",
    "    #================================================== The training loop ====================================================\n",
    "    for epoch in range(epochs):\n",
    "        for batch_idx, (data1_, data2_) in enumerate(zip(loader1, loader2)):\n",
    "            #========================= loader1 and loader2 will yield mini-batches of data when running =========================\n",
    "            #------ The batches by loader1 will be stored in data1, while the batches by loader2 will be stored in data2 ------\n",
    "            data1, data2 = data1_[0], data2_[0]\n",
    "            if data1.__len__() != data2.__len__():\n",
    "                continue\n",
    "            #------------ The labels for real samples --------------\n",
    "            target_real = torch.ones((data1.shape[0], 1), requires_grad = False).type('torch.FloatTensor')\n",
    "            #------------ The labels for fake samples --------------\n",
    "            target_fake = torch.zeros((data1.shape[0], 1), requires_grad = False).type('torch.FloatTensor')\n",
    "\n",
    "            #================================================== Generators ==================================================\n",
    "            gen1_optim.zero_grad()\n",
    "            gen2_optim.zero_grad()\n",
    "            \n",
    "            #------------ Identity loss, to make sure the generators do not distort the inputs --------------\n",
    "            same2 = generator1(data2)\n",
    "            loss_identity2 = criterion_identity(same2, data2)*ID_loss_p\n",
    "            same1 = generator2(data1)\n",
    "            loss_identity1 = criterion_identity(same1, data1)*ID_loss_p\n",
    "            \n",
    "            #------------ GAN loss for generator1, see the figure right above --------------\n",
    "            fake2 = generator1(data1)\n",
    "            pred_fake = discriminator2(fake2)\n",
    "            loss_GAN2 = criterion_GAN(pred_fake, target_real)\n",
    "            \n",
    "            #------------ GAN loss for generator2, see the figure right above --------------\n",
    "            fake1 = generator2(data2)\n",
    "            pred_fake = discriminator1(fake1)\n",
    "            loss_GAN1 = criterion_GAN(pred_fake, target_real)\n",
    "            \n",
    "            #------------ Cycle loss, see the figure right above --------------\n",
    "            recovered1 = generator2(fake2)\n",
    "            loss_cycle_121 = criterion_cycle(recovered1, data1)*cycle_loss_p\n",
    "            \n",
    "            recovered2 = generator1(fake1)\n",
    "            loss_cycle_212 = criterion_cycle(recovered2, data2)*cycle_loss_p\n",
    "            \n",
    "            #----------- Total loss of G, the sum of all the losses defined above -----------\n",
    "            loss_G = loss_identity1 + loss_identity2 + loss_GAN1 + loss_GAN2 + loss_cycle_121 + loss_cycle_212\n",
    "            \n",
    "            #-------- Backward() and step() for generators ---------\n",
    "            loss_G.backward() \n",
    "            gen1_optim.step()\n",
    "            gen2_optim.step()\n",
    "            \n",
    "            #================================================== Discriminator 1 ==================================================\n",
    "            dis1_optim.zero_grad()\n",
    "            \n",
    "            #-------------- Adversarial loss from discriminator 1, see the figure above ------------------\n",
    "            pred_real = discriminator1(data1)\n",
    "            loss_D_real = criterion_GAN(pred_real, target_real)\n",
    "            \n",
    "            pred_fake = discriminator1(generator2(data2).detach())\n",
    "            loss_D_fake = criterion_GAN(pred_fake, target_fake)\n",
    "            \n",
    "            loss_D1 = (loss_D_real + loss_D_fake)/2\n",
    "            \n",
    "            #-------- Backward() and step() for discriminator1 ---------\n",
    "            loss_D1.backward()\n",
    "            dis1_optim.step()\n",
    "            \n",
    "            #-------------- Adversarial loss from discriminator 2, see the figure above ------------------\n",
    "            dis2_optim.zero_grad()\n",
    "            \n",
    "            pred_real = discriminator2(data2)\n",
    "            loss_D_real = criterion_GAN(pred_real, target_real)\n",
    "            \n",
    "            pred_fake = discriminator2(generator1(data1).detach())\n",
    "            loss_D_fake = criterion_GAN(pred_fake, target_fake)\n",
    "            \n",
    "            loss_D2 = (loss_D_real + loss_D_fake)/2\n",
    "            \n",
    "            #-------- Backward() and step() for discriminator2 ---------\n",
    "            loss_D2.backward()\n",
    "            dis2_optim.step()\n",
    "            \n",
    "            #====================================== save the training logs ========================================\n",
    "            if logs == True:\n",
    "                train_log['epoch'].append(epoch)\n",
    "                train_log['batch_idx'].append(batch_idx)\n",
    "                train_log['loss D1'].append(loss_D1.item())\n",
    "                train_log['loss D2'].append(loss_D2.item())\n",
    "                train_log['loss G1'].append(loss_GAN1.item())\n",
    "                train_log['loss G2'].append(loss_GAN2.item())\n",
    "                train_log['loss cycle 121'].append(loss_cycle_121.item())\n",
    "                train_log['loss cycle 212'].append(loss_cycle_212.item())\n",
    "                \n",
    "        #================ Test the aligner every 10 epoches on the validation set, and report every 50 epoches ====================\n",
    "        if (epoch + 1) % 10 == 0:\n",
    "            #---------- Put generator2, namely the aligner, into evaluation mode ------------\n",
    "            generator2.eval()\n",
    "            \n",
    "            #---------- Use the trained aligner to transform the trials in x2_valid -----------\n",
    "            x2_valid_aligned = []\n",
    "            with torch.no_grad():  \n",
    "                for each in x2_valid:\n",
    "                    data = torch.from_numpy(each).type('torch.FloatTensor')\n",
    "                    x2_valid_aligned.append(generator2(data).numpy())\n",
    "            \n",
    "            #--------- Feed the day-0 decoder with x2_valid_aligned to evaluate the performance of the aligner ----------\n",
    "            x2_valid_aligned_, y2_valid_ = format_data_from_trials(x2_valid_aligned, y2_valid, n_lags)\n",
    "            pred_y2_valid_ = test_wiener_filter(x2_valid_aligned_, decoder)\n",
    "            \n",
    "            #--------- Compute the multi-variate R2 between pred_y2_valid (predicted EMGs) and y2_valid (real EMGs) ----------\n",
    "            mr2 = r2_score(y2_valid_, pred_y2_valid_, multioutput='variance_weighted')\n",
    "            if (epoch + 1)%50 == 0:\n",
    "                print('On the %dth epoch, the R\\u00b2 on the validation set is %.2f'%(epoch+1, mr2))\n",
    "            \n",
    "            #------- Save the half-trained aligners and the corresponding performance on the validation set ---------\n",
    "            aligner_list.append(generator2)\n",
    "            mr2_all_list.append(mr2)\n",
    "            \n",
    "            #---------- Put generator2 back into training mode after finishing the evaluation -----------\n",
    "            generator2.train()\n",
    "    \n",
    "    IDX = np.argmax(mr2_all_list) \n",
    "    print('The aligner has been well trained on the %dth epoch'%(IDX*10))\n",
    "    train_log['decoder r2 wiener'] = mr2_all_list\n",
    "    #============================================ save the training log =================================================\n",
    "    if logs == True:\n",
    "        dt_string = datetime.now().strftime(\"%m_%d_%Y_%H_%M_%S\")\n",
    "        with open('./train_logs/train_log_' + dt_string + '.pkl', 'wb') as fp:\n",
    "            pickle.dump(train_log, fp)        \n",
    "    \n",
    "    return aligner_list[IDX]"
   ]
  },
  {
   "cell_type": "markdown",
   "id": "61599714-09d2-484b-8b36-0a394db0f15c",
   "metadata": {},
   "source": [
    "### Write a function to test the trained aligner"
   ]
  },
  {
   "cell_type": "code",
   "execution_count": 19,
   "id": "2ace7bf8-88d4-47df-8ccf-ff333361d9f4",
   "metadata": {},
   "outputs": [],
   "source": [
    "def test_cycle_gan_aligner(net, dayk_data):\n",
    "    \"\"\"\n",
    "    net: the trained aligner\n",
    "    dayk_data: the data that needs to be processed by the trained aligner\n",
    "    \"\"\"\n",
    "    #------ Put the net in eval mode ------ #\n",
    "    aligner = net.eval()\n",
    "    dayk_aligned = []\n",
    "    \n",
    "    #------ Use the trained aligner to process the dayk_data ------#\n",
    "    with torch.no_grad():  \n",
    "        for each in dayk_data:\n",
    "            data_tensor = torch.from_numpy(each).type('torch.FloatTensor')\n",
    "            dayk_aligned.append(aligner(data_tensor).numpy())\n",
    "    \n",
    "    #------ Return the aligned day-k data --------#\n",
    "    return dayk_aligned"
   ]
  },
  {
   "cell_type": "markdown",
   "id": "a7bcca49-d280-4a00-af9a-700527414bdb",
   "metadata": {},
   "source": [
    "### Specify Hyper-parameters"
   ]
  },
  {
   "cell_type": "markdown",
   "id": "0e450730-2aed-4951-b739-7ebc26c06f57",
   "metadata": {},
   "source": [
    "There are a few hyper-parameters for the training of the Cycle-GAN based aligner. We organized them into 3 `Python` dictionaries:\n",
    "\n",
    "* D_params:\n",
    "  - hidden_dim: the number of neurons in the hidden layer for the discriminator networks\n",
    "\n",
    "* G_params:\n",
    "  - hidden_dim: the number of neurons in the hidden layer for the generator networks\n",
    "  \n",
    "* training_params:\n",
    "  - loss_type: the type of the loss function, can be *L1* or *MSE*\n",
    "  - optim_type: the type of the optimizer, can be *SGD*, *Adam*, or *RMSProp*\n",
    "  - epochs: the number of training epochs\n",
    "  - batch_size: the size of training batches\n",
    "  - D_lr: the learning rate for the discriminator networks\n",
    "  - G_lr: the learning rate for the generator networks\n",
    "  - ID_loss_p: a scaling factor for the identity loss\n",
    "  - cycle_loss_p: a scaling factor for the cycle_loss\n",
    "  - drop_out_D: the drop-out rate for the discriminators\n",
    "  - drop_out_G: the drop-out rate for the generators"
   ]
  },
  {
   "cell_type": "code",
   "execution_count": 20,
   "id": "6625c3dd-f1f4-440e-b622-5425f22b8d04",
   "metadata": {},
   "outputs": [],
   "source": [
    "#====================== These parameters controls the architecture of the discriminators =============================\n",
    "D_params = {}\n",
    "D_params['hidden_dim'] = int(day0_spike_[0].shape[1])\n",
    "\n",
    "#============================= These parameters controls the architecture of the generators =============================\n",
    "G_params = {}\n",
    "G_params['hidden_dim'] = int(day0_spike_[0].shape[1])\n",
    "\n",
    "#============================= These parameters are for the training process =============================\n",
    "training_params = {}\n",
    "training_params['loss_type'] = 'L1'\n",
    "training_params['optim_type'] = 'Adam'\n",
    "training_params['epochs'] = 400\n",
    "training_params['batch_size'] = 256\n",
    "training_params['D_lr'] = 0.001*10\n",
    "training_params['G_lr'] = 0.001\n",
    "training_params['ID_loss_p'] = 5\n",
    "training_params['cycle_loss_p'] = 5\n",
    "training_params['drop_out_D'] = 0.2\n",
    "training_params['drop_out_G'] = 0.2"
   ]
  },
  {
   "cell_type": "markdown",
   "id": "8e925296-d2a0-4741-8cce-3e775dcd25f4",
   "metadata": {},
   "source": [
    "### Train a cycle-gan based aligner using the function defined above"
   ]
  },
  {
   "cell_type": "markdown",
   "id": "6da06509-db72-45cf-9036-0d1f0f3910da",
   "metadata": {},
   "source": [
    "The figure below describes how we split the day-0 and day-k datasets for training and testing. Since Cycle-GAN tries to transform day-k data into a form resembling day-0 data, we will need both `day0_spike_` and `dayk_spike_` for the aligner training. We have found that the requirement for the amount of `day0_spike_` is not tight, so we include the first 50% of trials of `day0_spike_` in the training set (blue). We then split the `dayk_spike_` in to two portions, where the 75% of trials are for training, and 25% of trials are for testing (pink). Among the training trials, we further isolate 25% of trials to utilize as the validation set (green). The split of the validation set is implemented in the `train_cycle_gan_aligner` function.\n",
    "\n",
    "<img src=\"./images/data_split.png\" style = \"width: 500px\" align=\"center\"/>"
   ]
  },
  {
   "cell_type": "code",
   "execution_count": 21,
   "id": "2ae9aeed-c36d-4846-9f5c-28628301a105",
   "metadata": {},
   "outputs": [
    {
     "name": "stdout",
     "output_type": "stream",
     "text": [
      "On the 50th epoch, the R² on the validation set is 0.43\n",
      "On the 100th epoch, the R² on the validation set is 0.53\n",
      "On the 150th epoch, the R² on the validation set is 0.53\n",
      "On the 200th epoch, the R² on the validation set is 0.50\n",
      "On the 250th epoch, the R² on the validation set is 0.50\n",
      "On the 300th epoch, the R² on the validation set is 0.52\n",
      "On the 350th epoch, the R² on the validation set is 0.50\n",
      "On the 400th epoch, the R² on the validation set is 0.51\n",
      "The aligner has been well trained on the 140th epoch\n"
     ]
    },
    {
     "ename": "NameError",
     "evalue": "name 'acc_all_list' is not defined",
     "output_type": "error",
     "traceback": [
      "\u001b[0;31m---------------------------------------------------------------------------\u001b[0m",
      "\u001b[0;31mNameError\u001b[0m                                 Traceback (most recent call last)",
      "Cell \u001b[0;32mIn[21], line 8\u001b[0m\n\u001b[1;32m      3\u001b[0m \u001b[38;5;66;03m#======================================== Train the aligner ===============================================\u001b[39;00m\n\u001b[1;32m      4\u001b[0m \u001b[38;5;124;03m\"\"\"\u001b[39;00m\n\u001b[1;32m      5\u001b[0m \u001b[38;5;124;03mNote for each dataset there are 160 trials. 50% corresponds to 80 trials and 75% corresponds to 120 trials.\u001b[39;00m\n\u001b[1;32m      6\u001b[0m \u001b[38;5;124;03mThe split of the validation set is implemented in the `train_cycle_gan_aligner` function.\u001b[39;00m\n\u001b[1;32m      7\u001b[0m \u001b[38;5;124;03m\"\"\"\u001b[39;00m\n\u001b[0;32m----> 8\u001b[0m aligner \u001b[38;5;241m=\u001b[39m \u001b[43mtrain_cycle_gan_aligner\u001b[49m\u001b[43m(\u001b[49m\u001b[43mday0_spike_\u001b[49m\u001b[43m[\u001b[49m\u001b[43m:\u001b[49m\u001b[38;5;241;43m80\u001b[39;49m\u001b[43m]\u001b[49m\u001b[43m,\u001b[49m\u001b[43m \u001b[49m\u001b[43mdayk_spike_\u001b[49m\u001b[43m[\u001b[49m\u001b[43m:\u001b[49m\u001b[38;5;241;43m120\u001b[39;49m\u001b[43m]\u001b[49m\u001b[43m,\u001b[49m\u001b[43m \u001b[49m\u001b[43mdayk_EMG_\u001b[49m\u001b[43m[\u001b[49m\u001b[43m:\u001b[49m\u001b[38;5;241;43m120\u001b[39;49m\u001b[43m]\u001b[49m\u001b[43m,\u001b[49m\u001b[43m \u001b[49m\n\u001b[1;32m      9\u001b[0m \u001b[43m                                  \u001b[49m\u001b[43mD_params\u001b[49m\u001b[43m,\u001b[49m\u001b[43m \u001b[49m\u001b[43mG_params\u001b[49m\u001b[43m,\u001b[49m\u001b[43m \u001b[49m\u001b[43mtraining_params\u001b[49m\u001b[43m,\u001b[49m\u001b[43m \u001b[49m\u001b[43mday0_decoder\u001b[49m\u001b[43m,\u001b[49m\u001b[43m \u001b[49m\u001b[43mn_lags\u001b[49m\u001b[43m,\u001b[49m\u001b[43m \u001b[49m\u001b[38;5;28;43;01mTrue\u001b[39;49;00m\u001b[43m)\u001b[49m\n",
      "Cell \u001b[0;32mIn[18], line 222\u001b[0m, in \u001b[0;36mtrain_cycle_gan_aligner\u001b[0;34m(x1, x2, y2, D_params, G_params, training_params, decoder, n_lags, logs)\u001b[0m\n\u001b[1;32m    220\u001b[0m IDX \u001b[38;5;241m=\u001b[39m np\u001b[38;5;241m.\u001b[39margmax(mr2_all_list) \n\u001b[1;32m    221\u001b[0m \u001b[38;5;28mprint\u001b[39m(\u001b[38;5;124m'\u001b[39m\u001b[38;5;124mThe aligner has been well trained on the \u001b[39m\u001b[38;5;132;01m%d\u001b[39;00m\u001b[38;5;124mth epoch\u001b[39m\u001b[38;5;124m'\u001b[39m\u001b[38;5;241m%\u001b[39m(IDX\u001b[38;5;241m*\u001b[39m\u001b[38;5;241m10\u001b[39m))\n\u001b[0;32m--> 222\u001b[0m train_log[\u001b[38;5;124m'\u001b[39m\u001b[38;5;124mdecoder r2 wiener\u001b[39m\u001b[38;5;124m'\u001b[39m] \u001b[38;5;241m=\u001b[39m \u001b[43macc_all_list\u001b[49m\n\u001b[1;32m    223\u001b[0m \u001b[38;5;66;03m#============================================ save the training log =================================================\u001b[39;00m\n\u001b[1;32m    224\u001b[0m \u001b[38;5;28;01mif\u001b[39;00m logs \u001b[38;5;241m==\u001b[39m \u001b[38;5;28;01mTrue\u001b[39;00m:\n",
      "\u001b[0;31mNameError\u001b[0m: name 'acc_all_list' is not defined"
     ]
    }
   ],
   "source": [
    "#================================ Load the trained day-0 decoder ========================================\n",
    "day0_decoder = np.load('./decoder/Day-0 decoder.npy')\n",
    "#======================================== Train the aligner ===============================================\n",
    "\"\"\"\n",
    "Note for each dataset there are 160 trials. 50% corresponds to 80 trials and 75% corresponds to 120 trials.\n",
    "The split of the validation set is implemented in the `train_cycle_gan_aligner` function.\n",
    "\"\"\"\n",
    "aligner = train_cycle_gan_aligner(day0_spike_[:80], dayk_spike_[:120], dayk_EMG_[:120], \n",
    "                                  D_params, G_params, training_params, day0_decoder, n_lags, True)"
   ]
  },
  {
   "cell_type": "markdown",
   "id": "fd1c476b-eb90-48ca-a43e-04367b7b71d3",
   "metadata": {},
   "source": [
    "`aligner` returned by the function `train_cycle_gan_aligner` is the one we want to use. Below we are going to test its performance."
   ]
  },
  {
   "cell_type": "markdown",
   "id": "1c046079-6b05-487f-af47-32c6d7d7f75b",
   "metadata": {},
   "source": [
    "### Test the trained aligner"
   ]
  },
  {
   "cell_type": "markdown",
   "id": "d9d52199-9fe9-476e-8740-4eac728d9c4d",
   "metadata": {},
   "source": [
    "As mentioned above, we are going to use the last 25% of trials (trials 120 ~ 160) of day-k data for the testing. First, we will need to use the trained aligner stored in the variable `aligner` to process `dayk_spike_`. The processed data are stored in `dayk_spike_aligned`.\n",
    "\n",
    "We then load the trained day-0 decoder as shown above, then feed the decoder with `dayk_spike_aligned` (need to be formatted first). The outputs are saved in `pred_dayk_EMG_test_`. "
   ]
  },
  {
   "cell_type": "code",
   "execution_count": null,
   "id": "4a24375b-f2bc-4890-a8b4-5fe684cece42",
   "metadata": {},
   "outputs": [],
   "source": [
    "# ======================== Use function `test_cycle_gan_aligner` to process the day-k data =========================#\n",
    "dayk_spike_aligned = test_cycle_gan_aligner(aligner, dayk_spike_[120:])\n",
    "\n",
    "# ======================== Load the day-0 decoder, and feed it with the processed day-k data =======================#\n",
    "day0_decoder = np.load('./decoder/Day-0 decoder.npy')\n",
    "dayk_spike_aligned_, dayk_EMG_test_ = format_data_from_trials(dayk_spike_aligned, dayk_EMG_[120:], n_lags)\n",
    "pred_dayk_EMG_test_ = test_wiener_filter(dayk_spike_aligned_, day0_decoder)\n",
    "\n",
    "# ======================== Compute the multi-variate r2 between the predictions and the real EMGs =====================#\n",
    "mr2 = r2_score(dayk_EMG_test_, pred_dayk_EMG_test_, multioutput='variance_weighted')\n",
    "mr2 = format(mr2, '.2f')\n",
    "print('The day-0 decoder achieved a multi-variate R\\u00b2 of %.2f on day-k after the process of Cycle-GAN'%(mr2))\n",
    "\n",
    "# ======================== The r2 for individual muscles (for the plotting in the next cell) =========================#\n",
    "r2 = r2_score(dayk_EMG_test_, pred_dayk_EMG_test_, multioutput='raw_values')"
   ]
  },
  {
   "cell_type": "markdown",
   "id": "d7886f05-ee18-480e-95f0-0cc1aa6aba5c",
   "metadata": {},
   "source": [
    "### Let's plot the EMGs predicted by the trained day-0 decoder again, but after day-k spike firing rates being processed by Cycle-GAN"
   ]
  },
  {
   "cell_type": "code",
   "execution_count": null,
   "id": "267c7722-d966-4a4c-b7ee-37cf6ad77507",
   "metadata": {},
   "outputs": [],
   "source": [
    "plot_actual_and_pred_EMG('Using day-0 decoder to predict EMGs on day-k after the Cycle-GAN alignment', \n",
    "                         dayk_spike_aligned, dayk_EMG_[120:], decoder, bin_size, n_lags, 8, r2, dayk_EMG_names, 'green')"
   ]
  },
  {
   "cell_type": "markdown",
   "id": "63c10ee3-b261-4f5c-b556-c3c9ba133d44",
   "metadata": {},
   "source": [
    "For each panel, the black traces are real EMGs, and the green traces are the predictions by the day-0 decoder after Cycle-GAN alignment. Comparing to a similar figure generated above, the predictions here are much closer to the real signals. Same as above, the numbers are $R^2$ values for individual muscles, and the gray dashed lines separate individual trials."
   ]
  },
  {
   "cell_type": "markdown",
   "id": "c2cd3e86-1e8d-4365-ab8c-2451eeac2813",
   "metadata": {},
   "source": [
    "### Now let's plot the training logs"
   ]
  },
  {
   "cell_type": "markdown",
   "id": "cbd5b254-3bd4-4da7-826c-1ee016996c1d",
   "metadata": {},
   "source": [
    "We will use the function `plot_train_logs` in `utils.py` to load the training log file under the path `./train_logs/` and plot. If one wants to plot them in a log scale, the last option `log_scale` in `plot_train_logs` can be set to *True*."
   ]
  },
  {
   "cell_type": "code",
   "execution_count": null,
   "id": "6ce13d07-4087-4b30-9c42-031a557f5c36",
   "metadata": {},
   "outputs": [],
   "source": [
    "from utils import plot_train_logs\n",
    "log_file_name = np.sort(fnmatch.filter(os.listdir('./train_logs/'), \"*.pkl\"))[-1] # the last file by name in the directory is the most recent one\n",
    "plot_train_logs('./train_logs/', log_file_name, training_params['epochs'], log_scale = False)"
   ]
  },
  {
   "cell_type": "markdown",
   "id": "c5580be6-251f-40b3-97b0-4c8757952cae",
   "metadata": {},
   "source": [
    "The curves with red colors show generator losses across training epochs, while the curves with blue colors show discriminator losses. The gray curve shows the EMG decoding accuracy after Cycle-GAN alignment on the validation set (y-axis on the right side) across every 10 training epochs."
   ]
  }
 ],
 "metadata": {
  "kernelspec": {
   "display_name": "pytorch",
   "language": "python",
   "name": "pytorch"
  },
  "language_info": {
   "codemirror_mode": {
    "name": "ipython",
    "version": 3
   },
   "file_extension": ".py",
   "mimetype": "text/x-python",
   "name": "python",
   "nbconvert_exporter": "python",
   "pygments_lexer": "ipython3",
   "version": "3.10.11"
  }
 },
 "nbformat": 4,
 "nbformat_minor": 5
}
