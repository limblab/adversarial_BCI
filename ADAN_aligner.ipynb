{
 "cells": [
  {
   "cell_type": "markdown",
   "id": "649e0e69-fe9b-4210-aaba-6a6cd926383c",
   "metadata": {},
   "source": [
    "# Using adversarial networks to extend brain computer interface decoding accuracy over time"
   ]
  },
  {
   "cell_type": "markdown",
   "id": "9b985ecf-486c-4bb4-b65c-be066cfb9618",
   "metadata": {},
   "source": [
    "## The problem -- the performance of a well-calibrated iBCI decoder degrades over time"
   ]
  },
  {
   "cell_type": "markdown",
   "id": "17f214c9-d345-45ce-be49-f0f827907fb5",
   "metadata": {},
   "source": [
    "Intracortical brain-computer interfaces (iBCIs) uses a \"decoder\" to translate the moment-to-moment neural activity into a signal for intended movements, so as to help restore lost motor functions for people with paralysis (Figure 1A). \n",
    "\n",
    "The instability in neural recordings is a major hurdle to the long-term stability of iBCIs. Let's imagine the following case. On day-0, a BCI decoder is well calibrated and learned by the user. As time goes, usually we will see substantial changes in acquired neural signals on day-k. Such changes would hurt the performance of the well-calibrated day-0 decoder a lot (see Figure 1B) so that the intent of the user cannot be accurately predicted any more.    \n",
    "\n",
    "One way to solve this problem is to simply recalibrate the decoder with newly acquired data. Apparently, the normal use of the BCI system would be interrupted during recalibration, and it will take additional time and efforts for the user to learn the recalibrated decoder.\n",
    "\n",
    "![fig1](./images/fig1.png)\n",
    "*Figure 1 A) The decoder for intracortical brain-computer interfaces (iBCIs). B) A well-calibrated decoder could produce accurate estimations of the EMGs on day-0, but failed on day-k.*"
   ]
  },
  {
   "cell_type": "markdown",
   "id": "dd74a941-5e1c-46b2-a96f-73789007f219",
   "metadata": {},
   "source": [
    "## We propose to use adversarial networks to extend brain computer interface decoding accuracy over time"
   ]
  },
  {
   "cell_type": "markdown",
   "id": "acf6f3f7-4f58-42cc-8f52-7dcdc0d3ec5a",
   "metadata": {},
   "source": [
    "An ideal iBCI would accommodate the instabilities in neural recordings without supervision, thereby minimizing the need to periodically learn new decoders. But, how to do it? \n",
    "\n",
    "As mentioned above, it is mainly due to the changes of neural signals from day-0 to day-k that a well-calibrated day-0 decoder failed on day-k. If we apply some transformation on day-k neural signals to make them similar to day-0 neural signals, would the performance of the day-0 decoder be maintained on day-k? [Our preprint](https://www.biorxiv.org/content/10.1101/2022.08.26.504777v1) shows that this notion is feasible to extend BCI decoding accuracy over time. \n",
    "\n",
    "In our study, we use Adversarial Domain Adaptation Network (ADAN, Farshchiansadegh et al., 2019) to implement such transformation on day-k neural signals. The results we obtained showed that even ~3 months after decoder training the performance of the day-0 decoder can be maintained if using ADAN to **\"align\"** the full-dimentional neural signals. We call this process **\"alignment\"**, and use ADAN as the **\"aligner\"**. We also showed that ADAN alignment can be done on continuous recordings, which means, there is no need to align trials according to specific behavioral events.\n",
    "\n",
    "This notebook will walk you through this approach using a dataset collected from a monkey who kept doing a motor task over 90 days.\n",
    "![fig2](./images/exp_background.png)\n",
    "*Figure 2 The isometric wrist center-out task*"
   ]
  },
  {
   "cell_type": "markdown",
   "id": "06648178-8368-4083-976b-43c0b5a7435f",
   "metadata": {},
   "source": [
    "## Datasets"
   ]
  },
  {
   "cell_type": "markdown",
   "id": "49005b80-8187-4ea3-80de-9ac150f3e1ea",
   "metadata": {},
   "source": [
    "The datasets are from a monkey (monkey J) doing an isometric wrist torque task. This task requires the monkey to control the cursor on the screen by exerting forces on a small box placed around one of the hands. The box was padded to comfortably constrain the monkey’s hand and minimize its movement within the box, and the forces were measured by a 6 DOF load cell (JR3 Inc., CA) aligned to the wrist joint. During the task, flexion/extension force moved the cursor right and left respectively, while force along the radial/ulnar deviation axis moved the cursor up and down. Each trial started with the appearance of a center target requiring the monkeys to hold for a random time (0.2 – 1.0 s), after which one of eight possible outer targets selected in a block-randomized fashion appeared, accompanied with an auditory go cue. The monkey was allowed to move the cursor to the target within 2.0 s and hold for 0.8 s to receive a liquid reward (Figure 2). For both decoding and alignment analyses, we only used the data within each single trial (from ‘trial start’ to ‘trial end’, Figure 2). **We did not do any temporal alignment with the trials, so the lengths of the trials were different from each other**. \n",
    "\n",
    "This dataset could be downloaded from Dryad. We are going to use [xds](https://github.com/limblab/xds) package to load the data. Please see another notebook to learn more about `xds`.\n",
    "\n",
    "Two packages need to be downloaded and included in your `Python` path.\n",
    "The first is `xds` for data loading, which could be downloaded via this [link](https://github.com/limblab/xds).\n",
    "The second is `decoder_standard` for BCI decoder training. We will use functions `train_wiener_filter` and `test_wiener_filter` to train Wiener filter based BCI decoders. These codes could be download from [here](https://github.com/xuanma/decoder_standard)."
   ]
  },
  {
   "cell_type": "markdown",
   "id": "d7069076-a6fc-4b17-9ad3-d09b7a6d068a",
   "metadata": {},
   "source": [
    "### Load necessary packages and put the directories of `xds` and `decoder_standard` in the path"
   ]
  },
  {
   "cell_type": "code",
   "execution_count": 1,
   "id": "b78a3588-caee-4192-bd09-e081d378c5c4",
   "metadata": {},
   "outputs": [],
   "source": [
    "import fnmatch, os, sys\n",
    "sys.path.append('C:/Users/fabio/Documents/GitKrakenHub/xds/xds_python/')\n",
    "sys.path.append('C:/Users/fabio/Documents/GitKrakenHub/decoder_standard')"
   ]
  },
  {
   "cell_type": "code",
   "execution_count": 2,
   "id": "f1e15fa8-054f-48c3-a7cd-7cf0cc083e99",
   "metadata": {},
   "outputs": [],
   "source": [
    "from IPython.display import clear_output\n",
    "import numpy as np\n",
    "from xds import lab_data\n",
    "from dateutil.parser import parse\n",
    "import pickle\n",
    "from datetime import datetime"
   ]
  },
  {
   "cell_type": "markdown",
   "id": "ab8ca10c-e5d2-42e8-a980-f3e92072e338",
   "metadata": {},
   "source": [
    "### Load data and do preprocessing"
   ]
  },
  {
   "cell_type": "markdown",
   "id": "3bd94458-8cb3-45d5-8190-5b7c9997f23a",
   "metadata": {},
   "source": [
    "M1 activity was recorded using a Cerebus system (Blackrock Neurotech, Inc.). The signals on each channel were digitalized, bandpass filtered (250 ~ 5000 Hz) and converted to spike times based on threshold crossings. The threshold was set with respect to the root-mean square (RMS) activity on each channel and kept consistent across different recording days (-5.5 x RMS). The time stamp and a 1.6 ms snippet of each spike surrounding the time of threshold crossing were recorded. For all analyses here, we used multiunit threshold crossings on each channel instead of discriminating well isolated single units. We applied a Gaussian kernel (S.D. = 100 ms) to the spike counts in 50 ms, non-overlapping bins to obtain a smoothed estimate of firing rate as function of time for each channel.\n",
    "\n",
    "One addtional preprocessing step for M1 spike firing rates is illustrated below. If no spike is detected on a channel (electrode) the recording system will skip it, therefore resulting in inconsistent number of channles on different days. To keep the number of M1 channels consistent across different recording days, we pad the empty channels on day-k (Figure 3A, E3 and E5 on day-k) with all zeros.\n",
    "\n",
    "The EMG signals were differentially amplified, band-pass filtered (4-pole, 50 ~ 500 Hz) and sampled at 2000 Hz. The EMGs were subsequently digitally rectified and low-pass filtered (4-pole, 10 Hz, Butterworth) and subsampled to 20 Hz (Figure 3B). EMG channels with substantial noise were not included in the analyses, and data points of each channel were clipped to be no larger than the mean plus 6 times the S.D. of that channel. Within each recording session, we removed the baseline of each EMG channel by subtracting the 2nd percentile of the amplitudes and normalized each channel to the 90th percentile."
   ]
  },
  {
   "cell_type": "markdown",
   "id": "be69af83-e6a8-47d2-abed-b71ccebd7cb1",
   "metadata": {},
   "source": [
    "<img src=\"./images/preprocessing.png\" style = \"width: 800px\" align=\"left\"/>"
   ]
  },
  {
   "cell_type": "markdown",
   "id": "41cd91bf-b474-4954-9499-b1ccfb153db0",
   "metadata": {},
   "source": [
    "*Figure 3 Preprocessing for M1 spike firing rates and EMGs. A) The zero-padding step for empty channels on day-k. B) From raw EMGs to EMG envolops*"
   ]
  },
  {
   "cell_type": "markdown",
   "id": "53c337ab-b722-4c9d-86dd-e741b31e330f",
   "metadata": {},
   "source": [
    "All data files are stored under the directory of `./data`. Below we will scan the directory and list the names of the data files. The data files are named like **`monkey_date_number.mat`**"
   ]
  },
  {
   "cell_type": "code",
   "execution_count": 3,
   "id": "93d06908-4950-447d-aeca-bae07d2314b3",
   "metadata": {},
   "outputs": [
    {
     "name": "stdout",
     "output_type": "stream",
     "text": [
      "['Jango_20150730_001.mat' 'Jango_20151029_001.mat']\n"
     ]
    }
   ],
   "source": [
    "%load_ext autoreload\n",
    "%autoreload 2\n",
    "\n",
    "data_path = 'C:/Users/fabio/Documents/GitKrakenHub/monkey_analysis/Lab/data/IB/Jango_2015_isometric_wrist_task/'\n",
    "mat_list = np.sort(fnmatch.filter(os.listdir(data_path), \"*.mat\")) # We sorted the files by name.\n",
    "print(mat_list)"
   ]
  },
  {
   "cell_type": "markdown",
   "id": "a11af636-1c08-4032-be15-134c0af4849c",
   "metadata": {},
   "source": [
    "Here we will use the data recorded on **07/30/2015** as the day-0 data. Therefore, we need to load the file **`Jango_20150730_001.mat`** first. We named the variables associated with this file as **`day0_XXX`**. For day-k data, in this notebook we will use the data recorded on **10/29/2015**, so we will need to load **`Jango_20151029_001.mat`**. Likewise, we named the variables associated with day-k as **`dayk_XXX`**."
   ]
  },
  {
   "cell_type": "code",
   "execution_count": 4,
   "id": "29deda30-2ef4-406f-aa9c-831b991c88da",
   "metadata": {},
   "outputs": [
    {
     "name": "stdout",
     "output_type": "stream",
     "text": [
      "Trials with nan timings have been removed!\n",
      "The new bin size is 0.0500 s\n",
      "The new bin size is 0.0500 s\n",
      "=============================================================\n",
      "Day-0 data contains 162 trials.\n",
      "The 46th trial on day-0 contains 54 time steps.\n",
      "Cortical data on day-0 contains 96 channels.\n",
      "EMG data on day-0 contains 7 muscles.\n"
     ]
    }
   ],
   "source": [
    "from utils import emg_preprocessing, spike_preprocessing\n",
    "\n",
    "bin_size = 0.05 # As mentioned above, we use 50 ms bins to calculate the spike counts\n",
    "smooth_size = 0.1 # As mentioned above, we use Gaussian kernels (S.D. = 100 ms) to smooth the binned spikes\n",
    "N_elec = 96 # The monkey was implanted with a 96-channel Utah array\n",
    "\n",
    "#============================================= Load day-0 data ==================================================================#\n",
    "day0_data = lab_data(data_path, 'Jango_20150730_001.mat') # Load the data using the lab_data class in xds.py\n",
    "day0_data.update_bin_data(bin_size)  # Bin the spikes with the specified bin_size\n",
    "day0_data.smooth_binned_spikes(bin_size, 'gaussian', smooth_size) # Smooth the binned spike counts\n",
    "day0_unit_names = day0_data.unit_names\n",
    "#-------- Extract smoothed spike counts in trials without temporal alignment --------#\n",
    "day0_spike = day0_data.get_trials_data_spike_counts('R', 'start_time', 0.0, 'end_time', 0)\n",
    "day0_EMG_names = day0_data.EMG_names\n",
    "#-------- Extract EMG envelops in trials without temporal alignment --------#\n",
    "day0_EMG = day0_data.get_trials_data_EMG('R', 'start_time', 0.0, 'end_time', 0)\n",
    "day0_EMG, day0_EMG_names = emg_preprocessing(day0_EMG, day0_EMG_names) # outlier removal and normalization\n",
    "\n",
    "#============================================= Load day-k data ==================================================================#\n",
    "dayk_data = lab_data(data_path, 'Jango_20151029_001.mat')\n",
    "dayk_data.update_bin_data(bin_size)  \n",
    "dayk_data.smooth_binned_spikes(bin_size, 'gaussian', smooth_size)\n",
    "dayk_unit_names = dayk_data.unit_names\n",
    "#-------- Extract smoothed spike counts in trials without temporal alignment --------#\n",
    "dayk_spike = dayk_data.get_trials_data_spike_counts('R', 'start_time', 0.0, 'end_time', 0)\n",
    "dayk_EMG_names = dayk_data.EMG_names\n",
    "#-------- Extract EMG envelops in trials without temporal alignment --------#\n",
    "dayk_EMG = dayk_data.get_trials_data_EMG('R', 'start_time', 0.0, 'end_time', 0)\n",
    "dayk_EMG, dayk_EMG_names = emg_preprocessing(dayk_EMG, dayk_EMG_names)\n",
    "\n",
    "#============================================= Pre-processing ==================================================================#\n",
    "day0_spike, dayk_spike = spike_preprocessing(day0_unit_names, dayk_unit_names, day0_spike, dayk_spike) # zero-padding empty channels\n",
    "\n",
    "#============================================= variable information ============================================================#\n",
    "print('=============================================================')\n",
    "print('Day-0 data contains %d trials.'%(len(day0_spike)))\n",
    "print('The %dth trial on day-0 contains %d time steps.'%(46, day0_spike[46].shape[0]))\n",
    "print('Cortical data on day-0 contains %d channels.'%(day0_spike[46].shape[1]))\n",
    "print('EMG data on day-0 contains %d muscles.'%(day0_EMG[46].shape[1]))"
   ]
  },
  {
   "cell_type": "markdown",
   "id": "463b0e95-8f55-4332-a9e5-66b722a78b09",
   "metadata": {},
   "source": [
    "Below is a list showing the names of the variables and meanings:\n",
    "* `day0_data`: a `lab_data` object for storing and managing data recorded on day-0.\n",
    "* `day0_unit_names`: unit names for day-0 M1 recordings. Since we **did not** do spike sorting, these names are actually the names for the electrodes.\n",
    "* `day0_spike`: a list storing the smoothed spike counts obtained on day-0. Each item in the list is a `numpy` array with shape (number of time bins, number of channels/electrodes), corresonding to a trial.\n",
    "* `day0_EMG`: a list storing the EMG envelops obtained on day-0. Each item in the list is a `numpy` array with shape (number of time bins, number of muscles), corresonding to a trial.\n",
    "* `dayk_data`: a `lab_data` object for storing and managing data recorded on day-k.\n",
    "* `dayk_unit_names`: unit names for day-k M1 recordings.\n",
    "* `dayk_spike`: a list storing the smoothed spike counts obtained on day-k.\n",
    "* `dayk_EMG`: a list storing the EMG envelops obtained on day-k."
   ]
  },
  {
   "cell_type": "markdown",
   "id": "d47b4998-e645-417f-a786-14b035d5d9fd",
   "metadata": {},
   "source": [
    "### Selecting the first 160 trials for each day"
   ]
  },
  {
   "cell_type": "markdown",
   "id": "eaedbf2e-4536-4af3-9256-346a7bf5d9dd",
   "metadata": {},
   "source": [
    "To control the amount of training and testing data in an easier manner, we will only use the first 160 trials on each day for all the analyses below."
   ]
  },
  {
   "cell_type": "code",
   "execution_count": 5,
   "id": "61df8fa2-d55d-45c1-aebb-491d3315fb0b",
   "metadata": {},
   "outputs": [],
   "source": [
    "trial_num = 160\n",
    "day0_spike_ = day0_spike[:trial_num]\n",
    "day0_EMG_ = day0_EMG[:trial_num]\n",
    "dayk_spike_ = dayk_spike[:trial_num]\n",
    "dayk_EMG_ = dayk_EMG[:trial_num]"
   ]
  },
  {
   "cell_type": "markdown",
   "id": "8c1f90b5-30a7-4990-9925-49bd40aec192",
   "metadata": {},
   "source": [
    "The meanings of the variables:\n",
    "* `day0_spike_`: the first 160 trials of `day0_spike`.  \n",
    "* `day0_EMG_`: the first 160 trials of `day0_EMG`.\n",
    "* `dayk_spike_`: the first 160 trials of `dayk_spike`. \n",
    "* `dayk_EMG_`: the first 160 trials of `dayk_EMG`."
   ]
  },
  {
   "cell_type": "markdown",
   "id": "498b2c9b-bd76-418d-acb8-b918da7f7ea5",
   "metadata": {},
   "source": [
    "## Train ADAN day-0 model (4-fold cross validation)"
   ]
  },
  {
   "cell_type": "markdown",
   "id": "19334ec3-3daf-4b0b-97b6-a915b07d9a81",
   "metadata": {},
   "source": [
    "Here we use a Wiener filter to predict the EMGs from M1 neural activity. The day-0 wiener filter for ADAN was built from a nonlinear latent space estimated from day-0 neural firing rates using an autoencoder (AE) originally described in (Farshchiansadegh et al., 2019). As in the original implementation, the AE consists of an input layer, five hidden layers and an output layer. The input and the output layers have C units, while the hidden layers (from input to output) have 64, 32, 10, 32 and 64 units, respectively. Hence, the AE compresses the C-dimensional neural firing rates into a 10-dimensional latent representation.\n",
    "\n",
    "The units in the layer and the output layers as well as those in the latent layer have linear activation functions, while units in the remaining hidden layers have a nonlinear one (exponential linear unit, ELU). The AE is trained to minimize\n",
    "the reconstruction error defined as the mean square error (MSE) between the input and the output data. When day-0 neural firing rates $\\boldsymbol{X}$ are fed through the AE, the latent layer activity $\\boldsymbol{l}$ and the corresponding reconstructions $\\boldsymbol{\\hat{X}}$ are obtained. The actual motor output recorded at day-0 ($\\boldsymbol{Y}$) is then predicted using the 10-dimensional latent activity $\\boldsymbol{l}$ through a long-short-term memory (LSTM, (Hochreiter & Schmidhuber, 1997)) network:\n",
    "\n",
    "$$\n",
    "\\boldsymbol{\\hat{Y}} = LSTM(\\boldsymbol{l})\n",
    "$$\n",
    "\n",
    "where $\\boldsymbol{\\hat{Y}}$ is the predicted motor output. The LSTM is designed with one layer and a number of units that equals the number of recorded motor outputs. Note that this LSTM based decoder is only used for latent space discovery, not the later decoding stage that is used for performance evaluation. The AE and the LSTM are simultaneously trained by minimizing a loss function that accounts for both the MSE of the reconstruction of the firing rates ($\\mathcal{L}(AE)$) and the MSE of the motor output predictions ($\\mathcal{L}(LSTM)$):\n",
    "\n",
    "$$\n",
    "\\mathcal{L}= \\lambda\\mathcal{L}(AE) + \\mathcal{L}(LSTM) = \\frac{1}{M} \\sum_{i=1}^{M}(\\lambda \\|\\hat{X}-X\\|^2 + \\|\\hat{Y}-Y\\|^2)\n",
    "$$\n",
    "\n",
    "where M is the total number of training samples. The weighting factor $\\lambda$ equalizes the contribution of the two terms so that the learning algorithm does not prioritize one over the other. For each training epoch, $\\lambda$ is updated as the ratio between the values of $\\mathcal{L}(AE)$ and $\\mathcal{L}(LSTM)$ at the end of the preceding epoch. \n",
    "\n",
    "\n",
    "\n",
    "\n",
    "<img src=\"./images/adan_day0.png\" style = \"width: 800px\" align=\"center\"/>\n",
    "\n",
    "*Figure 4 ADAN day-0 model consisting of a neural autoencoder and an LSTM-based BCI decoder*"
   ]
  },
  {
   "cell_type": "markdown",
   "id": "4b44e149",
   "metadata": {},
   "source": [
    "### Specify Hyper-parameters and define ADAN day-0 network"
   ]
  },
  {
   "cell_type": "markdown",
   "id": "62354c87",
   "metadata": {},
   "source": [
    "There are a few hyper-parameters for the training of the ADAN day-0 model. We organized them into a `Python` dictionary:\n",
    "  \n",
    "* training_params:\n",
    "  - spike_dim: the number of recorded electrodes\n",
    "  - emg_dim: the number of recorded motor outputs (EMGs in this example)\n",
    "  - latent_dim: the dimensionality of the AE latent space\n",
    "  - lstm_units: the nuber of units of the ADAN LSTM decoder\n",
    "  - lstm_layers: the number of layers of the ADAN LSTM decoder\n",
    "  - n_lags: number indicating the number of time lags for the LSTM decoder\n",
    "  - epochs: the number of training epochs\n",
    "  - batch_size: the size of training batches\n",
    "  - lr: the learning rate for the ADAN network\n",
    "  - cv_folds: the number of folds for k-fold cross validation"
   ]
  },
  {
   "cell_type": "code",
   "execution_count": 6,
   "id": "526b9f05",
   "metadata": {},
   "outputs": [],
   "source": [
    "training_params = {}\n",
    "training_params['spike_dim'] = day0_spike[46].shape[1]\n",
    "training_params['emg_dim'] = day0_EMG[46].shape[1]\n",
    "training_params['latent_dim'] = 10\n",
    "training_params['lstm_units'] = day0_EMG[46].shape[1]\n",
    "training_params['lstm_layers'] = 1\n",
    "training_params['n_lags'] = 4\n",
    "training_params['epochs'] = 200\n",
    "training_params['batch_size'] = 64\n",
    "training_params['lr'] = 0.001\n",
    "training_params['cv_folds'] = 4"
   ]
  },
  {
   "cell_type": "code",
   "execution_count": 7,
   "id": "931c2df8",
   "metadata": {},
   "outputs": [],
   "source": [
    "def autoencoder(input_, training_params, reuse=False):\n",
    "    n_units = [64, 32, training_params['latent_dim']]\n",
    "    with tf.variable_scope('autoencoder', reuse=reuse):\n",
    "        h1 = tf.layers.dense(input_, units=n_units[0], activation=tf.nn.elu)\n",
    "        h2 = tf.layers.dense(h1, units=n_units[1], activation=tf.nn.elu)\n",
    "        latent = tf.layers.dense(h2, units=n_units[2], activation=None)\n",
    "        h3 = tf.layers.dense(latent, units=n_units[1], activation=tf.nn.elu)\n",
    "        h4 = tf.layers.dense(h3, units=n_units[0], activation=tf.nn.elu)\n",
    "        logits = tf.layers.dense(h4, units=training_params['spike_dim'], activation=None)\n",
    "        return latent, logits\n",
    "\n",
    "\n",
    "def emg_decoder(latent, training_params, reuse=False):\n",
    "    with tf.variable_scope('emg_decoder', reuse=reuse):\n",
    "        latent = tf.reshape(latent, [-1, training_params['n_lags'], training_params['latent_dim']])\n",
    "        layers = [tf.nn.rnn_cell.LSTMCell(num_units=training_params['lstm_units'], activation=tf.nn.elu)\n",
    "                  for layer in range(training_params['lstm_layers'])]\n",
    "        multi_layer_cell = tf.nn.rnn_cell.MultiRNNCell(layers)\n",
    "        outputs, states = tf.nn.dynamic_rnn(multi_layer_cell,latent, dtype=tf.float32)\n",
    "        emg_hat = tf.layers.dense(outputs, units=training_params['emg_dim'], activation=None)\n",
    "        emg_hat = tf.reshape(emg_hat,[-1,training_params['emg_dim']])\n",
    "        return emg_hat\n",
    "    \n",
    "    \n",
    "def get_batches(x,batch_size):\n",
    "    n_batches = len(x)//(batch_size)\n",
    "    x = x[:n_batches*batch_size:]\n",
    "    for n in range(0, x.shape[0],batch_size):\n",
    "        x_batch = x[n:n+(batch_size)]\n",
    "        yield x_batch"
   ]
  },
  {
   "cell_type": "markdown",
   "id": "83243b0a",
   "metadata": {},
   "source": [
    "### Define ADAN day-0 model"
   ]
  },
  {
   "cell_type": "code",
   "execution_count": 8,
   "id": "bd0c1037",
   "metadata": {},
   "outputs": [
    {
     "name": "stderr",
     "output_type": "stream",
     "text": [
      "C:\\Users\\fabio\\Anaconda3\\envs\\tf1.0\\lib\\site-packages\\tensorflow\\python\\framework\\dtypes.py:516: FutureWarning: Passing (type, 1) or '1type' as a synonym of type is deprecated; in a future version of numpy, it will be understood as (type, (1,)) / '(1,)type'.\n",
      "  _np_qint8 = np.dtype([(\"qint8\", np.int8, 1)])\n",
      "C:\\Users\\fabio\\Anaconda3\\envs\\tf1.0\\lib\\site-packages\\tensorflow\\python\\framework\\dtypes.py:517: FutureWarning: Passing (type, 1) or '1type' as a synonym of type is deprecated; in a future version of numpy, it will be understood as (type, (1,)) / '(1,)type'.\n",
      "  _np_quint8 = np.dtype([(\"quint8\", np.uint8, 1)])\n",
      "C:\\Users\\fabio\\Anaconda3\\envs\\tf1.0\\lib\\site-packages\\tensorflow\\python\\framework\\dtypes.py:518: FutureWarning: Passing (type, 1) or '1type' as a synonym of type is deprecated; in a future version of numpy, it will be understood as (type, (1,)) / '(1,)type'.\n",
      "  _np_qint16 = np.dtype([(\"qint16\", np.int16, 1)])\n",
      "C:\\Users\\fabio\\Anaconda3\\envs\\tf1.0\\lib\\site-packages\\tensorflow\\python\\framework\\dtypes.py:519: FutureWarning: Passing (type, 1) or '1type' as a synonym of type is deprecated; in a future version of numpy, it will be understood as (type, (1,)) / '(1,)type'.\n",
      "  _np_quint16 = np.dtype([(\"quint16\", np.uint16, 1)])\n",
      "C:\\Users\\fabio\\Anaconda3\\envs\\tf1.0\\lib\\site-packages\\tensorflow\\python\\framework\\dtypes.py:520: FutureWarning: Passing (type, 1) or '1type' as a synonym of type is deprecated; in a future version of numpy, it will be understood as (type, (1,)) / '(1,)type'.\n",
      "  _np_qint32 = np.dtype([(\"qint32\", np.int32, 1)])\n",
      "C:\\Users\\fabio\\Anaconda3\\envs\\tf1.0\\lib\\site-packages\\tensorflow\\python\\framework\\dtypes.py:525: FutureWarning: Passing (type, 1) or '1type' as a synonym of type is deprecated; in a future version of numpy, it will be understood as (type, (1,)) / '(1,)type'.\n",
      "  np_resource = np.dtype([(\"resource\", np.ubyte, 1)])\n",
      "C:\\Users\\fabio\\Anaconda3\\envs\\tf1.0\\lib\\site-packages\\tensorboard\\compat\\tensorflow_stub\\dtypes.py:541: FutureWarning: Passing (type, 1) or '1type' as a synonym of type is deprecated; in a future version of numpy, it will be understood as (type, (1,)) / '(1,)type'.\n",
      "  _np_qint8 = np.dtype([(\"qint8\", np.int8, 1)])\n",
      "C:\\Users\\fabio\\Anaconda3\\envs\\tf1.0\\lib\\site-packages\\tensorboard\\compat\\tensorflow_stub\\dtypes.py:542: FutureWarning: Passing (type, 1) or '1type' as a synonym of type is deprecated; in a future version of numpy, it will be understood as (type, (1,)) / '(1,)type'.\n",
      "  _np_quint8 = np.dtype([(\"quint8\", np.uint8, 1)])\n",
      "C:\\Users\\fabio\\Anaconda3\\envs\\tf1.0\\lib\\site-packages\\tensorboard\\compat\\tensorflow_stub\\dtypes.py:543: FutureWarning: Passing (type, 1) or '1type' as a synonym of type is deprecated; in a future version of numpy, it will be understood as (type, (1,)) / '(1,)type'.\n",
      "  _np_qint16 = np.dtype([(\"qint16\", np.int16, 1)])\n",
      "C:\\Users\\fabio\\Anaconda3\\envs\\tf1.0\\lib\\site-packages\\tensorboard\\compat\\tensorflow_stub\\dtypes.py:544: FutureWarning: Passing (type, 1) or '1type' as a synonym of type is deprecated; in a future version of numpy, it will be understood as (type, (1,)) / '(1,)type'.\n",
      "  _np_quint16 = np.dtype([(\"quint16\", np.uint16, 1)])\n",
      "C:\\Users\\fabio\\Anaconda3\\envs\\tf1.0\\lib\\site-packages\\tensorboard\\compat\\tensorflow_stub\\dtypes.py:545: FutureWarning: Passing (type, 1) or '1type' as a synonym of type is deprecated; in a future version of numpy, it will be understood as (type, (1,)) / '(1,)type'.\n",
      "  _np_qint32 = np.dtype([(\"qint32\", np.int32, 1)])\n",
      "C:\\Users\\fabio\\Anaconda3\\envs\\tf1.0\\lib\\site-packages\\tensorboard\\compat\\tensorflow_stub\\dtypes.py:550: FutureWarning: Passing (type, 1) or '1type' as a synonym of type is deprecated; in a future version of numpy, it will be understood as (type, (1,)) / '(1,)type'.\n",
      "  np_resource = np.dtype([(\"resource\", np.ubyte, 1)])\n"
     ]
    },
    {
     "name": "stdout",
     "output_type": "stream",
     "text": [
      "WARNING:tensorflow:From C:\\Users\\fabio\\AppData\\Local\\Temp\\ipykernel_27640\\186760988.py:3: The name tf.reset_default_graph is deprecated. Please use tf.compat.v1.reset_default_graph instead.\n",
      "\n",
      "WARNING:tensorflow:From C:\\Users\\fabio\\AppData\\Local\\Temp\\ipykernel_27640\\186760988.py:4: The name tf.set_random_seed is deprecated. Please use tf.compat.v1.set_random_seed instead.\n",
      "\n",
      "WARNING:tensorflow:From C:\\Users\\fabio\\AppData\\Local\\Temp\\ipykernel_27640\\186760988.py:6: The name tf.placeholder is deprecated. Please use tf.compat.v1.placeholder instead.\n",
      "\n",
      "WARNING:tensorflow:From C:\\Users\\fabio\\AppData\\Local\\Temp\\ipykernel_27640\\2043659821.py:3: The name tf.variable_scope is deprecated. Please use tf.compat.v1.variable_scope instead.\n",
      "\n",
      "WARNING:tensorflow:From C:\\Users\\fabio\\AppData\\Local\\Temp\\ipykernel_27640\\2043659821.py:4: dense (from tensorflow.python.layers.core) is deprecated and will be removed in a future version.\n",
      "Instructions for updating:\n",
      "Use keras.layers.dense instead.\n",
      "WARNING:tensorflow:From C:\\Users\\fabio\\Anaconda3\\envs\\tf1.0\\lib\\site-packages\\tensorflow\\python\\ops\\init_ops.py:1251: calling VarianceScaling.__init__ (from tensorflow.python.ops.init_ops) with dtype is deprecated and will be removed in a future version.\n",
      "Instructions for updating:\n",
      "Call initializer instance with the dtype argument instead of passing it to the constructor\n",
      "WARNING:tensorflow:Entity <bound method Dense.call of <tensorflow.python.layers.core.Dense object at 0x000001E47898CFC8>> could not be transformed and will be executed as-is. Please report this to the AutgoGraph team. When filing the bug, set the verbosity to 10 (on Linux, `export AUTOGRAPH_VERBOSITY=10`) and attach the full output. Cause: converting <bound method Dense.call of <tensorflow.python.layers.core.Dense object at 0x000001E47898CFC8>>: AttributeError: module 'gast' has no attribute 'Index'\n",
      "WARNING: Entity <bound method Dense.call of <tensorflow.python.layers.core.Dense object at 0x000001E47898CFC8>> could not be transformed and will be executed as-is. Please report this to the AutgoGraph team. When filing the bug, set the verbosity to 10 (on Linux, `export AUTOGRAPH_VERBOSITY=10`) and attach the full output. Cause: converting <bound method Dense.call of <tensorflow.python.layers.core.Dense object at 0x000001E47898CFC8>>: AttributeError: module 'gast' has no attribute 'Index'\n",
      "WARNING:tensorflow:Entity <bound method Dense.call of <tensorflow.python.layers.core.Dense object at 0x000001E47898CFC8>> could not be transformed and will be executed as-is. Please report this to the AutgoGraph team. When filing the bug, set the verbosity to 10 (on Linux, `export AUTOGRAPH_VERBOSITY=10`) and attach the full output. Cause: converting <bound method Dense.call of <tensorflow.python.layers.core.Dense object at 0x000001E47898CFC8>>: AttributeError: module 'gast' has no attribute 'Index'\n",
      "WARNING: Entity <bound method Dense.call of <tensorflow.python.layers.core.Dense object at 0x000001E47898CFC8>> could not be transformed and will be executed as-is. Please report this to the AutgoGraph team. When filing the bug, set the verbosity to 10 (on Linux, `export AUTOGRAPH_VERBOSITY=10`) and attach the full output. Cause: converting <bound method Dense.call of <tensorflow.python.layers.core.Dense object at 0x000001E47898CFC8>>: AttributeError: module 'gast' has no attribute 'Index'\n",
      "WARNING:tensorflow:Entity <bound method Dense.call of <tensorflow.python.layers.core.Dense object at 0x000001E47898CFC8>> could not be transformed and will be executed as-is. Please report this to the AutgoGraph team. When filing the bug, set the verbosity to 10 (on Linux, `export AUTOGRAPH_VERBOSITY=10`) and attach the full output. Cause: converting <bound method Dense.call of <tensorflow.python.layers.core.Dense object at 0x000001E47898CFC8>>: AttributeError: module 'gast' has no attribute 'Index'\n",
      "WARNING: Entity <bound method Dense.call of <tensorflow.python.layers.core.Dense object at 0x000001E47898CFC8>> could not be transformed and will be executed as-is. Please report this to the AutgoGraph team. When filing the bug, set the verbosity to 10 (on Linux, `export AUTOGRAPH_VERBOSITY=10`) and attach the full output. Cause: converting <bound method Dense.call of <tensorflow.python.layers.core.Dense object at 0x000001E47898CFC8>>: AttributeError: module 'gast' has no attribute 'Index'\n",
      "WARNING:tensorflow:Entity <bound method Dense.call of <tensorflow.python.layers.core.Dense object at 0x000001E47898CFC8>> could not be transformed and will be executed as-is. Please report this to the AutgoGraph team. When filing the bug, set the verbosity to 10 (on Linux, `export AUTOGRAPH_VERBOSITY=10`) and attach the full output. Cause: converting <bound method Dense.call of <tensorflow.python.layers.core.Dense object at 0x000001E47898CFC8>>: AttributeError: module 'gast' has no attribute 'Index'\n",
      "WARNING: Entity <bound method Dense.call of <tensorflow.python.layers.core.Dense object at 0x000001E47898CFC8>> could not be transformed and will be executed as-is. Please report this to the AutgoGraph team. When filing the bug, set the verbosity to 10 (on Linux, `export AUTOGRAPH_VERBOSITY=10`) and attach the full output. Cause: converting <bound method Dense.call of <tensorflow.python.layers.core.Dense object at 0x000001E47898CFC8>>: AttributeError: module 'gast' has no attribute 'Index'\n",
      "WARNING:tensorflow:Entity <bound method Dense.call of <tensorflow.python.layers.core.Dense object at 0x000001E47898CFC8>> could not be transformed and will be executed as-is. Please report this to the AutgoGraph team. When filing the bug, set the verbosity to 10 (on Linux, `export AUTOGRAPH_VERBOSITY=10`) and attach the full output. Cause: converting <bound method Dense.call of <tensorflow.python.layers.core.Dense object at 0x000001E47898CFC8>>: AttributeError: module 'gast' has no attribute 'Index'\n",
      "WARNING: Entity <bound method Dense.call of <tensorflow.python.layers.core.Dense object at 0x000001E47898CFC8>> could not be transformed and will be executed as-is. Please report this to the AutgoGraph team. When filing the bug, set the verbosity to 10 (on Linux, `export AUTOGRAPH_VERBOSITY=10`) and attach the full output. Cause: converting <bound method Dense.call of <tensorflow.python.layers.core.Dense object at 0x000001E47898CFC8>>: AttributeError: module 'gast' has no attribute 'Index'\n",
      "WARNING:tensorflow:Entity <bound method Dense.call of <tensorflow.python.layers.core.Dense object at 0x000001E47898CFC8>> could not be transformed and will be executed as-is. Please report this to the AutgoGraph team. When filing the bug, set the verbosity to 10 (on Linux, `export AUTOGRAPH_VERBOSITY=10`) and attach the full output. Cause: converting <bound method Dense.call of <tensorflow.python.layers.core.Dense object at 0x000001E47898CFC8>>: AttributeError: module 'gast' has no attribute 'Index'\n",
      "WARNING: Entity <bound method Dense.call of <tensorflow.python.layers.core.Dense object at 0x000001E47898CFC8>> could not be transformed and will be executed as-is. Please report this to the AutgoGraph team. When filing the bug, set the verbosity to 10 (on Linux, `export AUTOGRAPH_VERBOSITY=10`) and attach the full output. Cause: converting <bound method Dense.call of <tensorflow.python.layers.core.Dense object at 0x000001E47898CFC8>>: AttributeError: module 'gast' has no attribute 'Index'\n",
      "WARNING:tensorflow:From C:\\Users\\fabio\\AppData\\Local\\Temp\\ipykernel_27640\\2043659821.py:17: LSTMCell.__init__ (from tensorflow.python.ops.rnn_cell_impl) is deprecated and will be removed in a future version.\n",
      "Instructions for updating:\n",
      "This class is equivalent as tf.keras.layers.LSTMCell, and will be replaced by that in Tensorflow 2.0.\n",
      "WARNING:tensorflow:From C:\\Users\\fabio\\AppData\\Local\\Temp\\ipykernel_27640\\2043659821.py:18: MultiRNNCell.__init__ (from tensorflow.python.ops.rnn_cell_impl) is deprecated and will be removed in a future version.\n",
      "Instructions for updating:\n",
      "This class is equivalent as tf.keras.layers.StackedRNNCells, and will be replaced by that in Tensorflow 2.0.\n",
      "WARNING:tensorflow:From C:\\Users\\fabio\\AppData\\Local\\Temp\\ipykernel_27640\\2043659821.py:19: dynamic_rnn (from tensorflow.python.ops.rnn) is deprecated and will be removed in a future version.\n",
      "Instructions for updating:\n",
      "Please use `keras.layers.RNN(cell)`, which is equivalent to this API\n"
     ]
    },
    {
     "name": "stdout",
     "output_type": "stream",
     "text": [
      "WARNING:tensorflow:Entity <bound method MultiRNNCell.call of <tensorflow.python.ops.rnn_cell_impl.MultiRNNCell object at 0x000001E47898CFC8>> could not be transformed and will be executed as-is. Please report this to the AutgoGraph team. When filing the bug, set the verbosity to 10 (on Linux, `export AUTOGRAPH_VERBOSITY=10`) and attach the full output. Cause: converting <bound method MultiRNNCell.call of <tensorflow.python.ops.rnn_cell_impl.MultiRNNCell object at 0x000001E47898CFC8>>: AttributeError: module 'gast' has no attribute 'Index'\n",
      "WARNING: Entity <bound method MultiRNNCell.call of <tensorflow.python.ops.rnn_cell_impl.MultiRNNCell object at 0x000001E47898CFC8>> could not be transformed and will be executed as-is. Please report this to the AutgoGraph team. When filing the bug, set the verbosity to 10 (on Linux, `export AUTOGRAPH_VERBOSITY=10`) and attach the full output. Cause: converting <bound method MultiRNNCell.call of <tensorflow.python.ops.rnn_cell_impl.MultiRNNCell object at 0x000001E47898CFC8>>: AttributeError: module 'gast' has no attribute 'Index'\n",
      "WARNING:tensorflow:From C:\\Users\\fabio\\Anaconda3\\envs\\tf1.0\\lib\\site-packages\\tensorflow\\python\\ops\\rnn_cell_impl.py:961: calling Zeros.__init__ (from tensorflow.python.ops.init_ops) with dtype is deprecated and will be removed in a future version.\n",
      "Instructions for updating:\n",
      "Call initializer instance with the dtype argument instead of passing it to the constructor\n",
      "WARNING:tensorflow:Entity <bound method LSTMCell.call of <tensorflow.python.ops.rnn_cell_impl.LSTMCell object at 0x000001E478996088>> could not be transformed and will be executed as-is. Please report this to the AutgoGraph team. When filing the bug, set the verbosity to 10 (on Linux, `export AUTOGRAPH_VERBOSITY=10`) and attach the full output. Cause: converting <bound method LSTMCell.call of <tensorflow.python.ops.rnn_cell_impl.LSTMCell object at 0x000001E478996088>>: AttributeError: module 'gast' has no attribute 'Index'\n",
      "WARNING: Entity <bound method LSTMCell.call of <tensorflow.python.ops.rnn_cell_impl.LSTMCell object at 0x000001E478996088>> could not be transformed and will be executed as-is. Please report this to the AutgoGraph team. When filing the bug, set the verbosity to 10 (on Linux, `export AUTOGRAPH_VERBOSITY=10`) and attach the full output. Cause: converting <bound method LSTMCell.call of <tensorflow.python.ops.rnn_cell_impl.LSTMCell object at 0x000001E478996088>>: AttributeError: module 'gast' has no attribute 'Index'\n",
      "WARNING:tensorflow:Entity <bound method Dense.call of <tensorflow.python.layers.core.Dense object at 0x000001E478A2BDC8>> could not be transformed and will be executed as-is. Please report this to the AutgoGraph team. When filing the bug, set the verbosity to 10 (on Linux, `export AUTOGRAPH_VERBOSITY=10`) and attach the full output. Cause: converting <bound method Dense.call of <tensorflow.python.layers.core.Dense object at 0x000001E478A2BDC8>>: AttributeError: module 'gast' has no attribute 'Index'\n",
      "WARNING: Entity <bound method Dense.call of <tensorflow.python.layers.core.Dense object at 0x000001E478A2BDC8>> could not be transformed and will be executed as-is. Please report this to the AutgoGraph team. When filing the bug, set the verbosity to 10 (on Linux, `export AUTOGRAPH_VERBOSITY=10`) and attach the full output. Cause: converting <bound method Dense.call of <tensorflow.python.layers.core.Dense object at 0x000001E478A2BDC8>>: AttributeError: module 'gast' has no attribute 'Index'\n",
      "WARNING:tensorflow:From C:\\Users\\fabio\\AppData\\Local\\Temp\\ipykernel_27640\\186760988.py:19: The name tf.train.AdamOptimizer is deprecated. Please use tf.compat.v1.train.AdamOptimizer instead.\n",
      "\n"
     ]
    }
   ],
   "source": [
    "import tensorflow as tf\n",
    "\n",
    "tf.reset_default_graph()\n",
    "tf.set_random_seed(seed=42)\n",
    "\n",
    "spike = tf.placeholder(tf.float32, (None,training_params['spike_dim']), name='spike')\n",
    "emg = tf.placeholder(tf.float32, (None,training_params['emg_dim']), name='emg')\n",
    "gamma = tf.placeholder(tf.float32)\n",
    "\n",
    "\n",
    "latent,logits = autoencoder(spike, training_params)\n",
    "emg_hat = emg_decoder(latent, training_params)\n",
    "emg_hat = tf.identity(emg_hat, name='emg_hat')\n",
    "\n",
    "# ---- Decoder Losses and Optimizers ---- #\n",
    "ae_loss = tf.reduce_mean(tf.square(logits - spike))\n",
    "emg_loss = tf.reduce_mean(tf.square(emg_hat - emg))\n",
    "total_loss = gamma*ae_loss + emg_loss\n",
    "optimizer = tf.train.AdamOptimizer(learning_rate=training_params['lr']).minimize(total_loss)"
   ]
  },
  {
   "cell_type": "markdown",
   "id": "400646b9",
   "metadata": {},
   "source": [
    "The simultaneous training of the AE and the LSTM allows extracting a low-dimensional space of neural activity constrained to include features related to movement intent. Such latent signals are then used to train the Wiener filter used as the fixed day-0 decoder for this study. At each epoch of training, the current latent signal was used to obtain a linear prediction of the actual motor output. We used 400 epochs of training and ultimately selected the parameters of the wiener filter at the epoch that had the best performance (in the R2 sense) on the held-out test set.. This type of decoder have been widely used in the past (Cherian, Krucoff, and Miller 2011; Naufel et al. 2019). The filter uses linear regression to predict the EMGs at time t with the given inputs stretching from present to T time bins in the past. We set T = 4 (200 ms) for the decoders here.\n",
    "\n",
    "Specifically, a Wiener filter can be written in this form:\n",
    "$$\n",
    "\\boldsymbol{y} (t)=\\sum_{\\tau=0}^{T-1}\\boldsymbol{\\beta}(\\tau)\\boldsymbol{x}(t-\\tau)\n",
    "$$\n",
    "\n",
    "where $\\boldsymbol{y}(t)$ is a q-dimensional vector ($q$ varied with the number of recorded EMGs) representing the EMGs to be predicted at time $t$, while $\\boldsymbol{x}(t)$ is a $p$-dimensional vector for the inputs to the Wiener filter at time $t$ ($p=96$ in this case, which is the number of the electrodes in the cortical array), and $\\boldsymbol{\\beta}(\\tau)$ is a $q\\times p$ matrix corresponding to the filter parameters for time step $\\tau$.\n",
    "\n",
    "Of course, we can also write the equation for the Wiener filter in a matrix form:\n",
    "$$\n",
    "\\boldsymbol{Y} = \\boldsymbol{X}\\boldsymbol{B}\n",
    "$$\n",
    "\n",
    "where $\\boldsymbol{Y}$ is a $M\\times q$ matrix for the EMGs to be predicted with $M$ being the number of samples, $\\boldsymbol{X}$ is a $M\\times (T\\times p)$ matrix, and $\\boldsymbol{B}$ is a $(T \\times p)\\times q$ matrix for the regression coefficients to be estimated.\n",
    "\n",
    "A commonly used technique to prevent overfitting when estimating $\\boldsymbol{B}$ is to add an *L2* regularization term in the cost function of the regression. Here we will take advantage of this technique. In function `train_wiener_filter` there is an option `l2` to indicate if the *L2* regularization is needed. `l2 = True` for *YES*, while `l2 = False` for *NO*.\n",
    "\n",
    "<img src=\"./images/adan_wiener.png\" style = \"width: 800px\" align=\"center\"/>\n",
    "\n",
    "*Figure 5 A Wiener filter based BCI decoder using ADAN AE latent space input*"
   ]
  },
  {
   "cell_type": "markdown",
   "id": "df6610d3-bee5-4cf7-8c0d-a7139b1f2279",
   "metadata": {},
   "source": [
    "Before the actual decoder training, we need to format the input data to fit the requirements of the Wiener filter. Below is a toy example, where $T=4, p=4, q=2$, and 10 time steps are shown.\n",
    "\n",
    "<img src=\"./images/wiener_filter_format.png\" style = \"width: 800px\" align=\"center\"/>\n",
    "<img src=\"./images/wiener_filter_format_2.png\" style = \"width: 800px\" align=\"center\"/>\n",
    "\n",
    "*Figure 6 Format input data to fit the requirement of the Wiener filter*\n",
    "\n",
    "In this case, X will have $4\\times4$ columns, and Y still has 2 columns. Since the first 3 time steps would be a blind zone for the Wiener filter, we should get $10-4+1 = 7$ training samples from the 10 time steps. In order to use the data from multiple trials as the training data, we will need to do this reshaping for each trial, and then concatenate them together. The function `format_data_from_trials` is used to do this job.\n",
    "\n",
    "To evaluate the goodness of fit for the EMGs on a specific muscle, we could use the coefficient of determination, namely, the $R^{2}$, which is defined below:\n",
    "\n",
    "$$\n",
    "R^{2}(y, \\hat{y}) = 1-\\frac{\\sum_{i=1}^{N}(\\hat{y}_{i}-y_{i})^2}{\\sum_{i=1}^{N}(y_{i}-\\bar{y}_{i})^2}\n",
    "$$\n",
    "\n",
    "Here $N$ represents the total number of samples used to compute the $R^2$ value, and both $y$ and $\\hat{y}$ are for one single muscle. If there are 11 muscles, then we will have 11 $R^2$ values for all the muscles.\n",
    "\n",
    "What if we want to use a single number to quantify the prediction accuracy of the decoder? To do this, we can use a multi-variate $R^2$ defined as below:\n",
    "\n",
    "$$\n",
    "mR^{2}(y, \\hat{y}) = 1-\\frac{\\sum_{m=1}^{M}\\sum_{i=1}^{N}(\\hat{y}_{i,m}-y_{i,m})^2}{\\sum_{m=1}^{M}\\sum_{i=1}^{N}(y_{i,m}-\\bar{y}_{i,m})^2}\n",
    "$$\n",
    "\n",
    "Here M represents the number of muscles. \n",
    "\n",
    "Regarding this metric, please read our [our preprint](https://www.biorxiv.org/content/10.1101/2022.08.26.504777v1) for more information.\n",
    "\n",
    "Finally, we will pick the best decoder through the 4-fold CV, and save it for the tests below. This could be implemented by the function `kFold` in *scikit-learn* package."
   ]
  },
  {
   "cell_type": "markdown",
   "id": "51d40890",
   "metadata": {},
   "source": [
    "## Train (or resume) Day-0 decoder, using Wiener filter as the decoder"
   ]
  },
  {
   "cell_type": "code",
   "execution_count": 9,
   "id": "68b508c8-333c-4274-9fcd-4bdbc28f33e7",
   "metadata": {},
   "outputs": [
    {
     "name": "stdout",
     "output_type": "stream",
     "text": [
      "WARNING:tensorflow:From C:\\Users\\fabio\\AppData\\Local\\Temp\\ipykernel_27640\\480025042.py:104: The name tf.train.import_meta_graph is deprecated. Please use tf.compat.v1.train.import_meta_graph instead.\n",
      "\n",
      "WARNING:tensorflow:From C:\\Users\\fabio\\AppData\\Local\\Temp\\ipykernel_27640\\480025042.py:105: The name tf.get_default_graph is deprecated. Please use tf.compat.v1.get_default_graph instead.\n",
      "\n",
      "WARNING:tensorflow:Entity <bound method Dense.call of <tensorflow.python.layers.core.Dense object at 0x000001E478B1FE48>> could not be transformed and will be executed as-is. Please report this to the AutgoGraph team. When filing the bug, set the verbosity to 10 (on Linux, `export AUTOGRAPH_VERBOSITY=10`) and attach the full output. Cause: converting <bound method Dense.call of <tensorflow.python.layers.core.Dense object at 0x000001E478B1FE48>>: AttributeError: module 'gast' has no attribute 'Index'\n",
      "WARNING: Entity <bound method Dense.call of <tensorflow.python.layers.core.Dense object at 0x000001E478B1FE48>> could not be transformed and will be executed as-is. Please report this to the AutgoGraph team. When filing the bug, set the verbosity to 10 (on Linux, `export AUTOGRAPH_VERBOSITY=10`) and attach the full output. Cause: converting <bound method Dense.call of <tensorflow.python.layers.core.Dense object at 0x000001E478B1FE48>>: AttributeError: module 'gast' has no attribute 'Index'\n",
      "WARNING:tensorflow:Entity <bound method Dense.call of <tensorflow.python.layers.core.Dense object at 0x000001E478B1FE48>> could not be transformed and will be executed as-is. Please report this to the AutgoGraph team. When filing the bug, set the verbosity to 10 (on Linux, `export AUTOGRAPH_VERBOSITY=10`) and attach the full output. Cause: converting <bound method Dense.call of <tensorflow.python.layers.core.Dense object at 0x000001E478B1FE48>>: AttributeError: module 'gast' has no attribute 'Index'\n",
      "WARNING: Entity <bound method Dense.call of <tensorflow.python.layers.core.Dense object at 0x000001E478B1FE48>> could not be transformed and will be executed as-is. Please report this to the AutgoGraph team. When filing the bug, set the verbosity to 10 (on Linux, `export AUTOGRAPH_VERBOSITY=10`) and attach the full output. Cause: converting <bound method Dense.call of <tensorflow.python.layers.core.Dense object at 0x000001E478B1FE48>>: AttributeError: module 'gast' has no attribute 'Index'\n",
      "WARNING:tensorflow:Entity <bound method Dense.call of <tensorflow.python.layers.core.Dense object at 0x000001E478B1FE48>> could not be transformed and will be executed as-is. Please report this to the AutgoGraph team. When filing the bug, set the verbosity to 10 (on Linux, `export AUTOGRAPH_VERBOSITY=10`) and attach the full output. Cause: converting <bound method Dense.call of <tensorflow.python.layers.core.Dense object at 0x000001E478B1FE48>>: AttributeError: module 'gast' has no attribute 'Index'\n",
      "WARNING: Entity <bound method Dense.call of <tensorflow.python.layers.core.Dense object at 0x000001E478B1FE48>> could not be transformed and will be executed as-is. Please report this to the AutgoGraph team. When filing the bug, set the verbosity to 10 (on Linux, `export AUTOGRAPH_VERBOSITY=10`) and attach the full output. Cause: converting <bound method Dense.call of <tensorflow.python.layers.core.Dense object at 0x000001E478B1FE48>>: AttributeError: module 'gast' has no attribute 'Index'\n",
      "WARNING:tensorflow:Entity <bound method Dense.call of <tensorflow.python.layers.core.Dense object at 0x000001E478B1FE48>> could not be transformed and will be executed as-is. Please report this to the AutgoGraph team. When filing the bug, set the verbosity to 10 (on Linux, `export AUTOGRAPH_VERBOSITY=10`) and attach the full output. Cause: converting <bound method Dense.call of <tensorflow.python.layers.core.Dense object at 0x000001E478B1FE48>>: AttributeError: module 'gast' has no attribute 'Index'\n",
      "WARNING: Entity <bound method Dense.call of <tensorflow.python.layers.core.Dense object at 0x000001E478B1FE48>> could not be transformed and will be executed as-is. Please report this to the AutgoGraph team. When filing the bug, set the verbosity to 10 (on Linux, `export AUTOGRAPH_VERBOSITY=10`) and attach the full output. Cause: converting <bound method Dense.call of <tensorflow.python.layers.core.Dense object at 0x000001E478B1FE48>>: AttributeError: module 'gast' has no attribute 'Index'\n",
      "WARNING:tensorflow:Entity <bound method Dense.call of <tensorflow.python.layers.core.Dense object at 0x000001E478B1FE48>> could not be transformed and will be executed as-is. Please report this to the AutgoGraph team. When filing the bug, set the verbosity to 10 (on Linux, `export AUTOGRAPH_VERBOSITY=10`) and attach the full output. Cause: converting <bound method Dense.call of <tensorflow.python.layers.core.Dense object at 0x000001E478B1FE48>>: AttributeError: module 'gast' has no attribute 'Index'\n",
      "WARNING: Entity <bound method Dense.call of <tensorflow.python.layers.core.Dense object at 0x000001E478B1FE48>> could not be transformed and will be executed as-is. Please report this to the AutgoGraph team. When filing the bug, set the verbosity to 10 (on Linux, `export AUTOGRAPH_VERBOSITY=10`) and attach the full output. Cause: converting <bound method Dense.call of <tensorflow.python.layers.core.Dense object at 0x000001E478B1FE48>>: AttributeError: module 'gast' has no attribute 'Index'\n",
      "WARNING:tensorflow:Entity <bound method Dense.call of <tensorflow.python.layers.core.Dense object at 0x000001E478B1FE48>> could not be transformed and will be executed as-is. Please report this to the AutgoGraph team. When filing the bug, set the verbosity to 10 (on Linux, `export AUTOGRAPH_VERBOSITY=10`) and attach the full output. Cause: converting <bound method Dense.call of <tensorflow.python.layers.core.Dense object at 0x000001E478B1FE48>>: AttributeError: module 'gast' has no attribute 'Index'\n",
      "WARNING: Entity <bound method Dense.call of <tensorflow.python.layers.core.Dense object at 0x000001E478B1FE48>> could not be transformed and will be executed as-is. Please report this to the AutgoGraph team. When filing the bug, set the verbosity to 10 (on Linux, `export AUTOGRAPH_VERBOSITY=10`) and attach the full output. Cause: converting <bound method Dense.call of <tensorflow.python.layers.core.Dense object at 0x000001E478B1FE48>>: AttributeError: module 'gast' has no attribute 'Index'\n",
      "WARNING:tensorflow:From C:\\Users\\fabio\\AppData\\Local\\Temp\\ipykernel_27640\\480025042.py:115: The name tf.train.init_from_checkpoint is deprecated. Please use tf.compat.v1.train.init_from_checkpoint instead.\n",
      "\n",
      "WARNING:tensorflow:From C:\\Users\\fabio\\Anaconda3\\envs\\tf1.0\\lib\\site-packages\\tensorflow\\python\\training\\saver.py:1276: checkpoint_exists (from tensorflow.python.training.checkpoint_management) is deprecated and will be removed in a future version.\n",
      "Instructions for updating:\n",
      "Use standard file APIs to check for files with this prefix.\n",
      "INFO:tensorflow:Restoring parameters from ./decoders/adan/0/decoder\n",
      "WARNING:tensorflow:Entity <bound method Dense.call of <tensorflow.python.layers.core.Dense object at 0x000001E479300D08>> could not be transformed and will be executed as-is. Please report this to the AutgoGraph team. When filing the bug, set the verbosity to 10 (on Linux, `export AUTOGRAPH_VERBOSITY=10`) and attach the full output. Cause: converting <bound method Dense.call of <tensorflow.python.layers.core.Dense object at 0x000001E479300D08>>: AttributeError: module 'gast' has no attribute 'Index'\n",
      "WARNING: Entity <bound method Dense.call of <tensorflow.python.layers.core.Dense object at 0x000001E479300D08>> could not be transformed and will be executed as-is. Please report this to the AutgoGraph team. When filing the bug, set the verbosity to 10 (on Linux, `export AUTOGRAPH_VERBOSITY=10`) and attach the full output. Cause: converting <bound method Dense.call of <tensorflow.python.layers.core.Dense object at 0x000001E479300D08>>: AttributeError: module 'gast' has no attribute 'Index'\n",
      "WARNING:tensorflow:Entity <bound method Dense.call of <tensorflow.python.layers.core.Dense object at 0x000001E479300D08>> could not be transformed and will be executed as-is. Please report this to the AutgoGraph team. When filing the bug, set the verbosity to 10 (on Linux, `export AUTOGRAPH_VERBOSITY=10`) and attach the full output. Cause: converting <bound method Dense.call of <tensorflow.python.layers.core.Dense object at 0x000001E479300D08>>: AttributeError: module 'gast' has no attribute 'Index'\n"
     ]
    },
    {
     "name": "stdout",
     "output_type": "stream",
     "text": [
      "WARNING: Entity <bound method Dense.call of <tensorflow.python.layers.core.Dense object at 0x000001E479300D08>> could not be transformed and will be executed as-is. Please report this to the AutgoGraph team. When filing the bug, set the verbosity to 10 (on Linux, `export AUTOGRAPH_VERBOSITY=10`) and attach the full output. Cause: converting <bound method Dense.call of <tensorflow.python.layers.core.Dense object at 0x000001E479300D08>>: AttributeError: module 'gast' has no attribute 'Index'\n",
      "WARNING:tensorflow:Entity <bound method Dense.call of <tensorflow.python.layers.core.Dense object at 0x000001E479300D08>> could not be transformed and will be executed as-is. Please report this to the AutgoGraph team. When filing the bug, set the verbosity to 10 (on Linux, `export AUTOGRAPH_VERBOSITY=10`) and attach the full output. Cause: converting <bound method Dense.call of <tensorflow.python.layers.core.Dense object at 0x000001E479300D08>>: AttributeError: module 'gast' has no attribute 'Index'\n",
      "WARNING: Entity <bound method Dense.call of <tensorflow.python.layers.core.Dense object at 0x000001E479300D08>> could not be transformed and will be executed as-is. Please report this to the AutgoGraph team. When filing the bug, set the verbosity to 10 (on Linux, `export AUTOGRAPH_VERBOSITY=10`) and attach the full output. Cause: converting <bound method Dense.call of <tensorflow.python.layers.core.Dense object at 0x000001E479300D08>>: AttributeError: module 'gast' has no attribute 'Index'\n",
      "WARNING:tensorflow:Entity <bound method Dense.call of <tensorflow.python.layers.core.Dense object at 0x000001E42A000F88>> could not be transformed and will be executed as-is. Please report this to the AutgoGraph team. When filing the bug, set the verbosity to 10 (on Linux, `export AUTOGRAPH_VERBOSITY=10`) and attach the full output. Cause: converting <bound method Dense.call of <tensorflow.python.layers.core.Dense object at 0x000001E42A000F88>>: AttributeError: module 'gast' has no attribute 'Index'\n",
      "WARNING: Entity <bound method Dense.call of <tensorflow.python.layers.core.Dense object at 0x000001E42A000F88>> could not be transformed and will be executed as-is. Please report this to the AutgoGraph team. When filing the bug, set the verbosity to 10 (on Linux, `export AUTOGRAPH_VERBOSITY=10`) and attach the full output. Cause: converting <bound method Dense.call of <tensorflow.python.layers.core.Dense object at 0x000001E42A000F88>>: AttributeError: module 'gast' has no attribute 'Index'\n",
      "WARNING:tensorflow:Entity <bound method Dense.call of <tensorflow.python.layers.core.Dense object at 0x000001E479320748>> could not be transformed and will be executed as-is. Please report this to the AutgoGraph team. When filing the bug, set the verbosity to 10 (on Linux, `export AUTOGRAPH_VERBOSITY=10`) and attach the full output. Cause: converting <bound method Dense.call of <tensorflow.python.layers.core.Dense object at 0x000001E479320748>>: AttributeError: module 'gast' has no attribute 'Index'\n",
      "WARNING: Entity <bound method Dense.call of <tensorflow.python.layers.core.Dense object at 0x000001E479320748>> could not be transformed and will be executed as-is. Please report this to the AutgoGraph team. When filing the bug, set the verbosity to 10 (on Linux, `export AUTOGRAPH_VERBOSITY=10`) and attach the full output. Cause: converting <bound method Dense.call of <tensorflow.python.layers.core.Dense object at 0x000001E479320748>>: AttributeError: module 'gast' has no attribute 'Index'\n",
      "WARNING:tensorflow:Entity <bound method Dense.call of <tensorflow.python.layers.core.Dense object at 0x000001E479320748>> could not be transformed and will be executed as-is. Please report this to the AutgoGraph team. When filing the bug, set the verbosity to 10 (on Linux, `export AUTOGRAPH_VERBOSITY=10`) and attach the full output. Cause: converting <bound method Dense.call of <tensorflow.python.layers.core.Dense object at 0x000001E479320748>>: AttributeError: module 'gast' has no attribute 'Index'\n",
      "WARNING: Entity <bound method Dense.call of <tensorflow.python.layers.core.Dense object at 0x000001E479320748>> could not be transformed and will be executed as-is. Please report this to the AutgoGraph team. When filing the bug, set the verbosity to 10 (on Linux, `export AUTOGRAPH_VERBOSITY=10`) and attach the full output. Cause: converting <bound method Dense.call of <tensorflow.python.layers.core.Dense object at 0x000001E479320748>>: AttributeError: module 'gast' has no attribute 'Index'\n",
      "INFO:tensorflow:Restoring parameters from ./decoders/adan/1/decoder\n",
      "WARNING:tensorflow:Entity <bound method Dense.call of <tensorflow.python.layers.core.Dense object at 0x000001E42C802C48>> could not be transformed and will be executed as-is. Please report this to the AutgoGraph team. When filing the bug, set the verbosity to 10 (on Linux, `export AUTOGRAPH_VERBOSITY=10`) and attach the full output. Cause: converting <bound method Dense.call of <tensorflow.python.layers.core.Dense object at 0x000001E42C802C48>>: AttributeError: module 'gast' has no attribute 'Index'\n",
      "WARNING: Entity <bound method Dense.call of <tensorflow.python.layers.core.Dense object at 0x000001E42C802C48>> could not be transformed and will be executed as-is. Please report this to the AutgoGraph team. When filing the bug, set the verbosity to 10 (on Linux, `export AUTOGRAPH_VERBOSITY=10`) and attach the full output. Cause: converting <bound method Dense.call of <tensorflow.python.layers.core.Dense object at 0x000001E42C802C48>>: AttributeError: module 'gast' has no attribute 'Index'\n",
      "WARNING:tensorflow:Entity <bound method Dense.call of <tensorflow.python.layers.core.Dense object at 0x000001E42C802C48>> could not be transformed and will be executed as-is. Please report this to the AutgoGraph team. When filing the bug, set the verbosity to 10 (on Linux, `export AUTOGRAPH_VERBOSITY=10`) and attach the full output. Cause: converting <bound method Dense.call of <tensorflow.python.layers.core.Dense object at 0x000001E42C802C48>>: AttributeError: module 'gast' has no attribute 'Index'\n",
      "WARNING: Entity <bound method Dense.call of <tensorflow.python.layers.core.Dense object at 0x000001E42C802C48>> could not be transformed and will be executed as-is. Please report this to the AutgoGraph team. When filing the bug, set the verbosity to 10 (on Linux, `export AUTOGRAPH_VERBOSITY=10`) and attach the full output. Cause: converting <bound method Dense.call of <tensorflow.python.layers.core.Dense object at 0x000001E42C802C48>>: AttributeError: module 'gast' has no attribute 'Index'\n",
      "WARNING:tensorflow:Entity <bound method Dense.call of <tensorflow.python.layers.core.Dense object at 0x000001E42C802C48>> could not be transformed and will be executed as-is. Please report this to the AutgoGraph team. When filing the bug, set the verbosity to 10 (on Linux, `export AUTOGRAPH_VERBOSITY=10`) and attach the full output. Cause: converting <bound method Dense.call of <tensorflow.python.layers.core.Dense object at 0x000001E42C802C48>>: AttributeError: module 'gast' has no attribute 'Index'\n",
      "WARNING: Entity <bound method Dense.call of <tensorflow.python.layers.core.Dense object at 0x000001E42C802C48>> could not be transformed and will be executed as-is. Please report this to the AutgoGraph team. When filing the bug, set the verbosity to 10 (on Linux, `export AUTOGRAPH_VERBOSITY=10`) and attach the full output. Cause: converting <bound method Dense.call of <tensorflow.python.layers.core.Dense object at 0x000001E42C802C48>>: AttributeError: module 'gast' has no attribute 'Index'\n",
      "WARNING:tensorflow:Entity <bound method Dense.call of <tensorflow.python.layers.core.Dense object at 0x000001E42C802C48>> could not be transformed and will be executed as-is. Please report this to the AutgoGraph team. When filing the bug, set the verbosity to 10 (on Linux, `export AUTOGRAPH_VERBOSITY=10`) and attach the full output. Cause: converting <bound method Dense.call of <tensorflow.python.layers.core.Dense object at 0x000001E42C802C48>>: AttributeError: module 'gast' has no attribute 'Index'\n",
      "WARNING: Entity <bound method Dense.call of <tensorflow.python.layers.core.Dense object at 0x000001E42C802C48>> could not be transformed and will be executed as-is. Please report this to the AutgoGraph team. When filing the bug, set the verbosity to 10 (on Linux, `export AUTOGRAPH_VERBOSITY=10`) and attach the full output. Cause: converting <bound method Dense.call of <tensorflow.python.layers.core.Dense object at 0x000001E42C802C48>>: AttributeError: module 'gast' has no attribute 'Index'\n",
      "WARNING:tensorflow:Entity <bound method Dense.call of <tensorflow.python.layers.core.Dense object at 0x000001E42C802C48>> could not be transformed and will be executed as-is. Please report this to the AutgoGraph team. When filing the bug, set the verbosity to 10 (on Linux, `export AUTOGRAPH_VERBOSITY=10`) and attach the full output. Cause: converting <bound method Dense.call of <tensorflow.python.layers.core.Dense object at 0x000001E42C802C48>>: AttributeError: module 'gast' has no attribute 'Index'\n"
     ]
    },
    {
     "name": "stdout",
     "output_type": "stream",
     "text": [
      "WARNING: Entity <bound method Dense.call of <tensorflow.python.layers.core.Dense object at 0x000001E42C802C48>> could not be transformed and will be executed as-is. Please report this to the AutgoGraph team. When filing the bug, set the verbosity to 10 (on Linux, `export AUTOGRAPH_VERBOSITY=10`) and attach the full output. Cause: converting <bound method Dense.call of <tensorflow.python.layers.core.Dense object at 0x000001E42C802C48>>: AttributeError: module 'gast' has no attribute 'Index'\n",
      "WARNING:tensorflow:Entity <bound method Dense.call of <tensorflow.python.layers.core.Dense object at 0x000001E42C802C48>> could not be transformed and will be executed as-is. Please report this to the AutgoGraph team. When filing the bug, set the verbosity to 10 (on Linux, `export AUTOGRAPH_VERBOSITY=10`) and attach the full output. Cause: converting <bound method Dense.call of <tensorflow.python.layers.core.Dense object at 0x000001E42C802C48>>: AttributeError: module 'gast' has no attribute 'Index'\n",
      "WARNING: Entity <bound method Dense.call of <tensorflow.python.layers.core.Dense object at 0x000001E42C802C48>> could not be transformed and will be executed as-is. Please report this to the AutgoGraph team. When filing the bug, set the verbosity to 10 (on Linux, `export AUTOGRAPH_VERBOSITY=10`) and attach the full output. Cause: converting <bound method Dense.call of <tensorflow.python.layers.core.Dense object at 0x000001E42C802C48>>: AttributeError: module 'gast' has no attribute 'Index'\n",
      "INFO:tensorflow:Restoring parameters from ./decoders/adan/2/decoder\n",
      "WARNING:tensorflow:Entity <bound method Dense.call of <tensorflow.python.layers.core.Dense object at 0x000001E42A561D08>> could not be transformed and will be executed as-is. Please report this to the AutgoGraph team. When filing the bug, set the verbosity to 10 (on Linux, `export AUTOGRAPH_VERBOSITY=10`) and attach the full output. Cause: converting <bound method Dense.call of <tensorflow.python.layers.core.Dense object at 0x000001E42A561D08>>: AttributeError: module 'gast' has no attribute 'Index'\n",
      "WARNING: Entity <bound method Dense.call of <tensorflow.python.layers.core.Dense object at 0x000001E42A561D08>> could not be transformed and will be executed as-is. Please report this to the AutgoGraph team. When filing the bug, set the verbosity to 10 (on Linux, `export AUTOGRAPH_VERBOSITY=10`) and attach the full output. Cause: converting <bound method Dense.call of <tensorflow.python.layers.core.Dense object at 0x000001E42A561D08>>: AttributeError: module 'gast' has no attribute 'Index'\n",
      "WARNING:tensorflow:Entity <bound method Dense.call of <tensorflow.python.layers.core.Dense object at 0x000001E42A561D08>> could not be transformed and will be executed as-is. Please report this to the AutgoGraph team. When filing the bug, set the verbosity to 10 (on Linux, `export AUTOGRAPH_VERBOSITY=10`) and attach the full output. Cause: converting <bound method Dense.call of <tensorflow.python.layers.core.Dense object at 0x000001E42A561D08>>: AttributeError: module 'gast' has no attribute 'Index'\n",
      "WARNING: Entity <bound method Dense.call of <tensorflow.python.layers.core.Dense object at 0x000001E42A561D08>> could not be transformed and will be executed as-is. Please report this to the AutgoGraph team. When filing the bug, set the verbosity to 10 (on Linux, `export AUTOGRAPH_VERBOSITY=10`) and attach the full output. Cause: converting <bound method Dense.call of <tensorflow.python.layers.core.Dense object at 0x000001E42A561D08>>: AttributeError: module 'gast' has no attribute 'Index'\n",
      "WARNING:tensorflow:Entity <bound method Dense.call of <tensorflow.python.layers.core.Dense object at 0x000001E42A561D08>> could not be transformed and will be executed as-is. Please report this to the AutgoGraph team. When filing the bug, set the verbosity to 10 (on Linux, `export AUTOGRAPH_VERBOSITY=10`) and attach the full output. Cause: converting <bound method Dense.call of <tensorflow.python.layers.core.Dense object at 0x000001E42A561D08>>: AttributeError: module 'gast' has no attribute 'Index'\n",
      "WARNING: Entity <bound method Dense.call of <tensorflow.python.layers.core.Dense object at 0x000001E42A561D08>> could not be transformed and will be executed as-is. Please report this to the AutgoGraph team. When filing the bug, set the verbosity to 10 (on Linux, `export AUTOGRAPH_VERBOSITY=10`) and attach the full output. Cause: converting <bound method Dense.call of <tensorflow.python.layers.core.Dense object at 0x000001E42A561D08>>: AttributeError: module 'gast' has no attribute 'Index'\n",
      "WARNING:tensorflow:Entity <bound method Dense.call of <tensorflow.python.layers.core.Dense object at 0x000001E42A561D08>> could not be transformed and will be executed as-is. Please report this to the AutgoGraph team. When filing the bug, set the verbosity to 10 (on Linux, `export AUTOGRAPH_VERBOSITY=10`) and attach the full output. Cause: converting <bound method Dense.call of <tensorflow.python.layers.core.Dense object at 0x000001E42A561D08>>: AttributeError: module 'gast' has no attribute 'Index'\n",
      "WARNING: Entity <bound method Dense.call of <tensorflow.python.layers.core.Dense object at 0x000001E42A561D08>> could not be transformed and will be executed as-is. Please report this to the AutgoGraph team. When filing the bug, set the verbosity to 10 (on Linux, `export AUTOGRAPH_VERBOSITY=10`) and attach the full output. Cause: converting <bound method Dense.call of <tensorflow.python.layers.core.Dense object at 0x000001E42A561D08>>: AttributeError: module 'gast' has no attribute 'Index'\n",
      "WARNING:tensorflow:Entity <bound method Dense.call of <tensorflow.python.layers.core.Dense object at 0x000001E42A561D08>> could not be transformed and will be executed as-is. Please report this to the AutgoGraph team. When filing the bug, set the verbosity to 10 (on Linux, `export AUTOGRAPH_VERBOSITY=10`) and attach the full output. Cause: converting <bound method Dense.call of <tensorflow.python.layers.core.Dense object at 0x000001E42A561D08>>: AttributeError: module 'gast' has no attribute 'Index'\n",
      "WARNING: Entity <bound method Dense.call of <tensorflow.python.layers.core.Dense object at 0x000001E42A561D08>> could not be transformed and will be executed as-is. Please report this to the AutgoGraph team. When filing the bug, set the verbosity to 10 (on Linux, `export AUTOGRAPH_VERBOSITY=10`) and attach the full output. Cause: converting <bound method Dense.call of <tensorflow.python.layers.core.Dense object at 0x000001E42A561D08>>: AttributeError: module 'gast' has no attribute 'Index'\n",
      "WARNING:tensorflow:Entity <bound method Dense.call of <tensorflow.python.layers.core.Dense object at 0x000001E42A561D08>> could not be transformed and will be executed as-is. Please report this to the AutgoGraph team. When filing the bug, set the verbosity to 10 (on Linux, `export AUTOGRAPH_VERBOSITY=10`) and attach the full output. Cause: converting <bound method Dense.call of <tensorflow.python.layers.core.Dense object at 0x000001E42A561D08>>: AttributeError: module 'gast' has no attribute 'Index'\n",
      "WARNING: Entity <bound method Dense.call of <tensorflow.python.layers.core.Dense object at 0x000001E42A561D08>> could not be transformed and will be executed as-is. Please report this to the AutgoGraph team. When filing the bug, set the verbosity to 10 (on Linux, `export AUTOGRAPH_VERBOSITY=10`) and attach the full output. Cause: converting <bound method Dense.call of <tensorflow.python.layers.core.Dense object at 0x000001E42A561D08>>: AttributeError: module 'gast' has no attribute 'Index'\n",
      "INFO:tensorflow:Restoring parameters from ./decoders/adan/3/decoder\n",
      "The multi-variate r2 values for all the folds are:\n",
      "[0.7209513155910803, 0.7541318758105107, 0.7475076185276464, 0.6903486795736482]\n"
     ]
    }
   ],
   "source": [
    "from wiener_filter import format_data_from_trials, train_wiener_filter, test_wiener_filter\n",
    "from sklearn.model_selection import KFold\n",
    "from sklearn.metrics import r2_score\n",
    "from utils import list_to_nparray\n",
    "\n",
    "# ---- Create debug folders ---- #\n",
    "for cv in range(training_params['cv_folds']):\n",
    "    if not os.path.exists(os.path.join(os.getcwd(), 'decoders/adan/' + str(cv))):\n",
    "        os.makedirs(os.path.join(os.getcwd(), 'decoders/adan/' + str(cv)))\n",
    "    if not os.path.exists(os.path.join(os.getcwd(), 'results/' + str(cv))):\n",
    "        os.makedirs(os.path.join(os.getcwd(), 'results/' + str(cv)))\n",
    "\n",
    "resume_decoder = True  # False if ADAN day-0 model has not been trained yet\n",
    "n_lags = 4 # the number of time lags in Wiener filter\n",
    "cv_folds = training_params['cv_folds']\n",
    "kf = KFold(n_splits=cv_folds, shuffle=False)\n",
    "\n",
    "decoder_list = [] # for decoder saving\n",
    "mr2_list = [[] for cv in range(cv_folds)] # for multi-variate r2 saving\n",
    "r2_list = [[] for cv in range(cv_folds)] # for single-channel r2 saving\n",
    "\n",
    "for cv, (train_idx, test_idx) in enumerate(kf.split(day0_spike_)):\n",
    "    #------ select training and test trials from the specified fold ------#\n",
    "    x_train = list_to_nparray([day0_spike_[i] for i in train_idx])\n",
    "    y_train = list_to_nparray([day0_EMG_[i] for i in train_idx])\n",
    "    x_test = list_to_nparray([day0_spike_[i] for i in test_idx])\n",
    "    y_test = list_to_nparray([day0_EMG_[i] for i in test_idx])\n",
    "    \n",
    "     #-- ADAN requires an np.array of concateated trials whose length is a multiple of the chosen batch size--#\n",
    "    idx_tr = int(len(x_train) // training_params['n_lags'] * training_params['n_lags'])\n",
    "    x_train = x_train[:idx_tr]\n",
    "    y_train = y_train[:idx_tr]\n",
    "    idx_te = int(len(x_test) // training_params['n_lags'] * training_params['n_lags'])\n",
    "    x_test = x_test[:idx_te]\n",
    "    y_test = y_test[:idx_te]\n",
    "    \n",
    "    #------ start training of ADAN day-0 model ------#\n",
    "    if not resume_decoder:\n",
    "        best_mr2 = -1e10\n",
    "        n_batches = len(x_train)//training_params['batch_size']\n",
    "        gamma_ = np.float32(1.)\n",
    "        saver = tf.train.Saver(max_to_keep=1)\n",
    "        init = tf.global_variables_initializer()\n",
    "\n",
    "        with tf.Session() as sess:\n",
    "            init.run()\n",
    "\n",
    "            for epoch in range(training_params['epochs']):\n",
    "                # ---- Get batches for neural and emg data ---- #\n",
    "                    spike_gen_obj = get_batches(x_train,training_params['batch_size'])\n",
    "                    emg_gen_obj = get_batches(y_train,training_params['batch_size'])\n",
    "\n",
    "                    # ---- Run batch GD ---- #\n",
    "                    for ii in range(n_batches):\n",
    "                        spike_batch = next(spike_gen_obj)\n",
    "                        emg_batch = next(emg_gen_obj)\n",
    "                        sys.stdout.flush()\n",
    "                        sess.run(optimizer,feed_dict={spike: spike_batch, emg: emg_batch, gamma: gamma_})\n",
    "\n",
    "                    # ---- Compute AE and LSTM loss and apply forward pass---- #\n",
    "                    ae_loss_ = ae_loss.eval(feed_dict={spike: x_train, emg: y_train, gamma: gamma_})\n",
    "                    emg_loss_ = emg_loss.eval(feed_dict={spike: x_train, emg: y_train, gamma: gamma_})\n",
    "                    gamma_ = emg_loss_/ae_loss_\n",
    "\n",
    "                    pred_x_train, pred_x_test = [logits.eval(feed_dict={spike: x_train}),\n",
    "                                                logits.eval(feed_dict={spike: x_test})]\n",
    "                    pred_y_train, pred_y_test = [emg_hat.eval(feed_dict={spike: x_train, emg: y_train}),\n",
    "                                                emg_hat.eval(feed_dict={spike: x_test, emg: y_test})]\n",
    "\n",
    "                    # ---- Train and test wiener filter based decoder using AE latent signals---- #\n",
    "                    x_train_lat = latent.eval(feed_dict={spike: x_train})\n",
    "                    x_train_lat_, y_train_ = format_data_from_trials(x_train_lat, y_train, training_params['n_lags'])\n",
    "                    H = train_wiener_filter(x_train_lat_, y_train_, l2=1, print_output=False)\n",
    "\n",
    "                    x_test_lat = latent.eval(feed_dict={spike: x_test})\n",
    "                    x_test_lat_, y_test_ = format_data_from_trials(x_test_lat, y_test, training_params['n_lags'])\n",
    "                    pred_y_train_ = test_wiener_filter(x_train_lat_, H)\n",
    "                    pred_y_test_ = test_wiener_filter(x_test_lat_, H)\n",
    "\n",
    "                    mr2 = r2_score(y_test_, pred_y_test_, multioutput='variance_weighted')\n",
    "\n",
    "                    # ---- Report results for current epoch and save model---- #\n",
    "                    if mr2 > best_mr2:\n",
    "                        best_mr2 = mr2\n",
    "                        mr2_list[cv] = mr2\n",
    "                        r2_list[cv] = r2_score(y_test_, pred_y_test_, multioutput='raw_values')\n",
    "                        saver.save(sess, './decoders/adan/' + str(cv) + '/decoder')\n",
    "                        np.save('./decoders/adan/' + str(cv) + '/Day-0 decoder', H)\n",
    "\n",
    "                    if (epoch % 10 == 0) or (epoch == training_params['epochs']-1):\n",
    "                        print(\"CV fold:\", cv,\"\\tEpoch:\", epoch, \"\\tAE_loss:\",ae_loss_, \"\\tLSTM EMG_loss:\",emg_loss_)\n",
    "                        print(\"AE Train %R2:\", r2_score(x_train, pred_x_train, multioutput='variance_weighted'),\n",
    "                              \"\\AE Test %R2:\", r2_score(x_test, pred_x_test, multioutput='variance_weighted'))\n",
    "                        print(\"LSTM EMG Train %R2:\", r2_score(y_train, pred_y_train, multioutput='variance_weighted'),\n",
    "                              \"\\LSTM EMG Test %R2:\", r2_score(y_test, pred_y_test, multioutput='variance_weighted'))\n",
    "                        print(\"Wiener: EMG Train %R2:\", r2_score(y_train_, pred_y_train_, multioutput='variance_weighted'), \n",
    "                              \"\\EMG Test %R2:\", r2_score(y_test_, pred_y_test_, multioutput='variance_weighted'))\n",
    "            print(\"End of training fold \", str(cv), \"\\n\")\n",
    "    \n",
    "    #------ resume an already trained ADAN day-0 model ------#\n",
    "    else:\n",
    "        H = np.load('./decoders/adan/' + str(cv) + '/Day-0 decoder.npy')\n",
    "        tf.reset_default_graph()\n",
    "        g = tf.train.import_meta_graph('./decoders/adan/' + str(cv) + '/decoder.meta')\n",
    "        graph = tf.get_default_graph()\n",
    "        spike = graph.get_tensor_by_name(\"spike:0\")\n",
    "        \n",
    "        # ---- Set parameters of AE as those saved after training---- #\n",
    "        latent, logits = autoencoder(spike, training_params)\n",
    "        t_vars = tf.trainable_variables()\n",
    "        a_vars = [var.name for var in t_vars if var.name.startswith('autoencoder')]\n",
    "        for i, name in enumerate(a_vars):\n",
    "            # calling autoencoder model makes other 12 layers appearing, consider only first 12\n",
    "            if i < 12:\n",
    "                tf.train.init_from_checkpoint('./decoders/adan/' + str(cv) + '/', {name[:-2]: a_vars[i][:-2]})\n",
    "        init = tf.global_variables_initializer()\n",
    "\n",
    "        with tf.Session() as sess:\n",
    "            init.run()\n",
    "            g.restore(sess, tf.train.latest_checkpoint('./decoders/adan/' + str(cv) + '/'))\n",
    "            \n",
    "            # ---- Forward pass of day-0 decoder ---- #\n",
    "            x_test_lat = latent.eval(feed_dict={spike: x_test})\n",
    "            x_test_lat_, y_test_ = format_data_from_trials(x_test_lat, y_test, training_params['n_lags'])\n",
    "            pred_y_test_ = test_wiener_filter(x_test_lat_, H)\n",
    "            mr2_list[cv] = r2_score(y_test_, pred_y_test_, multioutput='variance_weighted')\n",
    "            r2_list[cv] = r2_score(y_test_, pred_y_test_, multioutput='raw_values')\n",
    "\n",
    "print('The multi-variate r2 values for all the folds are:')\n",
    "print(mr2_list)\n",
    "best_fold = np.argmax(mr2_list)    "
   ]
  },
  {
   "cell_type": "markdown",
   "id": "62bb25cb-417d-42da-ba81-853051964b8b",
   "metadata": {},
   "source": [
    "Important variables:\n",
    "* pred_y_test: the predicted EMG in the testing trials, a numpy array containing concatenated trials.\n",
    "* mr2: the multi-variate $R^2$ between the actual and predicted EMGs in the testing set.\n",
    "\n",
    "Important functions:\n",
    "* `[x_, y_] = format_data_from_trials(x, y, n_lags)`:\n",
    "  - x: a list, where each element is a numpy array containing the spike firing rates for a trial\n",
    "  - y: a list, where each element is a numpy array containing the EMGs for a trial\n",
    "  - n_lags: a number indicating the number of time lags for Wiener filter\n",
    "  \n",
    "  returns:\n",
    "  - x_: x after formatting\n",
    "  - y_: y after formatting\n",
    "\n",
    "* `H = train_wiener_filter(x, y, l2 = 1)`:\n",
    "  - x: a numpy array, formatted spike firing rates for concatenated trials\n",
    "  - y: a numpy array, formatted EMGs for concatenated trials\n",
    "  - l2: bool, a label to indicate if L2 regularization term is needed\n",
    "  \n",
    "  returns:\n",
    "  - H: the decoder coefficients matrix\n",
    "  \n",
    "* `pred_y = test_wiener_filter(x, H)`\n",
    "  - x: a numpy array, formatted spike firing rates for concatenated trials\n",
    "  - H: the decoder coefficients matrix\n",
    "  \n",
    "  returns:\n",
    "  - pred_y: a numpy array, EMGs predicted by the decoder, in concatenated trials"
   ]
  },
  {
   "cell_type": "markdown",
   "id": "c43f758e-72d9-456b-a2e6-8a4ddffb27e3",
   "metadata": {},
   "source": [
    "## Define the blocks for the ADAN based aligner"
   ]
  },
  {
   "cell_type": "markdown",
   "id": "c34ce2e8-2597-4639-b1ec-a28255ae0dda",
   "metadata": {},
   "source": [
    "Now we are going to build the ADAN based aligner described in [Our preprint](https://www.biorxiv.org/content/10.1101/2022.08.26.504777v1). We will train it with a certain number of trials. We will test the performance of the day-0 decoder after aligning day-k data using the ADAN based aligner. We will use `tensorflow 1.0` for all the implementations. Since our approach is quite effecient, a CPU is already good enough for the training, while a GPU may not be used.\n",
    "\n",
    "First let's define the architectures of the generator and the discriminator networks.\n",
    "\n",
    "Here all the networks are simple feedforward neural networks with a single hidden layer."
   ]
  },
  {
   "cell_type": "markdown",
   "id": "fbd5270d-a31e-4f4c-ad76-2b110495111c",
   "metadata": {},
   "source": [
    "### The definition of the generator network"
   ]
  },
  {
   "cell_type": "markdown",
   "id": "318430cf-3c95-42d5-a031-afc687821681",
   "metadata": {},
   "source": [
    "The ADAN generator is a shallow feedforward neural networks with one hidden layer. It takes N channels of spike firing rates as the input, and output N channels of aligned spike firing rates. It acts as a distribution aligment module."
   ]
  },
  {
   "cell_type": "markdown",
   "id": "5d79562f-993a-4b27-9fce-3e1ba8c19edc",
   "metadata": {},
   "source": [
    "<img src=\"./images/adan_generator_network.png\" style = \"width: 400px\" align=\"left\"/>"
   ]
  },
  {
   "cell_type": "code",
   "execution_count": 10,
   "id": "6d215e8c-75c9-49ae-a9f7-946152a5d712",
   "metadata": {},
   "outputs": [],
   "source": [
    "def generator(input_, training_params, reuse=False):\n",
    "    with tf.variable_scope('generator',initializer=tf.initializers.identity(),reuse=reuse):\n",
    "        h1 = tf.layers.dense(input_,training_params['spike_dim'],activation=tf.nn.elu)\n",
    "        output = tf.layers.dense(h1,training_params['spike_dim'],activation=None)\n",
    "    return output"
   ]
  },
  {
   "cell_type": "markdown",
   "id": "885566da-d09c-441d-9e36-78474f716490",
   "metadata": {},
   "source": [
    "### The definition of the discriminator network"
   ]
  },
  {
   "cell_type": "markdown",
   "id": "8f081f3e-b8ba-45e1-af54-04463f5f3dda",
   "metadata": {},
   "source": [
    "The ADAN discriminator is an autoencoder and has the same architecture as that used to find the nonlinear latent space on day-0."
   ]
  },
  {
   "cell_type": "markdown",
   "id": "264f4d5a-f7f3-4876-93ac-6fbc996e651f",
   "metadata": {},
   "source": [
    "<img src=\"./images/adan_discriminator_network.png\" style = \"width: 700px\" align=\"left\"/>"
   ]
  },
  {
   "cell_type": "code",
   "execution_count": 11,
   "id": "8191fccc-cc13-46bd-be65-eade717a1290",
   "metadata": {},
   "outputs": [],
   "source": [
    "def discriminator(input_, training_params, reuse=False):\n",
    "    n_units = [64, 32, training_params['latent_dim']]\n",
    "    with tf.variable_scope('discriminator', reuse=tf.AUTO_REUSE):\n",
    "        noise = tf.random_normal(tf.shape(input_), dtype=tf.float32)\n",
    "        input_ = input_+noise\n",
    "        h1 = tf.layers.dense(input_, units=n_units[0], activation=tf.nn.elu)\n",
    "        h2 = tf.layers.dense(h1, units=n_units[1], activation=tf.nn.elu)\n",
    "        latent = tf.layers.dense(h2, units=n_units[2], activation=None)\n",
    "        h3 = tf.layers.dense(latent, units=n_units[1], activation=tf.nn.elu)\n",
    "        h4 = tf.layers.dense(h3, units=n_units[0], activation=tf.nn.elu)\n",
    "        logits = tf.layers.dense(h4, units=training_params['spike_dim'], activation=None)\n",
    "        return latent, logits"
   ]
  },
  {
   "cell_type": "markdown",
   "id": "228fc834-f5c2-4fb9-b0cc-7311c226a21d",
   "metadata": {
    "tags": []
   },
   "source": [
    "## Train and test an ADAN based aligner"
   ]
  },
  {
   "cell_type": "markdown",
   "id": "1d228a31-2a9d-466d-8abe-fbef51169e67",
   "metadata": {},
   "source": [
    "The generator (G) and discriminator (D) form a pair of adversarial networks: generator maps data from the day-k domain to the day-0 domain, while discriminator aims to distinguish between the day-0 samples and the output of generator, see the figure below.\n",
    "\n",
    "During training of the aligner, the generator is fed with day-k neural firing rates and applies a nonlinear transform over these data to match them to the day-0 neuron response distributions. The output of the generator, and the true day-0 neural firing rates are then passed to the discriminator, which passes both inputs through the autoencoder: namely, it projects each signal into the latent space and then reconstructs it. The distributions of the residuals between the autoencoder inputs and the reconstructions are computed for both the generator output and the true day-0 data, and a lower bound to the Wasserstein distance () is used to measure the dissimilarity between the two distributions. The goal of adversarial learning is to find a discriminator that maximizes the dissimilarity between responses of D to true day-0 firing rates and to outputs of G, while also finding a generator G that minimizes the dissimilarity between true day-0 firing rates and the outputs of G; this objective is called the adversarial loss. When the training is completed, G will have been trained to “align” the neural firing rates on day-k with those on day-0. For a full description of the ADAN architecture and its training strategy, please refer to [our preprint](https://www.biorxiv.org/content/10.1101/2022.08.26.504777v1)."
   ]
  },
  {
   "cell_type": "markdown",
   "id": "581133c8-76ec-41df-a9aa-379a3a4eec24",
   "metadata": {},
   "source": [
    "![cycle_gan_structure](./images/adan_structure.png)"
   ]
  },
  {
   "cell_type": "markdown",
   "id": "0c7093f6",
   "metadata": {},
   "source": [
    "### Define ADAN day-k model graph and hyperparameters"
   ]
  },
  {
   "cell_type": "markdown",
   "id": "310de47a",
   "metadata": {},
   "source": [
    "* training_params:\n",
    "  - epochs: the number of training epochs\n",
    "  - batch_size: the size of training batches. Smaller batch sizes are recommended for trainin stability\n",
    "  - D_lr: the learning rate for the discriminator network\n",
    "  - G_lr: the learning rate for the generator network"
   ]
  },
  {
   "cell_type": "code",
   "execution_count": 12,
   "id": "4342e6b7",
   "metadata": {},
   "outputs": [
    {
     "name": "stdout",
     "output_type": "stream",
     "text": [
      "WARNING:tensorflow:Entity <bound method Dense.call of <tensorflow.python.layers.core.Dense object at 0x000001E436D87788>> could not be transformed and will be executed as-is. Please report this to the AutgoGraph team. When filing the bug, set the verbosity to 10 (on Linux, `export AUTOGRAPH_VERBOSITY=10`) and attach the full output. Cause: converting <bound method Dense.call of <tensorflow.python.layers.core.Dense object at 0x000001E436D87788>>: AttributeError: module 'gast' has no attribute 'Index'\n",
      "WARNING: Entity <bound method Dense.call of <tensorflow.python.layers.core.Dense object at 0x000001E436D87788>> could not be transformed and will be executed as-is. Please report this to the AutgoGraph team. When filing the bug, set the verbosity to 10 (on Linux, `export AUTOGRAPH_VERBOSITY=10`) and attach the full output. Cause: converting <bound method Dense.call of <tensorflow.python.layers.core.Dense object at 0x000001E436D87788>>: AttributeError: module 'gast' has no attribute 'Index'\n",
      "WARNING:tensorflow:Entity <bound method Dense.call of <tensorflow.python.layers.core.Dense object at 0x000001E436D87788>> could not be transformed and will be executed as-is. Please report this to the AutgoGraph team. When filing the bug, set the verbosity to 10 (on Linux, `export AUTOGRAPH_VERBOSITY=10`) and attach the full output. Cause: converting <bound method Dense.call of <tensorflow.python.layers.core.Dense object at 0x000001E436D87788>>: AttributeError: module 'gast' has no attribute 'Index'\n",
      "WARNING: Entity <bound method Dense.call of <tensorflow.python.layers.core.Dense object at 0x000001E436D87788>> could not be transformed and will be executed as-is. Please report this to the AutgoGraph team. When filing the bug, set the verbosity to 10 (on Linux, `export AUTOGRAPH_VERBOSITY=10`) and attach the full output. Cause: converting <bound method Dense.call of <tensorflow.python.layers.core.Dense object at 0x000001E436D87788>>: AttributeError: module 'gast' has no attribute 'Index'\n",
      "WARNING:tensorflow:Entity <bound method Dense.call of <tensorflow.python.layers.core.Dense object at 0x000001E436D87788>> could not be transformed and will be executed as-is. Please report this to the AutgoGraph team. When filing the bug, set the verbosity to 10 (on Linux, `export AUTOGRAPH_VERBOSITY=10`) and attach the full output. Cause: converting <bound method Dense.call of <tensorflow.python.layers.core.Dense object at 0x000001E436D87788>>: AttributeError: module 'gast' has no attribute 'Index'\n",
      "WARNING: Entity <bound method Dense.call of <tensorflow.python.layers.core.Dense object at 0x000001E436D87788>> could not be transformed and will be executed as-is. Please report this to the AutgoGraph team. When filing the bug, set the verbosity to 10 (on Linux, `export AUTOGRAPH_VERBOSITY=10`) and attach the full output. Cause: converting <bound method Dense.call of <tensorflow.python.layers.core.Dense object at 0x000001E436D87788>>: AttributeError: module 'gast' has no attribute 'Index'\n",
      "WARNING:tensorflow:Entity <bound method Dense.call of <tensorflow.python.layers.core.Dense object at 0x000001E436D87788>> could not be transformed and will be executed as-is. Please report this to the AutgoGraph team. When filing the bug, set the verbosity to 10 (on Linux, `export AUTOGRAPH_VERBOSITY=10`) and attach the full output. Cause: converting <bound method Dense.call of <tensorflow.python.layers.core.Dense object at 0x000001E436D87788>>: AttributeError: module 'gast' has no attribute 'Index'\n",
      "WARNING: Entity <bound method Dense.call of <tensorflow.python.layers.core.Dense object at 0x000001E436D87788>> could not be transformed and will be executed as-is. Please report this to the AutgoGraph team. When filing the bug, set the verbosity to 10 (on Linux, `export AUTOGRAPH_VERBOSITY=10`) and attach the full output. Cause: converting <bound method Dense.call of <tensorflow.python.layers.core.Dense object at 0x000001E436D87788>>: AttributeError: module 'gast' has no attribute 'Index'\n",
      "WARNING:tensorflow:Entity <bound method Dense.call of <tensorflow.python.layers.core.Dense object at 0x000001E436D87788>> could not be transformed and will be executed as-is. Please report this to the AutgoGraph team. When filing the bug, set the verbosity to 10 (on Linux, `export AUTOGRAPH_VERBOSITY=10`) and attach the full output. Cause: converting <bound method Dense.call of <tensorflow.python.layers.core.Dense object at 0x000001E436D87788>>: AttributeError: module 'gast' has no attribute 'Index'\n",
      "WARNING: Entity <bound method Dense.call of <tensorflow.python.layers.core.Dense object at 0x000001E436D87788>> could not be transformed and will be executed as-is. Please report this to the AutgoGraph team. When filing the bug, set the verbosity to 10 (on Linux, `export AUTOGRAPH_VERBOSITY=10`) and attach the full output. Cause: converting <bound method Dense.call of <tensorflow.python.layers.core.Dense object at 0x000001E436D87788>>: AttributeError: module 'gast' has no attribute 'Index'\n",
      "WARNING:tensorflow:Entity <bound method Dense.call of <tensorflow.python.layers.core.Dense object at 0x000001E436D87788>> could not be transformed and will be executed as-is. Please report this to the AutgoGraph team. When filing the bug, set the verbosity to 10 (on Linux, `export AUTOGRAPH_VERBOSITY=10`) and attach the full output. Cause: converting <bound method Dense.call of <tensorflow.python.layers.core.Dense object at 0x000001E436D87788>>: AttributeError: module 'gast' has no attribute 'Index'\n",
      "WARNING: Entity <bound method Dense.call of <tensorflow.python.layers.core.Dense object at 0x000001E436D87788>> could not be transformed and will be executed as-is. Please report this to the AutgoGraph team. When filing the bug, set the verbosity to 10 (on Linux, `export AUTOGRAPH_VERBOSITY=10`) and attach the full output. Cause: converting <bound method Dense.call of <tensorflow.python.layers.core.Dense object at 0x000001E436D87788>>: AttributeError: module 'gast' has no attribute 'Index'\n",
      "WARNING:tensorflow:Entity <bound method Dense.call of <tensorflow.python.layers.core.Dense object at 0x000001E42C617588>> could not be transformed and will be executed as-is. Please report this to the AutgoGraph team. When filing the bug, set the verbosity to 10 (on Linux, `export AUTOGRAPH_VERBOSITY=10`) and attach the full output. Cause: converting <bound method Dense.call of <tensorflow.python.layers.core.Dense object at 0x000001E42C617588>>: AttributeError: module 'gast' has no attribute 'Index'\n",
      "WARNING: Entity <bound method Dense.call of <tensorflow.python.layers.core.Dense object at 0x000001E42C617588>> could not be transformed and will be executed as-is. Please report this to the AutgoGraph team. When filing the bug, set the verbosity to 10 (on Linux, `export AUTOGRAPH_VERBOSITY=10`) and attach the full output. Cause: converting <bound method Dense.call of <tensorflow.python.layers.core.Dense object at 0x000001E42C617588>>: AttributeError: module 'gast' has no attribute 'Index'\n",
      "WARNING:tensorflow:Entity <bound method Dense.call of <tensorflow.python.layers.core.Dense object at 0x000001E47930C988>> could not be transformed and will be executed as-is. Please report this to the AutgoGraph team. When filing the bug, set the verbosity to 10 (on Linux, `export AUTOGRAPH_VERBOSITY=10`) and attach the full output. Cause: converting <bound method Dense.call of <tensorflow.python.layers.core.Dense object at 0x000001E47930C988>>: AttributeError: module 'gast' has no attribute 'Index'\n",
      "WARNING: Entity <bound method Dense.call of <tensorflow.python.layers.core.Dense object at 0x000001E47930C988>> could not be transformed and will be executed as-is. Please report this to the AutgoGraph team. When filing the bug, set the verbosity to 10 (on Linux, `export AUTOGRAPH_VERBOSITY=10`) and attach the full output. Cause: converting <bound method Dense.call of <tensorflow.python.layers.core.Dense object at 0x000001E47930C988>>: AttributeError: module 'gast' has no attribute 'Index'\n",
      "WARNING:tensorflow:Entity <bound method Dense.call of <tensorflow.python.layers.core.Dense object at 0x000001E42C81C3C8>> could not be transformed and will be executed as-is. Please report this to the AutgoGraph team. When filing the bug, set the verbosity to 10 (on Linux, `export AUTOGRAPH_VERBOSITY=10`) and attach the full output. Cause: converting <bound method Dense.call of <tensorflow.python.layers.core.Dense object at 0x000001E42C81C3C8>>: AttributeError: module 'gast' has no attribute 'Index'\n"
     ]
    },
    {
     "name": "stdout",
     "output_type": "stream",
     "text": [
      "WARNING: Entity <bound method Dense.call of <tensorflow.python.layers.core.Dense object at 0x000001E42C81C3C8>> could not be transformed and will be executed as-is. Please report this to the AutgoGraph team. When filing the bug, set the verbosity to 10 (on Linux, `export AUTOGRAPH_VERBOSITY=10`) and attach the full output. Cause: converting <bound method Dense.call of <tensorflow.python.layers.core.Dense object at 0x000001E42C81C3C8>>: AttributeError: module 'gast' has no attribute 'Index'\n",
      "WARNING:tensorflow:Entity <bound method Dense.call of <tensorflow.python.layers.core.Dense object at 0x000001E42C81C3C8>> could not be transformed and will be executed as-is. Please report this to the AutgoGraph team. When filing the bug, set the verbosity to 10 (on Linux, `export AUTOGRAPH_VERBOSITY=10`) and attach the full output. Cause: converting <bound method Dense.call of <tensorflow.python.layers.core.Dense object at 0x000001E42C81C3C8>>: AttributeError: module 'gast' has no attribute 'Index'\n",
      "WARNING: Entity <bound method Dense.call of <tensorflow.python.layers.core.Dense object at 0x000001E42C81C3C8>> could not be transformed and will be executed as-is. Please report this to the AutgoGraph team. When filing the bug, set the verbosity to 10 (on Linux, `export AUTOGRAPH_VERBOSITY=10`) and attach the full output. Cause: converting <bound method Dense.call of <tensorflow.python.layers.core.Dense object at 0x000001E42C81C3C8>>: AttributeError: module 'gast' has no attribute 'Index'\n",
      "WARNING:tensorflow:Entity <bound method Dense.call of <tensorflow.python.layers.core.Dense object at 0x000001E42C81C3C8>> could not be transformed and will be executed as-is. Please report this to the AutgoGraph team. When filing the bug, set the verbosity to 10 (on Linux, `export AUTOGRAPH_VERBOSITY=10`) and attach the full output. Cause: converting <bound method Dense.call of <tensorflow.python.layers.core.Dense object at 0x000001E42C81C3C8>>: AttributeError: module 'gast' has no attribute 'Index'\n",
      "WARNING: Entity <bound method Dense.call of <tensorflow.python.layers.core.Dense object at 0x000001E42C81C3C8>> could not be transformed and will be executed as-is. Please report this to the AutgoGraph team. When filing the bug, set the verbosity to 10 (on Linux, `export AUTOGRAPH_VERBOSITY=10`) and attach the full output. Cause: converting <bound method Dense.call of <tensorflow.python.layers.core.Dense object at 0x000001E42C81C3C8>>: AttributeError: module 'gast' has no attribute 'Index'\n",
      "WARNING:tensorflow:Entity <bound method Dense.call of <tensorflow.python.layers.core.Dense object at 0x000001E42C81C3C8>> could not be transformed and will be executed as-is. Please report this to the AutgoGraph team. When filing the bug, set the verbosity to 10 (on Linux, `export AUTOGRAPH_VERBOSITY=10`) and attach the full output. Cause: converting <bound method Dense.call of <tensorflow.python.layers.core.Dense object at 0x000001E42C81C3C8>>: AttributeError: module 'gast' has no attribute 'Index'\n",
      "WARNING: Entity <bound method Dense.call of <tensorflow.python.layers.core.Dense object at 0x000001E42C81C3C8>> could not be transformed and will be executed as-is. Please report this to the AutgoGraph team. When filing the bug, set the verbosity to 10 (on Linux, `export AUTOGRAPH_VERBOSITY=10`) and attach the full output. Cause: converting <bound method Dense.call of <tensorflow.python.layers.core.Dense object at 0x000001E42C81C3C8>>: AttributeError: module 'gast' has no attribute 'Index'\n",
      "WARNING:tensorflow:Entity <bound method Dense.call of <tensorflow.python.layers.core.Dense object at 0x000001E42C81C3C8>> could not be transformed and will be executed as-is. Please report this to the AutgoGraph team. When filing the bug, set the verbosity to 10 (on Linux, `export AUTOGRAPH_VERBOSITY=10`) and attach the full output. Cause: converting <bound method Dense.call of <tensorflow.python.layers.core.Dense object at 0x000001E42C81C3C8>>: AttributeError: module 'gast' has no attribute 'Index'\n",
      "WARNING: Entity <bound method Dense.call of <tensorflow.python.layers.core.Dense object at 0x000001E42C81C3C8>> could not be transformed and will be executed as-is. Please report this to the AutgoGraph team. When filing the bug, set the verbosity to 10 (on Linux, `export AUTOGRAPH_VERBOSITY=10`) and attach the full output. Cause: converting <bound method Dense.call of <tensorflow.python.layers.core.Dense object at 0x000001E42C81C3C8>>: AttributeError: module 'gast' has no attribute 'Index'\n",
      "WARNING:tensorflow:Entity <bound method Dense.call of <tensorflow.python.layers.core.Dense object at 0x000001E42C81C3C8>> could not be transformed and will be executed as-is. Please report this to the AutgoGraph team. When filing the bug, set the verbosity to 10 (on Linux, `export AUTOGRAPH_VERBOSITY=10`) and attach the full output. Cause: converting <bound method Dense.call of <tensorflow.python.layers.core.Dense object at 0x000001E42C81C3C8>>: AttributeError: module 'gast' has no attribute 'Index'\n",
      "WARNING: Entity <bound method Dense.call of <tensorflow.python.layers.core.Dense object at 0x000001E42C81C3C8>> could not be transformed and will be executed as-is. Please report this to the AutgoGraph team. When filing the bug, set the verbosity to 10 (on Linux, `export AUTOGRAPH_VERBOSITY=10`) and attach the full output. Cause: converting <bound method Dense.call of <tensorflow.python.layers.core.Dense object at 0x000001E42C81C3C8>>: AttributeError: module 'gast' has no attribute 'Index'\n",
      "WARNING:tensorflow:Entity <bound method Dense.call of <tensorflow.python.layers.core.Dense object at 0x000001E42C7F0C88>> could not be transformed and will be executed as-is. Please report this to the AutgoGraph team. When filing the bug, set the verbosity to 10 (on Linux, `export AUTOGRAPH_VERBOSITY=10`) and attach the full output. Cause: converting <bound method Dense.call of <tensorflow.python.layers.core.Dense object at 0x000001E42C7F0C88>>: AttributeError: module 'gast' has no attribute 'Index'\n",
      "WARNING: Entity <bound method Dense.call of <tensorflow.python.layers.core.Dense object at 0x000001E42C7F0C88>> could not be transformed and will be executed as-is. Please report this to the AutgoGraph team. When filing the bug, set the verbosity to 10 (on Linux, `export AUTOGRAPH_VERBOSITY=10`) and attach the full output. Cause: converting <bound method Dense.call of <tensorflow.python.layers.core.Dense object at 0x000001E42C7F0C88>>: AttributeError: module 'gast' has no attribute 'Index'\n",
      "WARNING:tensorflow:Entity <bound method Dense.call of <tensorflow.python.layers.core.Dense object at 0x000001E42C7F0C88>> could not be transformed and will be executed as-is. Please report this to the AutgoGraph team. When filing the bug, set the verbosity to 10 (on Linux, `export AUTOGRAPH_VERBOSITY=10`) and attach the full output. Cause: converting <bound method Dense.call of <tensorflow.python.layers.core.Dense object at 0x000001E42C7F0C88>>: AttributeError: module 'gast' has no attribute 'Index'\n",
      "WARNING: Entity <bound method Dense.call of <tensorflow.python.layers.core.Dense object at 0x000001E42C7F0C88>> could not be transformed and will be executed as-is. Please report this to the AutgoGraph team. When filing the bug, set the verbosity to 10 (on Linux, `export AUTOGRAPH_VERBOSITY=10`) and attach the full output. Cause: converting <bound method Dense.call of <tensorflow.python.layers.core.Dense object at 0x000001E42C7F0C88>>: AttributeError: module 'gast' has no attribute 'Index'\n",
      "WARNING:tensorflow:Entity <bound method Dense.call of <tensorflow.python.layers.core.Dense object at 0x000001E42C7F0C88>> could not be transformed and will be executed as-is. Please report this to the AutgoGraph team. When filing the bug, set the verbosity to 10 (on Linux, `export AUTOGRAPH_VERBOSITY=10`) and attach the full output. Cause: converting <bound method Dense.call of <tensorflow.python.layers.core.Dense object at 0x000001E42C7F0C88>>: AttributeError: module 'gast' has no attribute 'Index'\n",
      "WARNING: Entity <bound method Dense.call of <tensorflow.python.layers.core.Dense object at 0x000001E42C7F0C88>> could not be transformed and will be executed as-is. Please report this to the AutgoGraph team. When filing the bug, set the verbosity to 10 (on Linux, `export AUTOGRAPH_VERBOSITY=10`) and attach the full output. Cause: converting <bound method Dense.call of <tensorflow.python.layers.core.Dense object at 0x000001E42C7F0C88>>: AttributeError: module 'gast' has no attribute 'Index'\n",
      "WARNING:tensorflow:Entity <bound method Dense.call of <tensorflow.python.layers.core.Dense object at 0x000001E42C7F0C88>> could not be transformed and will be executed as-is. Please report this to the AutgoGraph team. When filing the bug, set the verbosity to 10 (on Linux, `export AUTOGRAPH_VERBOSITY=10`) and attach the full output. Cause: converting <bound method Dense.call of <tensorflow.python.layers.core.Dense object at 0x000001E42C7F0C88>>: AttributeError: module 'gast' has no attribute 'Index'\n"
     ]
    },
    {
     "name": "stdout",
     "output_type": "stream",
     "text": [
      "WARNING: Entity <bound method Dense.call of <tensorflow.python.layers.core.Dense object at 0x000001E42C7F0C88>> could not be transformed and will be executed as-is. Please report this to the AutgoGraph team. When filing the bug, set the verbosity to 10 (on Linux, `export AUTOGRAPH_VERBOSITY=10`) and attach the full output. Cause: converting <bound method Dense.call of <tensorflow.python.layers.core.Dense object at 0x000001E42C7F0C88>>: AttributeError: module 'gast' has no attribute 'Index'\n",
      "WARNING:tensorflow:Entity <bound method Dense.call of <tensorflow.python.layers.core.Dense object at 0x000001E42C7F0C88>> could not be transformed and will be executed as-is. Please report this to the AutgoGraph team. When filing the bug, set the verbosity to 10 (on Linux, `export AUTOGRAPH_VERBOSITY=10`) and attach the full output. Cause: converting <bound method Dense.call of <tensorflow.python.layers.core.Dense object at 0x000001E42C7F0C88>>: AttributeError: module 'gast' has no attribute 'Index'\n",
      "WARNING: Entity <bound method Dense.call of <tensorflow.python.layers.core.Dense object at 0x000001E42C7F0C88>> could not be transformed and will be executed as-is. Please report this to the AutgoGraph team. When filing the bug, set the verbosity to 10 (on Linux, `export AUTOGRAPH_VERBOSITY=10`) and attach the full output. Cause: converting <bound method Dense.call of <tensorflow.python.layers.core.Dense object at 0x000001E42C7F0C88>>: AttributeError: module 'gast' has no attribute 'Index'\n",
      "WARNING:tensorflow:Entity <bound method Dense.call of <tensorflow.python.layers.core.Dense object at 0x000001E42C7F0C88>> could not be transformed and will be executed as-is. Please report this to the AutgoGraph team. When filing the bug, set the verbosity to 10 (on Linux, `export AUTOGRAPH_VERBOSITY=10`) and attach the full output. Cause: converting <bound method Dense.call of <tensorflow.python.layers.core.Dense object at 0x000001E42C7F0C88>>: AttributeError: module 'gast' has no attribute 'Index'\n",
      "WARNING: Entity <bound method Dense.call of <tensorflow.python.layers.core.Dense object at 0x000001E42C7F0C88>> could not be transformed and will be executed as-is. Please report this to the AutgoGraph team. When filing the bug, set the verbosity to 10 (on Linux, `export AUTOGRAPH_VERBOSITY=10`) and attach the full output. Cause: converting <bound method Dense.call of <tensorflow.python.layers.core.Dense object at 0x000001E42C7F0C88>>: AttributeError: module 'gast' has no attribute 'Index'\n"
     ]
    }
   ],
   "source": [
    "#============================= These parameters are for the training process =============================\n",
    "training_params['epochs'] = 200\n",
    "training_params['batch_size'] = 8\n",
    "training_params['D_lr'] = 0.00005\n",
    "training_params['G_lr'] = 0.0001\n",
    "\n",
    "# ---- ADAN Graph ---- #\n",
    "tf.reset_default_graph()\n",
    "tf.set_random_seed(seed=42)\n",
    "g = tf.train.import_meta_graph('./decoders/adan/' + str(best_fold) + '/decoder.meta')\n",
    "graph = tf.get_default_graph()\n",
    "spike = graph.get_tensor_by_name(\"spike:0\")\n",
    "\n",
    "# set parameters of AE as those saved after training\n",
    "latent, logits = autoencoder(spike, training_params)\n",
    "t_vars = tf.trainable_variables()\n",
    "a_vars = [var.name for var in t_vars if var.name.startswith('autoencoder')]\n",
    "\n",
    "# set parameters of AE as those saved after training\n",
    "# Initialize all variables in `new_scope_1` from `old_scope_1`.\n",
    "# init_from_checkpoint('/tmp/model.ckpt', {'old_scope_1/': 'new_scope_1/'})\n",
    "for i, name in enumerate(a_vars):\n",
    "    if i < 12:\n",
    "        tf.train.init_from_checkpoint('./decoders/adan/' + str(best_fold) + '/', {name[:-2]: a_vars[i][:-2]})\n",
    "\n",
    "input_day0 = tf.placeholder(tf.float32, (None, training_params['spike_dim']), name='input_day0')\n",
    "input_dayk = tf.placeholder(tf.float32, (None, training_params['spike_dim']), name='input_dayk')\n",
    "\n",
    "input_dayk_aligned = generator(input_dayk, training_params)\n",
    "latent_day0,logits_day0 = discriminator(input_day0, training_params)\n",
    "latent_dayk,logits_dayk = discriminator(input_dayk_aligned, training_params)\n",
    "\n",
    "# ---- ADAN Losses and Optimizers ---- #\n",
    "d_loss_0 = tf.reduce_mean(tf.abs(logits_day0-input_day0))\n",
    "d_loss_k = tf.reduce_mean(tf.abs(logits_dayk-input_dayk_aligned))\n",
    "d_loss = d_loss_0 - d_loss_k\n",
    "g_loss = d_loss_k\n",
    "\n",
    "t_vars = tf.trainable_variables()\n",
    "g_vars = [var for var in t_vars if var.name.startswith('generator')]\n",
    "d_vars = [var for var in t_vars if var.name.startswith('discriminator')]\n",
    "\n",
    "d_opt = tf.train.AdamOptimizer(learning_rate=training_params['D_lr']).minimize(d_loss, var_list=d_vars)\n",
    "g_opt = tf.train.AdamOptimizer(learning_rate=training_params['G_lr']).minimize(g_loss, var_list=g_vars)\n",
    "\n",
    "# set parameters of discriminator as the AE ones saved after training\n",
    "for i, name in enumerate(a_vars):\n",
    "    if i < 12:\n",
    "        tf.train.init_from_checkpoint('./decoders/adan/' + str(best_fold) + '/', {name[:-2]: d_vars[i]})"
   ]
  },
  {
   "cell_type": "markdown",
   "id": "0fb5a8eb-9947-4ee7-b2b8-3de1c22e1b8a",
   "metadata": {
    "tags": []
   },
   "source": [
    "### Write a function to train an ADAN based aligner"
   ]
  },
  {
   "cell_type": "code",
   "execution_count": 13,
   "id": "84ec82fc",
   "metadata": {},
   "outputs": [],
   "source": [
    "def train_adan_aligner(x1, x2, y2, training_params, decoder, best_fold, n_lags, logs = True):\n",
    "    \"\"\"\n",
    "    x1: M1 spike firing rates on day-0. A list, where each item is a numpy array containing the neural data of one trial\n",
    "    \n",
    "    x2: M1 spike firing rates on day-k. A list, where each item is a numpy array containing the neural data of one trial\n",
    "        x2 will be divided into two portions (ratio 3:1), where the first portion will be used to train the aligner, and \n",
    "        the second portion will be used as the validation set.\n",
    "    \n",
    "    y2: EMGs on day-k. A list, where each item is a numpy array containing the EMGs of one trial. Only a portion of y2\n",
    "        (those corresponding to the trials used as the validation set) will be used.\n",
    "    \n",
    "    training_parameters: the hyper-parameters controlling the training process, a dictionary.\n",
    "    \n",
    "    decoder: the day-0 decoder to be tested on the validation set, an array.\n",
    "    \n",
    "    best_fold: the test fold that contains the best day-0 ADAN model, a number.\n",
    "    \n",
    "    n_lags: the number of time lags of the decoder, a number.\n",
    "    \n",
    "    logs: to indicate if training logs is needed to be recorded as a .pkl file, a bool.\n",
    "    \n",
    "    return: a trained \"aligner\" (generator) for day-k use (TODO)\n",
    "    \"\"\"\n",
    "    #============================================= Specifying hyper-parameters =============================================\n",
    "    epochs = training_params['epochs']\n",
    "    batch_size = training_params['batch_size']\n",
    "    D_lr = training_params['D_lr']\n",
    "    G_lr = training_params['G_lr']\n",
    "    \n",
    "    #=============================== Split x2 into the actual training set and the validation set ==============================\n",
    "    #----------- x2_train will be used in ADAN training -------------\n",
    "    x2_train = x2[:int(len(x2)*0.75)] # training set\n",
    "    \n",
    "    #------- x2_valid and y2_valid will be isolated from training, and used to test the performance of the aligner every 10 trials\n",
    "    x2_valid, y2_valid = x2[int(len(x2)*0.75):], y2[int(len(x2)*0.75):] # validation set\n",
    "    \n",
    "    #===================================  ADAN requires data as numpy array ============================================== \n",
    "    x1, x2_train = list_to_nparray(x1), list_to_nparray(x2_train)\n",
    "    x2_valid, y2_valid = list_to_nparray(x2_valid), list_to_nparray(y2_valid)\n",
    "        \n",
    "    #============================================ Training logs =========================================================\n",
    "    train_log = {'epoch':[], 'batch_idx': [],\n",
    "                 'loss D':[], 'loss G':[],\n",
    "                 'decoder r2 wiener': []}\n",
    "    \n",
    "    #============================================ Preparing to train ========================================================\n",
    "\n",
    "    mr2_all_list = []\n",
    "    \n",
    "    saver = tf.train.Saver(max_to_keep=1)\n",
    "    n_batches = min(len(x1), len(x2_train))//(batch_size)\n",
    "    best_mr2 = -1e10\n",
    "\n",
    "    # ---- Push AE and discriminator initializers ---- #\n",
    "    init = tf.global_variables_initializer()\n",
    "\n",
    "    #================================================== The training loop ====================================================\n",
    "    with tf.Session() as sess:\n",
    "        init.run()\n",
    "        g.restore(sess, tf.train.latest_checkpoint('./decoders/adan/' + str(best_fold) + '/'))\n",
    "        \n",
    "        for epoch in range(epochs):\n",
    "            # ---- Get batches for neural and emg data ---- #\n",
    "            spike_0_gen_obj = get_batches(x1, batch_size)\n",
    "            spike_k_gen_obj = get_batches(x2_train, batch_size)\n",
    "                \n",
    "            # ---- Run batch GD ---- #\n",
    "            for batch_idx in range(n_batches):\n",
    "                spike_0_batch = next(spike_0_gen_obj)\n",
    "                spike_k_batch = next(spike_k_gen_obj)\n",
    "                sys.stdout.flush()\n",
    "                _,g_loss_ = sess.run([g_opt, g_loss],\n",
    "                                     feed_dict={input_day0: spike_0_batch, input_dayk: spike_k_batch})\n",
    "                _,d_loss_0_,d_loss_k_ = sess.run([d_opt, d_loss_0, d_loss_k],\n",
    "                                                 feed_dict={input_day0: spike_0_batch, input_dayk: spike_k_batch})\n",
    "                \n",
    "                #====================================== save the training logs ========================================\n",
    "                if logs == True:\n",
    "                    train_log['epoch'].append(epoch)\n",
    "                    train_log['batch_idx'].append(batch_idx)\n",
    "                    train_log['loss D'].append(d_loss_k_)\n",
    "                    train_log['loss G'].append(g_loss_)\n",
    "                \n",
    "            # -- Apply forward pass to obtain aligned day-k firing rates and test day-0 decoder on the validation set---- #\n",
    "            x2_valid_lat = latent.eval(feed_dict={spike: x2_valid})\n",
    "            x2_valid_lat_, y2_valid_ = format_data_from_trials(x2_valid_lat, y2_valid, n_lags)\n",
    "            pred_y2_valid_nonalign_ = test_wiener_filter(x2_valid_lat_, decoder)\n",
    "                \n",
    "            x2_valid_aligned = input_dayk_aligned.eval(feed_dict={input_dayk: x2_valid})\n",
    "            x2_valid_aligned_lat = latent.eval(feed_dict={spike: x2_valid_aligned})\n",
    "            x2_valid_aligned_lat_, y2_valid_ = format_data_from_trials(x2_valid_aligned_lat, y2_valid, n_lags)\n",
    "            pred_y2_valid_ = test_wiener_filter(x2_valid_aligned_lat_, decoder)\n",
    "\n",
    "            # ---- Report results for current epoch and save model---- #\n",
    "            mr2 = r2_score(y2_valid_, pred_y2_valid_, multioutput='variance_weighted')\n",
    "            \n",
    "            if mr2 > best_mr2:\n",
    "                best_mr2 = mr2\n",
    "                saver.save(sess, './decoders/adan/adan')\n",
    "\n",
    "            #--------- Compute the multi-variate R2 between pred_y2_valid (predicted EMGs) and y2_valid (real EMGs) ----------\n",
    "            mr2 = r2_score(y2_valid_, pred_y2_valid_, multioutput='variance_weighted')\n",
    "            if (epoch + 1)%50 == 0:\n",
    "                print('On the %dth epoch, the R\\u00b2 on the validation set is %.2f'%(epoch+1, mr2))\n",
    "            \n",
    "            if (epoch % 10 == 0) or (epoch == epochs-1):\n",
    "                    print(\"Epoch:\", epoch, \" Discriminator loss_day_0:\", d_loss_0_, \n",
    "                          \"\\Discriminator loss_day_k:\", d_loss_k_)\n",
    "                    print(\"EMG non-aligned R2:\", r2_score(y2_valid_, pred_y2_valid_nonalign_, multioutput='variance_weighted'),\n",
    "                          \"\\tEMG aligned R2:\", r2_score(y2_valid_, pred_y2_valid_, multioutput='variance_weighted'))\n",
    "                    \n",
    "            #------- Save the corresponding performance on the validation set ---------\n",
    "            mr2_all_list.append(mr2)\n",
    "            \n",
    "\n",
    "    IDX = np.argmax(mr2_all_list) \n",
    "    print('The aligner has been well trained on the %dth epoch'%(IDX*10))\n",
    "    train_log['decoder r2 wiener'] = mr2_all_list\n",
    "    #============================================ save the training log =================================================\n",
    "    if logs == True:\n",
    "        dt_string = datetime.now().strftime(\"%m_%d_%Y_%H_%M_%S\")\n",
    "        with open('./train_logs/train_log_' + dt_string + '.pkl', 'wb') as fp:\n",
    "            pickle.dump(train_log, fp)        "
   ]
  },
  {
   "cell_type": "code",
   "execution_count": 14,
   "id": "7f5d1de4",
   "metadata": {},
   "outputs": [],
   "source": [
    "def test_adan_aligner(dayk_data, training_params):\n",
    "    \"\"\"\n",
    "    net: the trained aligner\n",
    "    dayk_data: the data that needs to be processed by the trained aligner\n",
    "    \"\"\"\n",
    "    \n",
    "    # ==== First, align day k neural data with ADAN generator ==== #\n",
    "    dayk_aligned = []\n",
    "    dayk_aligned_lat = []\n",
    "    \n",
    "    # ---- Restore trained ADAN model ---- #\n",
    "    tf.reset_default_graph()\n",
    "    g = tf.train.import_meta_graph('./decoders/adan/adan.meta')\n",
    "    graph = tf.get_default_graph()\n",
    "    input_dayk = graph.get_tensor_by_name(\"input_dayk:0\")\n",
    "    input_dayk_aligned = generator(input_dayk, training_params)\n",
    "\n",
    "    # ---- Set parameters of generator as those saved after training ---- #\n",
    "    t_vars = tf.trainable_variables()\n",
    "    g_vars = [var.name for var in t_vars if var.name.startswith('generator')]\n",
    "    for i, name in enumerate(g_vars):\n",
    "        # having called generator model multiple times makes other 12 layers appearing in t_vars, consider only first 4\n",
    "        if i < 4:\n",
    "            tf.train.init_from_checkpoint('./decoders/adan/' , {name[:-2]: g_vars[i][:-2]})\n",
    "    init = tf.global_variables_initializer()\n",
    "\n",
    "    #------ Use the trained aligner to process the dayk_data ------#\n",
    "    with tf.Session() as sess:\n",
    "        init.run()\n",
    "        g.restore(sess, tf.train.latest_checkpoint('./decoders/adan/'))\n",
    "        for trial, val_trial in enumerate(dayk_data):\n",
    "            dayk_aligned.append(input_dayk_aligned.eval(feed_dict={input_dayk: val_trial}))\n",
    "                  \n",
    "                  \n",
    "    # ==== Then, use day-0 ADAN model to obtain aligned latent space to feed to fixed wiener decoder ==== #\n",
    "    tf.reset_default_graph()\n",
    "    g = tf.train.import_meta_graph('./decoders/adan/' + str(best_fold) + '/decoder.meta')\n",
    "    graph = tf.get_default_graph()\n",
    "    spike = graph.get_tensor_by_name(\"spike:0\")\n",
    "    latent, logits = autoencoder(spike, training_params)\n",
    "\n",
    "    # ---- Set parameters of AE as those saved after training  ----#\n",
    "    a_vars = [var.name for var in t_vars if var.name.startswith('autoencoder')]\n",
    "    for i, name in enumerate(a_vars):\n",
    "        # calling autoencoder model makes other 12 layers appearing, consider only first 12\n",
    "        if i < 12:\n",
    "            tf.train.init_from_checkpoint('./decoders/adan/' + str(best_fold) + '/', {name[:-2]: a_vars[i][:-2]})\n",
    "    init = tf.global_variables_initializer()\n",
    "\n",
    "    #------ Use the trained day-0 AE to process the aligned dayk_data ------#\n",
    "    with tf.Session() as sess:\n",
    "        init.run()\n",
    "        g.restore(sess, tf.train.latest_checkpoint('./decoders/adan/' + str(best_fold) + '/'))\n",
    "        # Aligned neural manifold\n",
    "        for trial, val_trial in enumerate(dayk_aligned):\n",
    "            dayk_aligned_lat.append(latent.eval(feed_dict={spike: val_trial}))\n",
    "\n",
    "    \n",
    "    #------ Return the aligned day-k data --------#\n",
    "    return dayk_aligned, dayk_aligned_lat"
   ]
  },
  {
   "cell_type": "markdown",
   "id": "8e925296-d2a0-4741-8cce-3e775dcd25f4",
   "metadata": {},
   "source": [
    "### Train an ADAN based aligner using the function defined above"
   ]
  },
  {
   "cell_type": "markdown",
   "id": "6da06509-db72-45cf-9036-0d1f0f3910da",
   "metadata": {},
   "source": [
    "The figure below describes how we split the day-0 and day-k datasets for training and testing. Since ADAN tries to transform day-k data into a form resembling day-0 data, we will need both `day0_spike_` and `dayk_spike_` for the aligner training. We have found that the requirement for the amount of `day0_spike_` is not tight, so we include the first 50% of trials of `day0_spike_` in the training set (blue). We then split the `dayk_spike_` in to two portions, where the 75% of trials are for training, and 25% of trials are for testing (pink). Among the training trials, we further isolate 25% of trials to utilize as the validation set (green). The split of the validation set is implemented in the `train_adan_aligner` function.\n",
    "\n",
    "<img src=\"./images/data_split.png\" style = \"width: 500px\" align=\"center\"/>"
   ]
  },
  {
   "cell_type": "code",
   "execution_count": 15,
   "id": "2ae9aeed-c36d-4846-9f5c-28628301a105",
   "metadata": {},
   "outputs": [
    {
     "data": {
      "text/plain": [
       "'\\nNote for each dataset there are 160 trials. 50% corresponds to 80 trials and 75% corresponds to 120 trials.\\nThe split of the validation set is implemented in the `train_adan_aligner` function.\\n'"
      ]
     },
     "execution_count": 15,
     "metadata": {},
     "output_type": "execute_result"
    }
   ],
   "source": [
    "#================================ Load the trained day-0 decoder ========================================\n",
    "day0_decoder = np.load('./decoders/adan/' + str(best_fold) + '/Day-0 decoder.npy')\n",
    "#======================================== Train the aligner ===============================================\n",
    "\"\"\"\n",
    "Note for each dataset there are 160 trials. 50% corresponds to 80 trials and 75% corresponds to 120 trials.\n",
    "The split of the validation set is implemented in the `train_adan_aligner` function.\n",
    "\"\"\"\n",
    "train_adan_aligner(day0_spike_[:80], dayk_spike_[:120], dayk_EMG_[:120],\n",
    "                   training_params, day0_decoder, best_fold, n_lags, True)"
   ]
  },
  {
   "cell_type": "markdown",
   "id": "1c046079-6b05-487f-af47-32c6d7d7f75b",
   "metadata": {},
   "source": [
    "### Test the trained aligner"
   ]
  },
  {
   "cell_type": "markdown",
   "id": "d9d52199-9fe9-476e-8740-4eac728d9c4d",
   "metadata": {},
   "source": [
    "As mentioned above, we are going to use the last 25% of trials (trials 120 ~ 160) of day-k data for the testing. First, we will need to use the trained aligner stored in the variable `aligner` to process `dayk_spike_`. The processed data are stored in `dayk_spike_aligned`.\n",
    "\n",
    "We then load the trained day-0 decoder as shown above, then feed the decoder with `dayk_spike_aligned` (need to be formatted first). The outputs are saved in `pred_dayk_EMG_test_`. "
   ]
  },
  {
   "cell_type": "code",
   "execution_count": 17,
   "id": "4a24375b-f2bc-4890-a8b4-5fe684cece42",
   "metadata": {},
   "outputs": [
    {
     "name": "stdout",
     "output_type": "stream",
     "text": [
      "WARNING:tensorflow:Entity <bound method Dense.call of <tensorflow.python.layers.core.Dense object at 0x000001E437B4BF88>> could not be transformed and will be executed as-is. Please report this to the AutgoGraph team. When filing the bug, set the verbosity to 10 (on Linux, `export AUTOGRAPH_VERBOSITY=10`) and attach the full output. Cause: converting <bound method Dense.call of <tensorflow.python.layers.core.Dense object at 0x000001E437B4BF88>>: AttributeError: module 'gast' has no attribute 'Index'\n",
      "WARNING: Entity <bound method Dense.call of <tensorflow.python.layers.core.Dense object at 0x000001E437B4BF88>> could not be transformed and will be executed as-is. Please report this to the AutgoGraph team. When filing the bug, set the verbosity to 10 (on Linux, `export AUTOGRAPH_VERBOSITY=10`) and attach the full output. Cause: converting <bound method Dense.call of <tensorflow.python.layers.core.Dense object at 0x000001E437B4BF88>>: AttributeError: module 'gast' has no attribute 'Index'\n",
      "WARNING:tensorflow:Entity <bound method Dense.call of <tensorflow.python.layers.core.Dense object at 0x000001E43891A0C8>> could not be transformed and will be executed as-is. Please report this to the AutgoGraph team. When filing the bug, set the verbosity to 10 (on Linux, `export AUTOGRAPH_VERBOSITY=10`) and attach the full output. Cause: converting <bound method Dense.call of <tensorflow.python.layers.core.Dense object at 0x000001E43891A0C8>>: AttributeError: module 'gast' has no attribute 'Index'\n",
      "WARNING: Entity <bound method Dense.call of <tensorflow.python.layers.core.Dense object at 0x000001E43891A0C8>> could not be transformed and will be executed as-is. Please report this to the AutgoGraph team. When filing the bug, set the verbosity to 10 (on Linux, `export AUTOGRAPH_VERBOSITY=10`) and attach the full output. Cause: converting <bound method Dense.call of <tensorflow.python.layers.core.Dense object at 0x000001E43891A0C8>>: AttributeError: module 'gast' has no attribute 'Index'\n",
      "INFO:tensorflow:Restoring parameters from ./decoders/adan/adan\n",
      "WARNING:tensorflow:Entity <bound method Dense.call of <tensorflow.python.layers.core.Dense object at 0x000001E429A28048>> could not be transformed and will be executed as-is. Please report this to the AutgoGraph team. When filing the bug, set the verbosity to 10 (on Linux, `export AUTOGRAPH_VERBOSITY=10`) and attach the full output. Cause: converting <bound method Dense.call of <tensorflow.python.layers.core.Dense object at 0x000001E429A28048>>: AttributeError: module 'gast' has no attribute 'Index'\n",
      "WARNING: Entity <bound method Dense.call of <tensorflow.python.layers.core.Dense object at 0x000001E429A28048>> could not be transformed and will be executed as-is. Please report this to the AutgoGraph team. When filing the bug, set the verbosity to 10 (on Linux, `export AUTOGRAPH_VERBOSITY=10`) and attach the full output. Cause: converting <bound method Dense.call of <tensorflow.python.layers.core.Dense object at 0x000001E429A28048>>: AttributeError: module 'gast' has no attribute 'Index'\n",
      "WARNING:tensorflow:Entity <bound method Dense.call of <tensorflow.python.layers.core.Dense object at 0x000001E429A28048>> could not be transformed and will be executed as-is. Please report this to the AutgoGraph team. When filing the bug, set the verbosity to 10 (on Linux, `export AUTOGRAPH_VERBOSITY=10`) and attach the full output. Cause: converting <bound method Dense.call of <tensorflow.python.layers.core.Dense object at 0x000001E429A28048>>: AttributeError: module 'gast' has no attribute 'Index'\n",
      "WARNING: Entity <bound method Dense.call of <tensorflow.python.layers.core.Dense object at 0x000001E429A28048>> could not be transformed and will be executed as-is. Please report this to the AutgoGraph team. When filing the bug, set the verbosity to 10 (on Linux, `export AUTOGRAPH_VERBOSITY=10`) and attach the full output. Cause: converting <bound method Dense.call of <tensorflow.python.layers.core.Dense object at 0x000001E429A28048>>: AttributeError: module 'gast' has no attribute 'Index'\n",
      "WARNING:tensorflow:Entity <bound method Dense.call of <tensorflow.python.layers.core.Dense object at 0x000001E429A28048>> could not be transformed and will be executed as-is. Please report this to the AutgoGraph team. When filing the bug, set the verbosity to 10 (on Linux, `export AUTOGRAPH_VERBOSITY=10`) and attach the full output. Cause: converting <bound method Dense.call of <tensorflow.python.layers.core.Dense object at 0x000001E429A28048>>: AttributeError: module 'gast' has no attribute 'Index'\n",
      "WARNING: Entity <bound method Dense.call of <tensorflow.python.layers.core.Dense object at 0x000001E429A28048>> could not be transformed and will be executed as-is. Please report this to the AutgoGraph team. When filing the bug, set the verbosity to 10 (on Linux, `export AUTOGRAPH_VERBOSITY=10`) and attach the full output. Cause: converting <bound method Dense.call of <tensorflow.python.layers.core.Dense object at 0x000001E429A28048>>: AttributeError: module 'gast' has no attribute 'Index'\n",
      "WARNING:tensorflow:Entity <bound method Dense.call of <tensorflow.python.layers.core.Dense object at 0x000001E429A28048>> could not be transformed and will be executed as-is. Please report this to the AutgoGraph team. When filing the bug, set the verbosity to 10 (on Linux, `export AUTOGRAPH_VERBOSITY=10`) and attach the full output. Cause: converting <bound method Dense.call of <tensorflow.python.layers.core.Dense object at 0x000001E429A28048>>: AttributeError: module 'gast' has no attribute 'Index'\n",
      "WARNING: Entity <bound method Dense.call of <tensorflow.python.layers.core.Dense object at 0x000001E429A28048>> could not be transformed and will be executed as-is. Please report this to the AutgoGraph team. When filing the bug, set the verbosity to 10 (on Linux, `export AUTOGRAPH_VERBOSITY=10`) and attach the full output. Cause: converting <bound method Dense.call of <tensorflow.python.layers.core.Dense object at 0x000001E429A28048>>: AttributeError: module 'gast' has no attribute 'Index'\n",
      "WARNING:tensorflow:Entity <bound method Dense.call of <tensorflow.python.layers.core.Dense object at 0x000001E429A28048>> could not be transformed and will be executed as-is. Please report this to the AutgoGraph team. When filing the bug, set the verbosity to 10 (on Linux, `export AUTOGRAPH_VERBOSITY=10`) and attach the full output. Cause: converting <bound method Dense.call of <tensorflow.python.layers.core.Dense object at 0x000001E429A28048>>: AttributeError: module 'gast' has no attribute 'Index'\n",
      "WARNING: Entity <bound method Dense.call of <tensorflow.python.layers.core.Dense object at 0x000001E429A28048>> could not be transformed and will be executed as-is. Please report this to the AutgoGraph team. When filing the bug, set the verbosity to 10 (on Linux, `export AUTOGRAPH_VERBOSITY=10`) and attach the full output. Cause: converting <bound method Dense.call of <tensorflow.python.layers.core.Dense object at 0x000001E429A28048>>: AttributeError: module 'gast' has no attribute 'Index'\n",
      "WARNING:tensorflow:Entity <bound method Dense.call of <tensorflow.python.layers.core.Dense object at 0x000001E429A28048>> could not be transformed and will be executed as-is. Please report this to the AutgoGraph team. When filing the bug, set the verbosity to 10 (on Linux, `export AUTOGRAPH_VERBOSITY=10`) and attach the full output. Cause: converting <bound method Dense.call of <tensorflow.python.layers.core.Dense object at 0x000001E429A28048>>: AttributeError: module 'gast' has no attribute 'Index'\n",
      "WARNING: Entity <bound method Dense.call of <tensorflow.python.layers.core.Dense object at 0x000001E429A28048>> could not be transformed and will be executed as-is. Please report this to the AutgoGraph team. When filing the bug, set the verbosity to 10 (on Linux, `export AUTOGRAPH_VERBOSITY=10`) and attach the full output. Cause: converting <bound method Dense.call of <tensorflow.python.layers.core.Dense object at 0x000001E429A28048>>: AttributeError: module 'gast' has no attribute 'Index'\n",
      "INFO:tensorflow:Restoring parameters from ./decoders/adan/1/decoder\n",
      "The day-0 decoder achieved a multi-variate R² of 0.55 on day-k after the process of ADAN\n"
     ]
    }
   ],
   "source": [
    "# ======================== Use function `test_adan_aligner` to process the day-k data =========================#\n",
    "dayk_spike_aligned, dayk_spike_lat_aligned = test_adan_aligner(dayk_spike_[120:], training_params)\n",
    "\n",
    "# ======================== Load the day-0 decoder, and feed it with the processed day-k data =======================#\n",
    "day0_decoder = np.load('./decoders/adan/' + str(best_fold) + '/Day-0 decoder.npy')\n",
    "dayk_spike_lat_aligned_, dayk_EMG_test_ = format_data_from_trials(dayk_spike_lat_aligned, dayk_EMG_[120:], n_lags)\n",
    "pred_dayk_EMG_test_ = test_wiener_filter(dayk_spike_lat_aligned_, day0_decoder)\n",
    "\n",
    "# ======================== Compute the multi-variate r2 between the predictions and the real EMGs =====================#\n",
    "mr2 = r2_score(dayk_EMG_test_, pred_dayk_EMG_test_, multioutput='variance_weighted')\n",
    "mr2 = format(mr2, '.2f')\n",
    "print('The day-0 decoder achieved a multi-variate R\\u00b2 of %s on day-k after the process of ADAN'%(mr2))\n",
    "\n",
    "# ======================== The r2 for individual muscles (for the plotting in the next cell) =========================#\n",
    "r2 = r2_score(dayk_EMG_test_, pred_dayk_EMG_test_, multioutput='raw_values')"
   ]
  },
  {
   "cell_type": "markdown",
   "id": "d7886f05-ee18-480e-95f0-0cc1aa6aba5c",
   "metadata": {},
   "source": [
    "### Let's plot the EMGs predicted by the trained day-0 decoder again, but after day-k spike firing rates being processed by ADAN"
   ]
  },
  {
   "cell_type": "code",
   "execution_count": 20,
   "id": "267c7722-d966-4a4c-b7ee-37cf6ad77507",
   "metadata": {},
   "outputs": [
    {
     "data": {
      "image/png": "[encoded data removed]",
      "text/plain": [
       "<Figure size 500x600 with 7 Axes>"
      ]
     },
     "metadata": {},
     "output_type": "display_data"
    }
   ],
   "source": [
    "from utils import plot_actual_and_pred_EMG\n",
    "\n",
    "plot_actual_and_pred_EMG('Using day-0 decoder to predict EMGs on day-k after the ADAN alignment', \n",
    "                         dayk_spike_lat_aligned, dayk_EMG_[120:], day0_decoder, bin_size, n_lags, 8, r2, dayk_EMG_names, 'green')\n"
   ]
  },
  {
   "cell_type": "markdown",
   "id": "63c10ee3-b261-4f5c-b556-c3c9ba133d44",
   "metadata": {},
   "source": [
    "For each panel, the black traces are real EMGs, and the green traces are the predictions by the day-0 decoder after ADAN alignment. Comparing to a similar figure generated above, the predictions here are much closer to the real signals. Same as above, the numbers are $R^2$ values for individual muscles, and the gray dashed lines separate individual trials."
   ]
  }
 ],
 "metadata": {
  "kernelspec": {
   "display_name": "Python 3 (ipykernel)",
   "language": "python",
   "name": "python3"
  },
  "language_info": {
   "codemirror_mode": {
    "name": "ipython",
    "version": 3
   },
   "file_extension": ".py",
   "mimetype": "text/x-python",
   "name": "python",
   "nbconvert_exporter": "python",
   "pygments_lexer": "ipython3",
   "version": "3.7.16"
  }
 },
 "nbformat": 4,
 "nbformat_minor": 5
}
